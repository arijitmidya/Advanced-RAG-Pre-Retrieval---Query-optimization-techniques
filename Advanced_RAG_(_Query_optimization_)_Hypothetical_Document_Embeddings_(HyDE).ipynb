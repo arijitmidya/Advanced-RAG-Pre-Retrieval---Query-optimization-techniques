{
 "cells": [
  {
   "cell_type": "code",
   "execution_count": 3,
   "id": "LQkkG3XmUPdG",
   "metadata": {
    "colab": {
     "base_uri": "https://localhost:8080/"
    },
    "id": "LQkkG3XmUPdG",
    "outputId": "d21e2665-4afa-4929-a863-50760e876967"
   },
   "outputs": [
    {
     "name": "stdout",
     "output_type": "stream",
     "text": [
      "Requirement already satisfied: openai in /usr/local/lib/python3.10/dist-packages (1.52.2)\n",
      "Requirement already satisfied: anyio<5,>=3.5.0 in /usr/local/lib/python3.10/dist-packages (from openai) (3.7.1)\n",
      "Requirement already satisfied: distro<2,>=1.7.0 in /usr/local/lib/python3.10/dist-packages (from openai) (1.9.0)\n",
      "Requirement already satisfied: httpx<1,>=0.23.0 in /usr/local/lib/python3.10/dist-packages (from openai) (0.27.2)\n",
      "Requirement already satisfied: jiter<1,>=0.4.0 in /usr/local/lib/python3.10/dist-packages (from openai) (0.6.1)\n",
      "Requirement already satisfied: pydantic<3,>=1.9.0 in /usr/local/lib/python3.10/dist-packages (from openai) (2.9.2)\n",
      "Requirement already satisfied: sniffio in /usr/local/lib/python3.10/dist-packages (from openai) (1.3.1)\n",
      "Requirement already satisfied: tqdm>4 in /usr/local/lib/python3.10/dist-packages (from openai) (4.66.6)\n",
      "Requirement already satisfied: typing-extensions<5,>=4.11 in /usr/local/lib/python3.10/dist-packages (from openai) (4.12.2)\n",
      "Requirement already satisfied: idna>=2.8 in /usr/local/lib/python3.10/dist-packages (from anyio<5,>=3.5.0->openai) (3.10)\n",
      "Requirement already satisfied: exceptiongroup in /usr/local/lib/python3.10/dist-packages (from anyio<5,>=3.5.0->openai) (1.2.2)\n",
      "Requirement already satisfied: certifi in /usr/local/lib/python3.10/dist-packages (from httpx<1,>=0.23.0->openai) (2024.8.30)\n",
      "Requirement already satisfied: httpcore==1.* in /usr/local/lib/python3.10/dist-packages (from httpx<1,>=0.23.0->openai) (1.0.6)\n",
      "Requirement already satisfied: h11<0.15,>=0.13 in /usr/local/lib/python3.10/dist-packages (from httpcore==1.*->httpx<1,>=0.23.0->openai) (0.14.0)\n",
      "Requirement already satisfied: annotated-types>=0.6.0 in /usr/local/lib/python3.10/dist-packages (from pydantic<3,>=1.9.0->openai) (0.7.0)\n",
      "Requirement already satisfied: pydantic-core==2.23.4 in /usr/local/lib/python3.10/dist-packages (from pydantic<3,>=1.9.0->openai) (2.23.4)\n"
     ]
    }
   ],
   "source": [
    "! pip install openai"
   ]
  },
  {
   "cell_type": "code",
   "execution_count": 4,
   "id": "XGxKnXsqUV2z",
   "metadata": {
    "colab": {
     "base_uri": "https://localhost:8080/"
    },
    "id": "XGxKnXsqUV2z",
    "outputId": "35b0ca1d-ec8b-42a9-8182-b146759e79f3"
   },
   "outputs": [
    {
     "name": "stdout",
     "output_type": "stream",
     "text": [
      "Requirement already satisfied: langchain_community in /usr/local/lib/python3.10/dist-packages (0.3.5)\n",
      "Requirement already satisfied: PyYAML>=5.3 in /usr/local/lib/python3.10/dist-packages (from langchain_community) (6.0.2)\n",
      "Requirement already satisfied: SQLAlchemy<2.0.36,>=1.4 in /usr/local/lib/python3.10/dist-packages (from langchain_community) (2.0.35)\n",
      "Requirement already satisfied: aiohttp<4.0.0,>=3.8.3 in /usr/local/lib/python3.10/dist-packages (from langchain_community) (3.10.10)\n",
      "Requirement already satisfied: dataclasses-json<0.7,>=0.5.7 in /usr/local/lib/python3.10/dist-packages (from langchain_community) (0.6.7)\n",
      "Requirement already satisfied: httpx-sse<0.5.0,>=0.4.0 in /usr/local/lib/python3.10/dist-packages (from langchain_community) (0.4.0)\n",
      "Requirement already satisfied: langchain<0.4.0,>=0.3.6 in /usr/local/lib/python3.10/dist-packages (from langchain_community) (0.3.7)\n",
      "Requirement already satisfied: langchain-core<0.4.0,>=0.3.15 in /usr/local/lib/python3.10/dist-packages (from langchain_community) (0.3.15)\n",
      "Requirement already satisfied: langsmith<0.2.0,>=0.1.125 in /usr/local/lib/python3.10/dist-packages (from langchain_community) (0.1.137)\n",
      "Requirement already satisfied: numpy<2,>=1 in /usr/local/lib/python3.10/dist-packages (from langchain_community) (1.26.4)\n",
      "Requirement already satisfied: pydantic-settings<3.0.0,>=2.4.0 in /usr/local/lib/python3.10/dist-packages (from langchain_community) (2.6.1)\n",
      "Requirement already satisfied: requests<3,>=2 in /usr/local/lib/python3.10/dist-packages (from langchain_community) (2.32.3)\n",
      "Requirement already satisfied: tenacity!=8.4.0,<10,>=8.1.0 in /usr/local/lib/python3.10/dist-packages (from langchain_community) (9.0.0)\n",
      "Requirement already satisfied: aiohappyeyeballs>=2.3.0 in /usr/local/lib/python3.10/dist-packages (from aiohttp<4.0.0,>=3.8.3->langchain_community) (2.4.3)\n",
      "Requirement already satisfied: aiosignal>=1.1.2 in /usr/local/lib/python3.10/dist-packages (from aiohttp<4.0.0,>=3.8.3->langchain_community) (1.3.1)\n",
      "Requirement already satisfied: attrs>=17.3.0 in /usr/local/lib/python3.10/dist-packages (from aiohttp<4.0.0,>=3.8.3->langchain_community) (24.2.0)\n",
      "Requirement already satisfied: frozenlist>=1.1.1 in /usr/local/lib/python3.10/dist-packages (from aiohttp<4.0.0,>=3.8.3->langchain_community) (1.5.0)\n",
      "Requirement already satisfied: multidict<7.0,>=4.5 in /usr/local/lib/python3.10/dist-packages (from aiohttp<4.0.0,>=3.8.3->langchain_community) (6.1.0)\n",
      "Requirement already satisfied: yarl<2.0,>=1.12.0 in /usr/local/lib/python3.10/dist-packages (from aiohttp<4.0.0,>=3.8.3->langchain_community) (1.17.0)\n",
      "Requirement already satisfied: async-timeout<5.0,>=4.0 in /usr/local/lib/python3.10/dist-packages (from aiohttp<4.0.0,>=3.8.3->langchain_community) (4.0.3)\n",
      "Requirement already satisfied: marshmallow<4.0.0,>=3.18.0 in /usr/local/lib/python3.10/dist-packages (from dataclasses-json<0.7,>=0.5.7->langchain_community) (3.23.1)\n",
      "Requirement already satisfied: typing-inspect<1,>=0.4.0 in /usr/local/lib/python3.10/dist-packages (from dataclasses-json<0.7,>=0.5.7->langchain_community) (0.9.0)\n",
      "Requirement already satisfied: langchain-text-splitters<0.4.0,>=0.3.0 in /usr/local/lib/python3.10/dist-packages (from langchain<0.4.0,>=0.3.6->langchain_community) (0.3.0)\n",
      "Requirement already satisfied: pydantic<3.0.0,>=2.7.4 in /usr/local/lib/python3.10/dist-packages (from langchain<0.4.0,>=0.3.6->langchain_community) (2.9.2)\n",
      "Requirement already satisfied: jsonpatch<2.0,>=1.33 in /usr/local/lib/python3.10/dist-packages (from langchain-core<0.4.0,>=0.3.15->langchain_community) (1.33)\n",
      "Requirement already satisfied: packaging<25,>=23.2 in /usr/local/lib/python3.10/dist-packages (from langchain-core<0.4.0,>=0.3.15->langchain_community) (24.1)\n",
      "Requirement already satisfied: typing-extensions>=4.7 in /usr/local/lib/python3.10/dist-packages (from langchain-core<0.4.0,>=0.3.15->langchain_community) (4.12.2)\n",
      "Requirement already satisfied: httpx<1,>=0.23.0 in /usr/local/lib/python3.10/dist-packages (from langsmith<0.2.0,>=0.1.125->langchain_community) (0.27.2)\n",
      "Requirement already satisfied: orjson<4.0.0,>=3.9.14 in /usr/local/lib/python3.10/dist-packages (from langsmith<0.2.0,>=0.1.125->langchain_community) (3.10.10)\n",
      "Requirement already satisfied: requests-toolbelt<2.0.0,>=1.0.0 in /usr/local/lib/python3.10/dist-packages (from langsmith<0.2.0,>=0.1.125->langchain_community) (1.0.0)\n",
      "Requirement already satisfied: python-dotenv>=0.21.0 in /usr/local/lib/python3.10/dist-packages (from pydantic-settings<3.0.0,>=2.4.0->langchain_community) (1.0.1)\n",
      "Requirement already satisfied: charset-normalizer<4,>=2 in /usr/local/lib/python3.10/dist-packages (from requests<3,>=2->langchain_community) (3.4.0)\n",
      "Requirement already satisfied: idna<4,>=2.5 in /usr/local/lib/python3.10/dist-packages (from requests<3,>=2->langchain_community) (3.10)\n",
      "Requirement already satisfied: urllib3<3,>=1.21.1 in /usr/local/lib/python3.10/dist-packages (from requests<3,>=2->langchain_community) (2.2.3)\n",
      "Requirement already satisfied: certifi>=2017.4.17 in /usr/local/lib/python3.10/dist-packages (from requests<3,>=2->langchain_community) (2024.8.30)\n",
      "Requirement already satisfied: greenlet!=0.4.17 in /usr/local/lib/python3.10/dist-packages (from SQLAlchemy<2.0.36,>=1.4->langchain_community) (3.1.1)\n",
      "Requirement already satisfied: anyio in /usr/local/lib/python3.10/dist-packages (from httpx<1,>=0.23.0->langsmith<0.2.0,>=0.1.125->langchain_community) (3.7.1)\n",
      "Requirement already satisfied: httpcore==1.* in /usr/local/lib/python3.10/dist-packages (from httpx<1,>=0.23.0->langsmith<0.2.0,>=0.1.125->langchain_community) (1.0.6)\n",
      "Requirement already satisfied: sniffio in /usr/local/lib/python3.10/dist-packages (from httpx<1,>=0.23.0->langsmith<0.2.0,>=0.1.125->langchain_community) (1.3.1)\n",
      "Requirement already satisfied: h11<0.15,>=0.13 in /usr/local/lib/python3.10/dist-packages (from httpcore==1.*->httpx<1,>=0.23.0->langsmith<0.2.0,>=0.1.125->langchain_community) (0.14.0)\n",
      "Requirement already satisfied: jsonpointer>=1.9 in /usr/local/lib/python3.10/dist-packages (from jsonpatch<2.0,>=1.33->langchain-core<0.4.0,>=0.3.15->langchain_community) (3.0.0)\n",
      "Requirement already satisfied: annotated-types>=0.6.0 in /usr/local/lib/python3.10/dist-packages (from pydantic<3.0.0,>=2.7.4->langchain<0.4.0,>=0.3.6->langchain_community) (0.7.0)\n",
      "Requirement already satisfied: pydantic-core==2.23.4 in /usr/local/lib/python3.10/dist-packages (from pydantic<3.0.0,>=2.7.4->langchain<0.4.0,>=0.3.6->langchain_community) (2.23.4)\n",
      "Requirement already satisfied: mypy-extensions>=0.3.0 in /usr/local/lib/python3.10/dist-packages (from typing-inspect<1,>=0.4.0->dataclasses-json<0.7,>=0.5.7->langchain_community) (1.0.0)\n",
      "Requirement already satisfied: propcache>=0.2.0 in /usr/local/lib/python3.10/dist-packages (from yarl<2.0,>=1.12.0->aiohttp<4.0.0,>=3.8.3->langchain_community) (0.2.0)\n",
      "Requirement already satisfied: exceptiongroup in /usr/local/lib/python3.10/dist-packages (from anyio->httpx<1,>=0.23.0->langsmith<0.2.0,>=0.1.125->langchain_community) (1.2.2)\n"
     ]
    }
   ],
   "source": [
    "! pip install langchain_community"
   ]
  },
  {
   "cell_type": "code",
   "execution_count": 5,
   "id": "uFxAgs6dUa27",
   "metadata": {
    "colab": {
     "base_uri": "https://localhost:8080/"
    },
    "id": "uFxAgs6dUa27",
    "outputId": "d43d4453-3140-4738-e4df-f4b18bbe010d"
   },
   "outputs": [
    {
     "name": "stdout",
     "output_type": "stream",
     "text": [
      "Collecting langchain_chroma\n",
      "  Downloading langchain_chroma-0.1.4-py3-none-any.whl.metadata (1.6 kB)\n",
      "Requirement already satisfied: chromadb!=0.5.4,!=0.5.5,<0.6.0,>=0.4.0 in /usr/local/lib/python3.10/dist-packages (from langchain_chroma) (0.5.17)\n",
      "Requirement already satisfied: fastapi<1,>=0.95.2 in /usr/local/lib/python3.10/dist-packages (from langchain_chroma) (0.115.4)\n",
      "Requirement already satisfied: langchain-core<0.4,>=0.1.40 in /usr/local/lib/python3.10/dist-packages (from langchain_chroma) (0.3.15)\n",
      "Requirement already satisfied: numpy<2,>=1 in /usr/local/lib/python3.10/dist-packages (from langchain_chroma) (1.26.4)\n",
      "Requirement already satisfied: build>=1.0.3 in /usr/local/lib/python3.10/dist-packages (from chromadb!=0.5.4,!=0.5.5,<0.6.0,>=0.4.0->langchain_chroma) (1.2.2.post1)\n",
      "Requirement already satisfied: pydantic>=1.9 in /usr/local/lib/python3.10/dist-packages (from chromadb!=0.5.4,!=0.5.5,<0.6.0,>=0.4.0->langchain_chroma) (2.9.2)\n",
      "Requirement already satisfied: chroma-hnswlib==0.7.6 in /usr/local/lib/python3.10/dist-packages (from chromadb!=0.5.4,!=0.5.5,<0.6.0,>=0.4.0->langchain_chroma) (0.7.6)\n",
      "Requirement already satisfied: uvicorn>=0.18.3 in /usr/local/lib/python3.10/dist-packages (from uvicorn[standard]>=0.18.3->chromadb!=0.5.4,!=0.5.5,<0.6.0,>=0.4.0->langchain_chroma) (0.32.0)\n",
      "Requirement already satisfied: posthog>=2.4.0 in /usr/local/lib/python3.10/dist-packages (from chromadb!=0.5.4,!=0.5.5,<0.6.0,>=0.4.0->langchain_chroma) (3.7.0)\n",
      "Requirement already satisfied: typing-extensions>=4.5.0 in /usr/local/lib/python3.10/dist-packages (from chromadb!=0.5.4,!=0.5.5,<0.6.0,>=0.4.0->langchain_chroma) (4.12.2)\n",
      "Requirement already satisfied: onnxruntime>=1.14.1 in /usr/local/lib/python3.10/dist-packages (from chromadb!=0.5.4,!=0.5.5,<0.6.0,>=0.4.0->langchain_chroma) (1.20.0)\n",
      "Requirement already satisfied: opentelemetry-api>=1.2.0 in /usr/local/lib/python3.10/dist-packages (from chromadb!=0.5.4,!=0.5.5,<0.6.0,>=0.4.0->langchain_chroma) (1.27.0)\n",
      "Requirement already satisfied: opentelemetry-exporter-otlp-proto-grpc>=1.2.0 in /usr/local/lib/python3.10/dist-packages (from chromadb!=0.5.4,!=0.5.5,<0.6.0,>=0.4.0->langchain_chroma) (1.27.0)\n",
      "Requirement already satisfied: opentelemetry-instrumentation-fastapi>=0.41b0 in /usr/local/lib/python3.10/dist-packages (from chromadb!=0.5.4,!=0.5.5,<0.6.0,>=0.4.0->langchain_chroma) (0.48b0)\n",
      "Requirement already satisfied: opentelemetry-sdk>=1.2.0 in /usr/local/lib/python3.10/dist-packages (from chromadb!=0.5.4,!=0.5.5,<0.6.0,>=0.4.0->langchain_chroma) (1.27.0)\n",
      "Requirement already satisfied: tokenizers>=0.13.2 in /usr/local/lib/python3.10/dist-packages (from chromadb!=0.5.4,!=0.5.5,<0.6.0,>=0.4.0->langchain_chroma) (0.19.1)\n",
      "Requirement already satisfied: pypika>=0.48.9 in /usr/local/lib/python3.10/dist-packages (from chromadb!=0.5.4,!=0.5.5,<0.6.0,>=0.4.0->langchain_chroma) (0.48.9)\n",
      "Requirement already satisfied: tqdm>=4.65.0 in /usr/local/lib/python3.10/dist-packages (from chromadb!=0.5.4,!=0.5.5,<0.6.0,>=0.4.0->langchain_chroma) (4.66.6)\n",
      "Requirement already satisfied: overrides>=7.3.1 in /usr/local/lib/python3.10/dist-packages (from chromadb!=0.5.4,!=0.5.5,<0.6.0,>=0.4.0->langchain_chroma) (7.7.0)\n",
      "Requirement already satisfied: importlib-resources in /usr/local/lib/python3.10/dist-packages (from chromadb!=0.5.4,!=0.5.5,<0.6.0,>=0.4.0->langchain_chroma) (6.4.5)\n",
      "Requirement already satisfied: grpcio>=1.58.0 in /usr/local/lib/python3.10/dist-packages (from chromadb!=0.5.4,!=0.5.5,<0.6.0,>=0.4.0->langchain_chroma) (1.64.1)\n",
      "Requirement already satisfied: bcrypt>=4.0.1 in /usr/local/lib/python3.10/dist-packages (from chromadb!=0.5.4,!=0.5.5,<0.6.0,>=0.4.0->langchain_chroma) (4.2.0)\n",
      "Requirement already satisfied: typer>=0.9.0 in /usr/local/lib/python3.10/dist-packages (from chromadb!=0.5.4,!=0.5.5,<0.6.0,>=0.4.0->langchain_chroma) (0.12.5)\n",
      "Requirement already satisfied: kubernetes>=28.1.0 in /usr/local/lib/python3.10/dist-packages (from chromadb!=0.5.4,!=0.5.5,<0.6.0,>=0.4.0->langchain_chroma) (31.0.0)\n",
      "Requirement already satisfied: tenacity>=8.2.3 in /usr/local/lib/python3.10/dist-packages (from chromadb!=0.5.4,!=0.5.5,<0.6.0,>=0.4.0->langchain_chroma) (9.0.0)\n",
      "Requirement already satisfied: PyYAML>=6.0.0 in /usr/local/lib/python3.10/dist-packages (from chromadb!=0.5.4,!=0.5.5,<0.6.0,>=0.4.0->langchain_chroma) (6.0.2)\n",
      "Requirement already satisfied: mmh3>=4.0.1 in /usr/local/lib/python3.10/dist-packages (from chromadb!=0.5.4,!=0.5.5,<0.6.0,>=0.4.0->langchain_chroma) (5.0.1)\n",
      "Requirement already satisfied: orjson>=3.9.12 in /usr/local/lib/python3.10/dist-packages (from chromadb!=0.5.4,!=0.5.5,<0.6.0,>=0.4.0->langchain_chroma) (3.10.10)\n",
      "Requirement already satisfied: httpx>=0.27.0 in /usr/local/lib/python3.10/dist-packages (from chromadb!=0.5.4,!=0.5.5,<0.6.0,>=0.4.0->langchain_chroma) (0.27.2)\n",
      "Requirement already satisfied: rich>=10.11.0 in /usr/local/lib/python3.10/dist-packages (from chromadb!=0.5.4,!=0.5.5,<0.6.0,>=0.4.0->langchain_chroma) (13.9.3)\n",
      "Requirement already satisfied: starlette<0.42.0,>=0.40.0 in /usr/local/lib/python3.10/dist-packages (from fastapi<1,>=0.95.2->langchain_chroma) (0.41.2)\n",
      "Requirement already satisfied: jsonpatch<2.0,>=1.33 in /usr/local/lib/python3.10/dist-packages (from langchain-core<0.4,>=0.1.40->langchain_chroma) (1.33)\n",
      "Requirement already satisfied: langsmith<0.2.0,>=0.1.125 in /usr/local/lib/python3.10/dist-packages (from langchain-core<0.4,>=0.1.40->langchain_chroma) (0.1.137)\n",
      "Requirement already satisfied: packaging<25,>=23.2 in /usr/local/lib/python3.10/dist-packages (from langchain-core<0.4,>=0.1.40->langchain_chroma) (24.1)\n",
      "Requirement already satisfied: pyproject_hooks in /usr/local/lib/python3.10/dist-packages (from build>=1.0.3->chromadb!=0.5.4,!=0.5.5,<0.6.0,>=0.4.0->langchain_chroma) (1.2.0)\n",
      "Requirement already satisfied: tomli>=1.1.0 in /usr/local/lib/python3.10/dist-packages (from build>=1.0.3->chromadb!=0.5.4,!=0.5.5,<0.6.0,>=0.4.0->langchain_chroma) (2.0.2)\n",
      "Requirement already satisfied: anyio in /usr/local/lib/python3.10/dist-packages (from httpx>=0.27.0->chromadb!=0.5.4,!=0.5.5,<0.6.0,>=0.4.0->langchain_chroma) (3.7.1)\n",
      "Requirement already satisfied: certifi in /usr/local/lib/python3.10/dist-packages (from httpx>=0.27.0->chromadb!=0.5.4,!=0.5.5,<0.6.0,>=0.4.0->langchain_chroma) (2024.8.30)\n",
      "Requirement already satisfied: httpcore==1.* in /usr/local/lib/python3.10/dist-packages (from httpx>=0.27.0->chromadb!=0.5.4,!=0.5.5,<0.6.0,>=0.4.0->langchain_chroma) (1.0.6)\n",
      "Requirement already satisfied: idna in /usr/local/lib/python3.10/dist-packages (from httpx>=0.27.0->chromadb!=0.5.4,!=0.5.5,<0.6.0,>=0.4.0->langchain_chroma) (3.10)\n",
      "Requirement already satisfied: sniffio in /usr/local/lib/python3.10/dist-packages (from httpx>=0.27.0->chromadb!=0.5.4,!=0.5.5,<0.6.0,>=0.4.0->langchain_chroma) (1.3.1)\n",
      "Requirement already satisfied: h11<0.15,>=0.13 in /usr/local/lib/python3.10/dist-packages (from httpcore==1.*->httpx>=0.27.0->chromadb!=0.5.4,!=0.5.5,<0.6.0,>=0.4.0->langchain_chroma) (0.14.0)\n",
      "Requirement already satisfied: jsonpointer>=1.9 in /usr/local/lib/python3.10/dist-packages (from jsonpatch<2.0,>=1.33->langchain-core<0.4,>=0.1.40->langchain_chroma) (3.0.0)\n",
      "Requirement already satisfied: six>=1.9.0 in /usr/local/lib/python3.10/dist-packages (from kubernetes>=28.1.0->chromadb!=0.5.4,!=0.5.5,<0.6.0,>=0.4.0->langchain_chroma) (1.16.0)\n",
      "Requirement already satisfied: python-dateutil>=2.5.3 in /usr/local/lib/python3.10/dist-packages (from kubernetes>=28.1.0->chromadb!=0.5.4,!=0.5.5,<0.6.0,>=0.4.0->langchain_chroma) (2.8.2)\n",
      "Requirement already satisfied: google-auth>=1.0.1 in /usr/local/lib/python3.10/dist-packages (from kubernetes>=28.1.0->chromadb!=0.5.4,!=0.5.5,<0.6.0,>=0.4.0->langchain_chroma) (2.27.0)\n",
      "Requirement already satisfied: websocket-client!=0.40.0,!=0.41.*,!=0.42.*,>=0.32.0 in /usr/local/lib/python3.10/dist-packages (from kubernetes>=28.1.0->chromadb!=0.5.4,!=0.5.5,<0.6.0,>=0.4.0->langchain_chroma) (1.8.0)\n",
      "Requirement already satisfied: requests in /usr/local/lib/python3.10/dist-packages (from kubernetes>=28.1.0->chromadb!=0.5.4,!=0.5.5,<0.6.0,>=0.4.0->langchain_chroma) (2.32.3)\n",
      "Requirement already satisfied: requests-oauthlib in /usr/local/lib/python3.10/dist-packages (from kubernetes>=28.1.0->chromadb!=0.5.4,!=0.5.5,<0.6.0,>=0.4.0->langchain_chroma) (1.3.1)\n",
      "Requirement already satisfied: oauthlib>=3.2.2 in /usr/local/lib/python3.10/dist-packages (from kubernetes>=28.1.0->chromadb!=0.5.4,!=0.5.5,<0.6.0,>=0.4.0->langchain_chroma) (3.2.2)\n",
      "Requirement already satisfied: urllib3>=1.24.2 in /usr/local/lib/python3.10/dist-packages (from kubernetes>=28.1.0->chromadb!=0.5.4,!=0.5.5,<0.6.0,>=0.4.0->langchain_chroma) (2.2.3)\n",
      "Requirement already satisfied: durationpy>=0.7 in /usr/local/lib/python3.10/dist-packages (from kubernetes>=28.1.0->chromadb!=0.5.4,!=0.5.5,<0.6.0,>=0.4.0->langchain_chroma) (0.9)\n",
      "Requirement already satisfied: requests-toolbelt<2.0.0,>=1.0.0 in /usr/local/lib/python3.10/dist-packages (from langsmith<0.2.0,>=0.1.125->langchain-core<0.4,>=0.1.40->langchain_chroma) (1.0.0)\n",
      "Requirement already satisfied: coloredlogs in /usr/local/lib/python3.10/dist-packages (from onnxruntime>=1.14.1->chromadb!=0.5.4,!=0.5.5,<0.6.0,>=0.4.0->langchain_chroma) (15.0.1)\n",
      "Requirement already satisfied: flatbuffers in /usr/local/lib/python3.10/dist-packages (from onnxruntime>=1.14.1->chromadb!=0.5.4,!=0.5.5,<0.6.0,>=0.4.0->langchain_chroma) (24.3.25)\n",
      "Requirement already satisfied: protobuf in /usr/local/lib/python3.10/dist-packages (from onnxruntime>=1.14.1->chromadb!=0.5.4,!=0.5.5,<0.6.0,>=0.4.0->langchain_chroma) (3.20.3)\n",
      "Requirement already satisfied: sympy in /usr/local/lib/python3.10/dist-packages (from onnxruntime>=1.14.1->chromadb!=0.5.4,!=0.5.5,<0.6.0,>=0.4.0->langchain_chroma) (1.13.1)\n",
      "Requirement already satisfied: deprecated>=1.2.6 in /usr/local/lib/python3.10/dist-packages (from opentelemetry-api>=1.2.0->chromadb!=0.5.4,!=0.5.5,<0.6.0,>=0.4.0->langchain_chroma) (1.2.14)\n",
      "Requirement already satisfied: importlib-metadata<=8.4.0,>=6.0 in /usr/local/lib/python3.10/dist-packages (from opentelemetry-api>=1.2.0->chromadb!=0.5.4,!=0.5.5,<0.6.0,>=0.4.0->langchain_chroma) (8.4.0)\n",
      "Requirement already satisfied: googleapis-common-protos~=1.52 in /usr/local/lib/python3.10/dist-packages (from opentelemetry-exporter-otlp-proto-grpc>=1.2.0->chromadb!=0.5.4,!=0.5.5,<0.6.0,>=0.4.0->langchain_chroma) (1.65.0)\n",
      "Requirement already satisfied: opentelemetry-exporter-otlp-proto-common==1.27.0 in /usr/local/lib/python3.10/dist-packages (from opentelemetry-exporter-otlp-proto-grpc>=1.2.0->chromadb!=0.5.4,!=0.5.5,<0.6.0,>=0.4.0->langchain_chroma) (1.27.0)\n",
      "Requirement already satisfied: opentelemetry-proto==1.27.0 in /usr/local/lib/python3.10/dist-packages (from opentelemetry-exporter-otlp-proto-grpc>=1.2.0->chromadb!=0.5.4,!=0.5.5,<0.6.0,>=0.4.0->langchain_chroma) (1.27.0)\n",
      "Requirement already satisfied: opentelemetry-instrumentation-asgi==0.48b0 in /usr/local/lib/python3.10/dist-packages (from opentelemetry-instrumentation-fastapi>=0.41b0->chromadb!=0.5.4,!=0.5.5,<0.6.0,>=0.4.0->langchain_chroma) (0.48b0)\n",
      "Requirement already satisfied: opentelemetry-instrumentation==0.48b0 in /usr/local/lib/python3.10/dist-packages (from opentelemetry-instrumentation-fastapi>=0.41b0->chromadb!=0.5.4,!=0.5.5,<0.6.0,>=0.4.0->langchain_chroma) (0.48b0)\n",
      "Requirement already satisfied: opentelemetry-semantic-conventions==0.48b0 in /usr/local/lib/python3.10/dist-packages (from opentelemetry-instrumentation-fastapi>=0.41b0->chromadb!=0.5.4,!=0.5.5,<0.6.0,>=0.4.0->langchain_chroma) (0.48b0)\n",
      "Requirement already satisfied: opentelemetry-util-http==0.48b0 in /usr/local/lib/python3.10/dist-packages (from opentelemetry-instrumentation-fastapi>=0.41b0->chromadb!=0.5.4,!=0.5.5,<0.6.0,>=0.4.0->langchain_chroma) (0.48b0)\n",
      "Requirement already satisfied: setuptools>=16.0 in /usr/local/lib/python3.10/dist-packages (from opentelemetry-instrumentation==0.48b0->opentelemetry-instrumentation-fastapi>=0.41b0->chromadb!=0.5.4,!=0.5.5,<0.6.0,>=0.4.0->langchain_chroma) (75.1.0)\n",
      "Requirement already satisfied: wrapt<2.0.0,>=1.0.0 in /usr/local/lib/python3.10/dist-packages (from opentelemetry-instrumentation==0.48b0->opentelemetry-instrumentation-fastapi>=0.41b0->chromadb!=0.5.4,!=0.5.5,<0.6.0,>=0.4.0->langchain_chroma) (1.16.0)\n",
      "Requirement already satisfied: asgiref~=3.0 in /usr/local/lib/python3.10/dist-packages (from opentelemetry-instrumentation-asgi==0.48b0->opentelemetry-instrumentation-fastapi>=0.41b0->chromadb!=0.5.4,!=0.5.5,<0.6.0,>=0.4.0->langchain_chroma) (3.8.1)\n",
      "Requirement already satisfied: monotonic>=1.5 in /usr/local/lib/python3.10/dist-packages (from posthog>=2.4.0->chromadb!=0.5.4,!=0.5.5,<0.6.0,>=0.4.0->langchain_chroma) (1.6)\n",
      "Requirement already satisfied: backoff>=1.10.0 in /usr/local/lib/python3.10/dist-packages (from posthog>=2.4.0->chromadb!=0.5.4,!=0.5.5,<0.6.0,>=0.4.0->langchain_chroma) (2.2.1)\n",
      "Requirement already satisfied: annotated-types>=0.6.0 in /usr/local/lib/python3.10/dist-packages (from pydantic>=1.9->chromadb!=0.5.4,!=0.5.5,<0.6.0,>=0.4.0->langchain_chroma) (0.7.0)\n",
      "Requirement already satisfied: pydantic-core==2.23.4 in /usr/local/lib/python3.10/dist-packages (from pydantic>=1.9->chromadb!=0.5.4,!=0.5.5,<0.6.0,>=0.4.0->langchain_chroma) (2.23.4)\n",
      "Requirement already satisfied: markdown-it-py>=2.2.0 in /usr/local/lib/python3.10/dist-packages (from rich>=10.11.0->chromadb!=0.5.4,!=0.5.5,<0.6.0,>=0.4.0->langchain_chroma) (3.0.0)\n",
      "Requirement already satisfied: pygments<3.0.0,>=2.13.0 in /usr/local/lib/python3.10/dist-packages (from rich>=10.11.0->chromadb!=0.5.4,!=0.5.5,<0.6.0,>=0.4.0->langchain_chroma) (2.18.0)\n",
      "Requirement already satisfied: huggingface-hub<1.0,>=0.16.4 in /usr/local/lib/python3.10/dist-packages (from tokenizers>=0.13.2->chromadb!=0.5.4,!=0.5.5,<0.6.0,>=0.4.0->langchain_chroma) (0.24.7)\n",
      "Requirement already satisfied: click>=8.0.0 in /usr/local/lib/python3.10/dist-packages (from typer>=0.9.0->chromadb!=0.5.4,!=0.5.5,<0.6.0,>=0.4.0->langchain_chroma) (8.1.7)\n",
      "Requirement already satisfied: shellingham>=1.3.0 in /usr/local/lib/python3.10/dist-packages (from typer>=0.9.0->chromadb!=0.5.4,!=0.5.5,<0.6.0,>=0.4.0->langchain_chroma) (1.5.4)\n",
      "Requirement already satisfied: httptools>=0.5.0 in /usr/local/lib/python3.10/dist-packages (from uvicorn[standard]>=0.18.3->chromadb!=0.5.4,!=0.5.5,<0.6.0,>=0.4.0->langchain_chroma) (0.6.4)\n",
      "Requirement already satisfied: python-dotenv>=0.13 in /usr/local/lib/python3.10/dist-packages (from uvicorn[standard]>=0.18.3->chromadb!=0.5.4,!=0.5.5,<0.6.0,>=0.4.0->langchain_chroma) (1.0.1)\n",
      "Requirement already satisfied: uvloop!=0.15.0,!=0.15.1,>=0.14.0 in /usr/local/lib/python3.10/dist-packages (from uvicorn[standard]>=0.18.3->chromadb!=0.5.4,!=0.5.5,<0.6.0,>=0.4.0->langchain_chroma) (0.21.0)\n",
      "Requirement already satisfied: watchfiles>=0.13 in /usr/local/lib/python3.10/dist-packages (from uvicorn[standard]>=0.18.3->chromadb!=0.5.4,!=0.5.5,<0.6.0,>=0.4.0->langchain_chroma) (0.24.0)\n",
      "Requirement already satisfied: websockets>=10.4 in /usr/local/lib/python3.10/dist-packages (from uvicorn[standard]>=0.18.3->chromadb!=0.5.4,!=0.5.5,<0.6.0,>=0.4.0->langchain_chroma) (13.1)\n",
      "Requirement already satisfied: exceptiongroup in /usr/local/lib/python3.10/dist-packages (from anyio->httpx>=0.27.0->chromadb!=0.5.4,!=0.5.5,<0.6.0,>=0.4.0->langchain_chroma) (1.2.2)\n",
      "Requirement already satisfied: cachetools<6.0,>=2.0.0 in /usr/local/lib/python3.10/dist-packages (from google-auth>=1.0.1->kubernetes>=28.1.0->chromadb!=0.5.4,!=0.5.5,<0.6.0,>=0.4.0->langchain_chroma) (5.5.0)\n",
      "Requirement already satisfied: pyasn1-modules>=0.2.1 in /usr/local/lib/python3.10/dist-packages (from google-auth>=1.0.1->kubernetes>=28.1.0->chromadb!=0.5.4,!=0.5.5,<0.6.0,>=0.4.0->langchain_chroma) (0.4.1)\n",
      "Requirement already satisfied: rsa<5,>=3.1.4 in /usr/local/lib/python3.10/dist-packages (from google-auth>=1.0.1->kubernetes>=28.1.0->chromadb!=0.5.4,!=0.5.5,<0.6.0,>=0.4.0->langchain_chroma) (4.9)\n",
      "Requirement already satisfied: filelock in /usr/local/lib/python3.10/dist-packages (from huggingface-hub<1.0,>=0.16.4->tokenizers>=0.13.2->chromadb!=0.5.4,!=0.5.5,<0.6.0,>=0.4.0->langchain_chroma) (3.16.1)\n",
      "Requirement already satisfied: fsspec>=2023.5.0 in /usr/local/lib/python3.10/dist-packages (from huggingface-hub<1.0,>=0.16.4->tokenizers>=0.13.2->chromadb!=0.5.4,!=0.5.5,<0.6.0,>=0.4.0->langchain_chroma) (2024.10.0)\n",
      "Requirement already satisfied: zipp>=0.5 in /usr/local/lib/python3.10/dist-packages (from importlib-metadata<=8.4.0,>=6.0->opentelemetry-api>=1.2.0->chromadb!=0.5.4,!=0.5.5,<0.6.0,>=0.4.0->langchain_chroma) (3.20.2)\n",
      "Requirement already satisfied: mdurl~=0.1 in /usr/local/lib/python3.10/dist-packages (from markdown-it-py>=2.2.0->rich>=10.11.0->chromadb!=0.5.4,!=0.5.5,<0.6.0,>=0.4.0->langchain_chroma) (0.1.2)\n",
      "Requirement already satisfied: charset-normalizer<4,>=2 in /usr/local/lib/python3.10/dist-packages (from requests->kubernetes>=28.1.0->chromadb!=0.5.4,!=0.5.5,<0.6.0,>=0.4.0->langchain_chroma) (3.4.0)\n",
      "Requirement already satisfied: humanfriendly>=9.1 in /usr/local/lib/python3.10/dist-packages (from coloredlogs->onnxruntime>=1.14.1->chromadb!=0.5.4,!=0.5.5,<0.6.0,>=0.4.0->langchain_chroma) (10.0)\n",
      "Requirement already satisfied: mpmath<1.4,>=1.1.0 in /usr/local/lib/python3.10/dist-packages (from sympy->onnxruntime>=1.14.1->chromadb!=0.5.4,!=0.5.5,<0.6.0,>=0.4.0->langchain_chroma) (1.3.0)\n",
      "Requirement already satisfied: pyasn1<0.7.0,>=0.4.6 in /usr/local/lib/python3.10/dist-packages (from pyasn1-modules>=0.2.1->google-auth>=1.0.1->kubernetes>=28.1.0->chromadb!=0.5.4,!=0.5.5,<0.6.0,>=0.4.0->langchain_chroma) (0.6.1)\n",
      "Downloading langchain_chroma-0.1.4-py3-none-any.whl (10 kB)\n",
      "Installing collected packages: langchain_chroma\n",
      "Successfully installed langchain_chroma-0.1.4\n"
     ]
    }
   ],
   "source": [
    "! pip install langchain_chroma"
   ]
  },
  {
   "cell_type": "code",
   "execution_count": 4,
   "id": "e9SV7M_TYckt",
   "metadata": {
    "colab": {
     "base_uri": "https://localhost:8080/"
    },
    "id": "e9SV7M_TYckt",
    "outputId": "0574adb7-e497-4b1e-bd51-584a92183f2e"
   },
   "outputs": [
    {
     "name": "stdout",
     "output_type": "stream",
     "text": [
      "Collecting langchain_openai\n",
      "  Downloading langchain_openai-0.2.5-py3-none-any.whl.metadata (2.6 kB)\n",
      "Requirement already satisfied: langchain-core<0.4.0,>=0.3.15 in /usr/local/lib/python3.10/dist-packages (from langchain_openai) (0.3.15)\n",
      "Requirement already satisfied: openai<2.0.0,>=1.52.0 in /usr/local/lib/python3.10/dist-packages (from langchain_openai) (1.52.2)\n",
      "Collecting tiktoken<1,>=0.7 (from langchain_openai)\n",
      "  Downloading tiktoken-0.8.0-cp310-cp310-manylinux_2_17_x86_64.manylinux2014_x86_64.whl.metadata (6.6 kB)\n",
      "Requirement already satisfied: PyYAML>=5.3 in /usr/local/lib/python3.10/dist-packages (from langchain-core<0.4.0,>=0.3.15->langchain_openai) (6.0.2)\n",
      "Requirement already satisfied: jsonpatch<2.0,>=1.33 in /usr/local/lib/python3.10/dist-packages (from langchain-core<0.4.0,>=0.3.15->langchain_openai) (1.33)\n",
      "Requirement already satisfied: langsmith<0.2.0,>=0.1.125 in /usr/local/lib/python3.10/dist-packages (from langchain-core<0.4.0,>=0.3.15->langchain_openai) (0.1.137)\n",
      "Requirement already satisfied: packaging<25,>=23.2 in /usr/local/lib/python3.10/dist-packages (from langchain-core<0.4.0,>=0.3.15->langchain_openai) (24.1)\n",
      "Requirement already satisfied: pydantic<3.0.0,>=2.5.2 in /usr/local/lib/python3.10/dist-packages (from langchain-core<0.4.0,>=0.3.15->langchain_openai) (2.9.2)\n",
      "Requirement already satisfied: tenacity!=8.4.0,<10.0.0,>=8.1.0 in /usr/local/lib/python3.10/dist-packages (from langchain-core<0.4.0,>=0.3.15->langchain_openai) (9.0.0)\n",
      "Requirement already satisfied: typing-extensions>=4.7 in /usr/local/lib/python3.10/dist-packages (from langchain-core<0.4.0,>=0.3.15->langchain_openai) (4.12.2)\n",
      "Requirement already satisfied: anyio<5,>=3.5.0 in /usr/local/lib/python3.10/dist-packages (from openai<2.0.0,>=1.52.0->langchain_openai) (3.7.1)\n",
      "Requirement already satisfied: distro<2,>=1.7.0 in /usr/local/lib/python3.10/dist-packages (from openai<2.0.0,>=1.52.0->langchain_openai) (1.9.0)\n",
      "Requirement already satisfied: httpx<1,>=0.23.0 in /usr/local/lib/python3.10/dist-packages (from openai<2.0.0,>=1.52.0->langchain_openai) (0.27.2)\n",
      "Requirement already satisfied: jiter<1,>=0.4.0 in /usr/local/lib/python3.10/dist-packages (from openai<2.0.0,>=1.52.0->langchain_openai) (0.6.1)\n",
      "Requirement already satisfied: sniffio in /usr/local/lib/python3.10/dist-packages (from openai<2.0.0,>=1.52.0->langchain_openai) (1.3.1)\n",
      "Requirement already satisfied: tqdm>4 in /usr/local/lib/python3.10/dist-packages (from openai<2.0.0,>=1.52.0->langchain_openai) (4.66.6)\n",
      "Requirement already satisfied: regex>=2022.1.18 in /usr/local/lib/python3.10/dist-packages (from tiktoken<1,>=0.7->langchain_openai) (2024.9.11)\n",
      "Requirement already satisfied: requests>=2.26.0 in /usr/local/lib/python3.10/dist-packages (from tiktoken<1,>=0.7->langchain_openai) (2.32.3)\n",
      "Requirement already satisfied: idna>=2.8 in /usr/local/lib/python3.10/dist-packages (from anyio<5,>=3.5.0->openai<2.0.0,>=1.52.0->langchain_openai) (3.10)\n",
      "Requirement already satisfied: exceptiongroup in /usr/local/lib/python3.10/dist-packages (from anyio<5,>=3.5.0->openai<2.0.0,>=1.52.0->langchain_openai) (1.2.2)\n",
      "Requirement already satisfied: certifi in /usr/local/lib/python3.10/dist-packages (from httpx<1,>=0.23.0->openai<2.0.0,>=1.52.0->langchain_openai) (2024.8.30)\n",
      "Requirement already satisfied: httpcore==1.* in /usr/local/lib/python3.10/dist-packages (from httpx<1,>=0.23.0->openai<2.0.0,>=1.52.0->langchain_openai) (1.0.6)\n",
      "Requirement already satisfied: h11<0.15,>=0.13 in /usr/local/lib/python3.10/dist-packages (from httpcore==1.*->httpx<1,>=0.23.0->openai<2.0.0,>=1.52.0->langchain_openai) (0.14.0)\n",
      "Requirement already satisfied: jsonpointer>=1.9 in /usr/local/lib/python3.10/dist-packages (from jsonpatch<2.0,>=1.33->langchain-core<0.4.0,>=0.3.15->langchain_openai) (3.0.0)\n",
      "Requirement already satisfied: orjson<4.0.0,>=3.9.14 in /usr/local/lib/python3.10/dist-packages (from langsmith<0.2.0,>=0.1.125->langchain-core<0.4.0,>=0.3.15->langchain_openai) (3.10.10)\n",
      "Requirement already satisfied: requests-toolbelt<2.0.0,>=1.0.0 in /usr/local/lib/python3.10/dist-packages (from langsmith<0.2.0,>=0.1.125->langchain-core<0.4.0,>=0.3.15->langchain_openai) (1.0.0)\n",
      "Requirement already satisfied: annotated-types>=0.6.0 in /usr/local/lib/python3.10/dist-packages (from pydantic<3.0.0,>=2.5.2->langchain-core<0.4.0,>=0.3.15->langchain_openai) (0.7.0)\n",
      "Requirement already satisfied: pydantic-core==2.23.4 in /usr/local/lib/python3.10/dist-packages (from pydantic<3.0.0,>=2.5.2->langchain-core<0.4.0,>=0.3.15->langchain_openai) (2.23.4)\n",
      "Requirement already satisfied: charset-normalizer<4,>=2 in /usr/local/lib/python3.10/dist-packages (from requests>=2.26.0->tiktoken<1,>=0.7->langchain_openai) (3.4.0)\n",
      "Requirement already satisfied: urllib3<3,>=1.21.1 in /usr/local/lib/python3.10/dist-packages (from requests>=2.26.0->tiktoken<1,>=0.7->langchain_openai) (2.2.3)\n",
      "Downloading langchain_openai-0.2.5-py3-none-any.whl (50 kB)\n",
      "\u001b[2K   \u001b[90m━━━━━━━━━━━━━━━━━━━━━━━━━━━━━━━━━━━━━━━━\u001b[0m \u001b[32m50.4/50.4 kB\u001b[0m \u001b[31m2.0 MB/s\u001b[0m eta \u001b[36m0:00:00\u001b[0m\n",
      "\u001b[?25hDownloading tiktoken-0.8.0-cp310-cp310-manylinux_2_17_x86_64.manylinux2014_x86_64.whl (1.2 MB)\n",
      "\u001b[2K   \u001b[90m━━━━━━━━━━━━━━━━━━━━━━━━━━━━━━━━━━━━━━━━\u001b[0m \u001b[32m1.2/1.2 MB\u001b[0m \u001b[31m17.7 MB/s\u001b[0m eta \u001b[36m0:00:00\u001b[0m\n",
      "\u001b[?25hInstalling collected packages: tiktoken, langchain_openai\n",
      "Successfully installed langchain_openai-0.2.5 tiktoken-0.8.0\n"
     ]
    }
   ],
   "source": [
    "! pip install langchain_openai"
   ]
  },
  {
   "cell_type": "code",
   "execution_count": 2,
   "id": "MVyCcRexYnwU",
   "metadata": {
    "colab": {
     "base_uri": "https://localhost:8080/"
    },
    "id": "MVyCcRexYnwU",
    "outputId": "4eb80a71-36ac-4623-dc70-58a443ab7a37"
   },
   "outputs": [
    {
     "name": "stdout",
     "output_type": "stream",
     "text": [
      "Collecting langchain_community\n",
      "  Downloading langchain_community-0.3.5-py3-none-any.whl.metadata (2.9 kB)\n",
      "Requirement already satisfied: PyYAML>=5.3 in /usr/local/lib/python3.10/dist-packages (from langchain_community) (6.0.2)\n",
      "Collecting SQLAlchemy<2.0.36,>=1.4 (from langchain_community)\n",
      "  Downloading SQLAlchemy-2.0.35-cp310-cp310-manylinux_2_17_x86_64.manylinux2014_x86_64.whl.metadata (9.6 kB)\n",
      "Requirement already satisfied: aiohttp<4.0.0,>=3.8.3 in /usr/local/lib/python3.10/dist-packages (from langchain_community) (3.10.10)\n",
      "Collecting dataclasses-json<0.7,>=0.5.7 (from langchain_community)\n",
      "  Downloading dataclasses_json-0.6.7-py3-none-any.whl.metadata (25 kB)\n",
      "Collecting httpx-sse<0.5.0,>=0.4.0 (from langchain_community)\n",
      "  Downloading httpx_sse-0.4.0-py3-none-any.whl.metadata (9.0 kB)\n",
      "Collecting langchain<0.4.0,>=0.3.6 (from langchain_community)\n",
      "  Downloading langchain-0.3.7-py3-none-any.whl.metadata (7.1 kB)\n",
      "Collecting langchain-core<0.4.0,>=0.3.15 (from langchain_community)\n",
      "  Downloading langchain_core-0.3.15-py3-none-any.whl.metadata (6.3 kB)\n",
      "Requirement already satisfied: langsmith<0.2.0,>=0.1.125 in /usr/local/lib/python3.10/dist-packages (from langchain_community) (0.1.137)\n",
      "Requirement already satisfied: numpy<2,>=1 in /usr/local/lib/python3.10/dist-packages (from langchain_community) (1.26.4)\n",
      "Collecting pydantic-settings<3.0.0,>=2.4.0 (from langchain_community)\n",
      "  Downloading pydantic_settings-2.6.1-py3-none-any.whl.metadata (3.5 kB)\n",
      "Requirement already satisfied: requests<3,>=2 in /usr/local/lib/python3.10/dist-packages (from langchain_community) (2.32.3)\n",
      "Requirement already satisfied: tenacity!=8.4.0,<10,>=8.1.0 in /usr/local/lib/python3.10/dist-packages (from langchain_community) (9.0.0)\n",
      "Requirement already satisfied: aiohappyeyeballs>=2.3.0 in /usr/local/lib/python3.10/dist-packages (from aiohttp<4.0.0,>=3.8.3->langchain_community) (2.4.3)\n",
      "Requirement already satisfied: aiosignal>=1.1.2 in /usr/local/lib/python3.10/dist-packages (from aiohttp<4.0.0,>=3.8.3->langchain_community) (1.3.1)\n",
      "Requirement already satisfied: attrs>=17.3.0 in /usr/local/lib/python3.10/dist-packages (from aiohttp<4.0.0,>=3.8.3->langchain_community) (24.2.0)\n",
      "Requirement already satisfied: frozenlist>=1.1.1 in /usr/local/lib/python3.10/dist-packages (from aiohttp<4.0.0,>=3.8.3->langchain_community) (1.5.0)\n",
      "Requirement already satisfied: multidict<7.0,>=4.5 in /usr/local/lib/python3.10/dist-packages (from aiohttp<4.0.0,>=3.8.3->langchain_community) (6.1.0)\n",
      "Requirement already satisfied: yarl<2.0,>=1.12.0 in /usr/local/lib/python3.10/dist-packages (from aiohttp<4.0.0,>=3.8.3->langchain_community) (1.17.0)\n",
      "Requirement already satisfied: async-timeout<5.0,>=4.0 in /usr/local/lib/python3.10/dist-packages (from aiohttp<4.0.0,>=3.8.3->langchain_community) (4.0.3)\n",
      "Collecting marshmallow<4.0.0,>=3.18.0 (from dataclasses-json<0.7,>=0.5.7->langchain_community)\n",
      "  Downloading marshmallow-3.23.1-py3-none-any.whl.metadata (7.5 kB)\n",
      "Collecting typing-inspect<1,>=0.4.0 (from dataclasses-json<0.7,>=0.5.7->langchain_community)\n",
      "  Downloading typing_inspect-0.9.0-py3-none-any.whl.metadata (1.5 kB)\n",
      "Requirement already satisfied: langchain-text-splitters<0.4.0,>=0.3.0 in /usr/local/lib/python3.10/dist-packages (from langchain<0.4.0,>=0.3.6->langchain_community) (0.3.0)\n",
      "Requirement already satisfied: pydantic<3.0.0,>=2.7.4 in /usr/local/lib/python3.10/dist-packages (from langchain<0.4.0,>=0.3.6->langchain_community) (2.9.2)\n",
      "Requirement already satisfied: jsonpatch<2.0,>=1.33 in /usr/local/lib/python3.10/dist-packages (from langchain-core<0.4.0,>=0.3.15->langchain_community) (1.33)\n",
      "Requirement already satisfied: packaging<25,>=23.2 in /usr/local/lib/python3.10/dist-packages (from langchain-core<0.4.0,>=0.3.15->langchain_community) (24.1)\n",
      "Requirement already satisfied: typing-extensions>=4.7 in /usr/local/lib/python3.10/dist-packages (from langchain-core<0.4.0,>=0.3.15->langchain_community) (4.12.2)\n",
      "Requirement already satisfied: httpx<1,>=0.23.0 in /usr/local/lib/python3.10/dist-packages (from langsmith<0.2.0,>=0.1.125->langchain_community) (0.27.2)\n",
      "Requirement already satisfied: orjson<4.0.0,>=3.9.14 in /usr/local/lib/python3.10/dist-packages (from langsmith<0.2.0,>=0.1.125->langchain_community) (3.10.10)\n",
      "Requirement already satisfied: requests-toolbelt<2.0.0,>=1.0.0 in /usr/local/lib/python3.10/dist-packages (from langsmith<0.2.0,>=0.1.125->langchain_community) (1.0.0)\n",
      "Collecting python-dotenv>=0.21.0 (from pydantic-settings<3.0.0,>=2.4.0->langchain_community)\n",
      "  Downloading python_dotenv-1.0.1-py3-none-any.whl.metadata (23 kB)\n",
      "Requirement already satisfied: charset-normalizer<4,>=2 in /usr/local/lib/python3.10/dist-packages (from requests<3,>=2->langchain_community) (3.4.0)\n",
      "Requirement already satisfied: idna<4,>=2.5 in /usr/local/lib/python3.10/dist-packages (from requests<3,>=2->langchain_community) (3.10)\n",
      "Requirement already satisfied: urllib3<3,>=1.21.1 in /usr/local/lib/python3.10/dist-packages (from requests<3,>=2->langchain_community) (2.2.3)\n",
      "Requirement already satisfied: certifi>=2017.4.17 in /usr/local/lib/python3.10/dist-packages (from requests<3,>=2->langchain_community) (2024.8.30)\n",
      "Requirement already satisfied: greenlet!=0.4.17 in /usr/local/lib/python3.10/dist-packages (from SQLAlchemy<2.0.36,>=1.4->langchain_community) (3.1.1)\n",
      "Requirement already satisfied: anyio in /usr/local/lib/python3.10/dist-packages (from httpx<1,>=0.23.0->langsmith<0.2.0,>=0.1.125->langchain_community) (3.7.1)\n",
      "Requirement already satisfied: httpcore==1.* in /usr/local/lib/python3.10/dist-packages (from httpx<1,>=0.23.0->langsmith<0.2.0,>=0.1.125->langchain_community) (1.0.6)\n",
      "Requirement already satisfied: sniffio in /usr/local/lib/python3.10/dist-packages (from httpx<1,>=0.23.0->langsmith<0.2.0,>=0.1.125->langchain_community) (1.3.1)\n",
      "Requirement already satisfied: h11<0.15,>=0.13 in /usr/local/lib/python3.10/dist-packages (from httpcore==1.*->httpx<1,>=0.23.0->langsmith<0.2.0,>=0.1.125->langchain_community) (0.14.0)\n",
      "Requirement already satisfied: jsonpointer>=1.9 in /usr/local/lib/python3.10/dist-packages (from jsonpatch<2.0,>=1.33->langchain-core<0.4.0,>=0.3.15->langchain_community) (3.0.0)\n",
      "Requirement already satisfied: annotated-types>=0.6.0 in /usr/local/lib/python3.10/dist-packages (from pydantic<3.0.0,>=2.7.4->langchain<0.4.0,>=0.3.6->langchain_community) (0.7.0)\n",
      "Requirement already satisfied: pydantic-core==2.23.4 in /usr/local/lib/python3.10/dist-packages (from pydantic<3.0.0,>=2.7.4->langchain<0.4.0,>=0.3.6->langchain_community) (2.23.4)\n",
      "Collecting mypy-extensions>=0.3.0 (from typing-inspect<1,>=0.4.0->dataclasses-json<0.7,>=0.5.7->langchain_community)\n",
      "  Downloading mypy_extensions-1.0.0-py3-none-any.whl.metadata (1.1 kB)\n",
      "Requirement already satisfied: propcache>=0.2.0 in /usr/local/lib/python3.10/dist-packages (from yarl<2.0,>=1.12.0->aiohttp<4.0.0,>=3.8.3->langchain_community) (0.2.0)\n",
      "Requirement already satisfied: exceptiongroup in /usr/local/lib/python3.10/dist-packages (from anyio->httpx<1,>=0.23.0->langsmith<0.2.0,>=0.1.125->langchain_community) (1.2.2)\n",
      "Downloading langchain_community-0.3.5-py3-none-any.whl (2.4 MB)\n",
      "\u001b[2K   \u001b[90m━━━━━━━━━━━━━━━━━━━━━━━━━━━━━━━━━━━━━━━━\u001b[0m \u001b[32m2.4/2.4 MB\u001b[0m \u001b[31m28.6 MB/s\u001b[0m eta \u001b[36m0:00:00\u001b[0m\n",
      "\u001b[?25hDownloading dataclasses_json-0.6.7-py3-none-any.whl (28 kB)\n",
      "Downloading httpx_sse-0.4.0-py3-none-any.whl (7.8 kB)\n",
      "Downloading langchain-0.3.7-py3-none-any.whl (1.0 MB)\n",
      "\u001b[2K   \u001b[90m━━━━━━━━━━━━━━━━━━━━━━━━━━━━━━━━━━━━━━━━\u001b[0m \u001b[32m1.0/1.0 MB\u001b[0m \u001b[31m41.3 MB/s\u001b[0m eta \u001b[36m0:00:00\u001b[0m\n",
      "\u001b[?25hDownloading langchain_core-0.3.15-py3-none-any.whl (408 kB)\n",
      "\u001b[2K   \u001b[90m━━━━━━━━━━━━━━━━━━━━━━━━━━━━━━━━━━━━━━━━\u001b[0m \u001b[32m408.7/408.7 kB\u001b[0m \u001b[31m22.0 MB/s\u001b[0m eta \u001b[36m0:00:00\u001b[0m\n",
      "\u001b[?25hDownloading pydantic_settings-2.6.1-py3-none-any.whl (28 kB)\n",
      "Downloading SQLAlchemy-2.0.35-cp310-cp310-manylinux_2_17_x86_64.manylinux2014_x86_64.whl (3.1 MB)\n",
      "\u001b[2K   \u001b[90m━━━━━━━━━━━━━━━━━━━━━━━━━━━━━━━━━━━━━━━━\u001b[0m \u001b[32m3.1/3.1 MB\u001b[0m \u001b[31m73.7 MB/s\u001b[0m eta \u001b[36m0:00:00\u001b[0m\n",
      "\u001b[?25hDownloading marshmallow-3.23.1-py3-none-any.whl (49 kB)\n",
      "\u001b[2K   \u001b[90m━━━━━━━━━━━━━━━━━━━━━━━━━━━━━━━━━━━━━━━━\u001b[0m \u001b[32m49.5/49.5 kB\u001b[0m \u001b[31m4.0 MB/s\u001b[0m eta \u001b[36m0:00:00\u001b[0m\n",
      "\u001b[?25hDownloading python_dotenv-1.0.1-py3-none-any.whl (19 kB)\n",
      "Downloading typing_inspect-0.9.0-py3-none-any.whl (8.8 kB)\n",
      "Downloading mypy_extensions-1.0.0-py3-none-any.whl (4.7 kB)\n",
      "Installing collected packages: SQLAlchemy, python-dotenv, mypy-extensions, marshmallow, httpx-sse, typing-inspect, pydantic-settings, dataclasses-json, langchain-core, langchain, langchain_community\n",
      "  Attempting uninstall: SQLAlchemy\n",
      "    Found existing installation: SQLAlchemy 2.0.36\n",
      "    Uninstalling SQLAlchemy-2.0.36:\n",
      "      Successfully uninstalled SQLAlchemy-2.0.36\n",
      "  Attempting uninstall: langchain-core\n",
      "    Found existing installation: langchain-core 0.3.13\n",
      "    Uninstalling langchain-core-0.3.13:\n",
      "      Successfully uninstalled langchain-core-0.3.13\n",
      "  Attempting uninstall: langchain\n",
      "    Found existing installation: langchain 0.3.4\n",
      "    Uninstalling langchain-0.3.4:\n",
      "      Successfully uninstalled langchain-0.3.4\n",
      "Successfully installed SQLAlchemy-2.0.35 dataclasses-json-0.6.7 httpx-sse-0.4.0 langchain-0.3.7 langchain-core-0.3.15 langchain_community-0.3.5 marshmallow-3.23.1 mypy-extensions-1.0.0 pydantic-settings-2.6.1 python-dotenv-1.0.1 typing-inspect-0.9.0\n"
     ]
    }
   ],
   "source": [
    "! pip install langchain_community"
   ]
  },
  {
   "cell_type": "code",
   "execution_count": 20,
   "id": "vz7epzm4aF4B",
   "metadata": {
    "colab": {
     "base_uri": "https://localhost:8080/"
    },
    "id": "vz7epzm4aF4B",
    "outputId": "dc1ec552-dc4a-4372-e91a-66f47aab3862"
   },
   "outputs": [
    {
     "name": "stdout",
     "output_type": "stream",
     "text": [
      "Collecting chromadb\n",
      "  Downloading chromadb-0.5.17-py3-none-any.whl.metadata (6.8 kB)\n",
      "Collecting build>=1.0.3 (from chromadb)\n",
      "  Downloading build-1.2.2.post1-py3-none-any.whl.metadata (6.5 kB)\n",
      "Requirement already satisfied: pydantic>=1.9 in /usr/local/lib/python3.10/dist-packages (from chromadb) (2.9.2)\n",
      "Collecting chroma-hnswlib==0.7.6 (from chromadb)\n",
      "  Downloading chroma_hnswlib-0.7.6-cp310-cp310-manylinux_2_17_x86_64.manylinux2014_x86_64.whl.metadata (252 bytes)\n",
      "Collecting fastapi>=0.95.2 (from chromadb)\n",
      "  Downloading fastapi-0.115.4-py3-none-any.whl.metadata (27 kB)\n",
      "Collecting uvicorn>=0.18.3 (from uvicorn[standard]>=0.18.3->chromadb)\n",
      "  Downloading uvicorn-0.32.0-py3-none-any.whl.metadata (6.6 kB)\n",
      "Requirement already satisfied: numpy>=1.22.5 in /usr/local/lib/python3.10/dist-packages (from chromadb) (1.26.4)\n",
      "Collecting posthog>=2.4.0 (from chromadb)\n",
      "  Downloading posthog-3.7.0-py2.py3-none-any.whl.metadata (2.0 kB)\n",
      "Requirement already satisfied: typing-extensions>=4.5.0 in /usr/local/lib/python3.10/dist-packages (from chromadb) (4.12.2)\n",
      "Collecting onnxruntime>=1.14.1 (from chromadb)\n",
      "  Downloading onnxruntime-1.20.0-cp310-cp310-manylinux_2_27_x86_64.manylinux_2_28_x86_64.whl.metadata (4.4 kB)\n",
      "Requirement already satisfied: opentelemetry-api>=1.2.0 in /usr/local/lib/python3.10/dist-packages (from chromadb) (1.16.0)\n",
      "Collecting opentelemetry-exporter-otlp-proto-grpc>=1.2.0 (from chromadb)\n",
      "  Downloading opentelemetry_exporter_otlp_proto_grpc-1.27.0-py3-none-any.whl.metadata (2.3 kB)\n",
      "Collecting opentelemetry-instrumentation-fastapi>=0.41b0 (from chromadb)\n",
      "  Downloading opentelemetry_instrumentation_fastapi-0.48b0-py3-none-any.whl.metadata (2.1 kB)\n",
      "Requirement already satisfied: opentelemetry-sdk>=1.2.0 in /usr/local/lib/python3.10/dist-packages (from chromadb) (1.16.0)\n",
      "Requirement already satisfied: tokenizers>=0.13.2 in /usr/local/lib/python3.10/dist-packages (from chromadb) (0.19.1)\n",
      "Collecting pypika>=0.48.9 (from chromadb)\n",
      "  Downloading PyPika-0.48.9.tar.gz (67 kB)\n",
      "\u001b[2K     \u001b[90m━━━━━━━━━━━━━━━━━━━━━━━━━━━━━━━━━━━━━━━━\u001b[0m \u001b[32m67.3/67.3 kB\u001b[0m \u001b[31m3.5 MB/s\u001b[0m eta \u001b[36m0:00:00\u001b[0m\n",
      "\u001b[?25h  Installing build dependencies ... \u001b[?25l\u001b[?25hdone\n",
      "  Getting requirements to build wheel ... \u001b[?25l\u001b[?25hdone\n",
      "  Preparing metadata (pyproject.toml) ... \u001b[?25l\u001b[?25hdone\n",
      "Requirement already satisfied: tqdm>=4.65.0 in /usr/local/lib/python3.10/dist-packages (from chromadb) (4.66.6)\n",
      "Collecting overrides>=7.3.1 (from chromadb)\n",
      "  Downloading overrides-7.7.0-py3-none-any.whl.metadata (5.8 kB)\n",
      "Requirement already satisfied: importlib-resources in /usr/local/lib/python3.10/dist-packages (from chromadb) (6.4.5)\n",
      "Requirement already satisfied: grpcio>=1.58.0 in /usr/local/lib/python3.10/dist-packages (from chromadb) (1.64.1)\n",
      "Collecting bcrypt>=4.0.1 (from chromadb)\n",
      "  Downloading bcrypt-4.2.0-cp39-abi3-manylinux_2_28_x86_64.whl.metadata (9.6 kB)\n",
      "Requirement already satisfied: typer>=0.9.0 in /usr/local/lib/python3.10/dist-packages (from chromadb) (0.12.5)\n",
      "Collecting kubernetes>=28.1.0 (from chromadb)\n",
      "  Downloading kubernetes-31.0.0-py2.py3-none-any.whl.metadata (1.5 kB)\n",
      "Requirement already satisfied: tenacity>=8.2.3 in /usr/local/lib/python3.10/dist-packages (from chromadb) (9.0.0)\n",
      "Requirement already satisfied: PyYAML>=6.0.0 in /usr/local/lib/python3.10/dist-packages (from chromadb) (6.0.2)\n",
      "Collecting mmh3>=4.0.1 (from chromadb)\n",
      "  Downloading mmh3-5.0.1-cp310-cp310-manylinux_2_5_x86_64.manylinux1_x86_64.manylinux_2_17_x86_64.manylinux2014_x86_64.whl.metadata (14 kB)\n",
      "Requirement already satisfied: orjson>=3.9.12 in /usr/local/lib/python3.10/dist-packages (from chromadb) (3.10.10)\n",
      "Requirement already satisfied: httpx>=0.27.0 in /usr/local/lib/python3.10/dist-packages (from chromadb) (0.27.2)\n",
      "Requirement already satisfied: rich>=10.11.0 in /usr/local/lib/python3.10/dist-packages (from chromadb) (13.9.3)\n",
      "Requirement already satisfied: packaging>=19.1 in /usr/local/lib/python3.10/dist-packages (from build>=1.0.3->chromadb) (24.1)\n",
      "Collecting pyproject_hooks (from build>=1.0.3->chromadb)\n",
      "  Downloading pyproject_hooks-1.2.0-py3-none-any.whl.metadata (1.3 kB)\n",
      "Requirement already satisfied: tomli>=1.1.0 in /usr/local/lib/python3.10/dist-packages (from build>=1.0.3->chromadb) (2.0.2)\n",
      "Collecting starlette<0.42.0,>=0.40.0 (from fastapi>=0.95.2->chromadb)\n",
      "  Downloading starlette-0.41.2-py3-none-any.whl.metadata (6.0 kB)\n",
      "Requirement already satisfied: anyio in /usr/local/lib/python3.10/dist-packages (from httpx>=0.27.0->chromadb) (3.7.1)\n",
      "Requirement already satisfied: certifi in /usr/local/lib/python3.10/dist-packages (from httpx>=0.27.0->chromadb) (2024.8.30)\n",
      "Requirement already satisfied: httpcore==1.* in /usr/local/lib/python3.10/dist-packages (from httpx>=0.27.0->chromadb) (1.0.6)\n",
      "Requirement already satisfied: idna in /usr/local/lib/python3.10/dist-packages (from httpx>=0.27.0->chromadb) (3.10)\n",
      "Requirement already satisfied: sniffio in /usr/local/lib/python3.10/dist-packages (from httpx>=0.27.0->chromadb) (1.3.1)\n",
      "Requirement already satisfied: h11<0.15,>=0.13 in /usr/local/lib/python3.10/dist-packages (from httpcore==1.*->httpx>=0.27.0->chromadb) (0.14.0)\n",
      "Requirement already satisfied: six>=1.9.0 in /usr/local/lib/python3.10/dist-packages (from kubernetes>=28.1.0->chromadb) (1.16.0)\n",
      "Requirement already satisfied: python-dateutil>=2.5.3 in /usr/local/lib/python3.10/dist-packages (from kubernetes>=28.1.0->chromadb) (2.8.2)\n",
      "Requirement already satisfied: google-auth>=1.0.1 in /usr/local/lib/python3.10/dist-packages (from kubernetes>=28.1.0->chromadb) (2.27.0)\n",
      "Requirement already satisfied: websocket-client!=0.40.0,!=0.41.*,!=0.42.*,>=0.32.0 in /usr/local/lib/python3.10/dist-packages (from kubernetes>=28.1.0->chromadb) (1.8.0)\n",
      "Requirement already satisfied: requests in /usr/local/lib/python3.10/dist-packages (from kubernetes>=28.1.0->chromadb) (2.32.3)\n",
      "Requirement already satisfied: requests-oauthlib in /usr/local/lib/python3.10/dist-packages (from kubernetes>=28.1.0->chromadb) (1.3.1)\n",
      "Requirement already satisfied: oauthlib>=3.2.2 in /usr/local/lib/python3.10/dist-packages (from kubernetes>=28.1.0->chromadb) (3.2.2)\n",
      "Requirement already satisfied: urllib3>=1.24.2 in /usr/local/lib/python3.10/dist-packages (from kubernetes>=28.1.0->chromadb) (2.2.3)\n",
      "Collecting durationpy>=0.7 (from kubernetes>=28.1.0->chromadb)\n",
      "  Downloading durationpy-0.9-py3-none-any.whl.metadata (338 bytes)\n",
      "Collecting coloredlogs (from onnxruntime>=1.14.1->chromadb)\n",
      "  Downloading coloredlogs-15.0.1-py2.py3-none-any.whl.metadata (12 kB)\n",
      "Requirement already satisfied: flatbuffers in /usr/local/lib/python3.10/dist-packages (from onnxruntime>=1.14.1->chromadb) (24.3.25)\n",
      "Requirement already satisfied: protobuf in /usr/local/lib/python3.10/dist-packages (from onnxruntime>=1.14.1->chromadb) (3.20.3)\n",
      "Requirement already satisfied: sympy in /usr/local/lib/python3.10/dist-packages (from onnxruntime>=1.14.1->chromadb) (1.13.1)\n",
      "Requirement already satisfied: deprecated>=1.2.6 in /usr/local/lib/python3.10/dist-packages (from opentelemetry-api>=1.2.0->chromadb) (1.2.14)\n",
      "Requirement already satisfied: setuptools>=16.0 in /usr/local/lib/python3.10/dist-packages (from opentelemetry-api>=1.2.0->chromadb) (75.1.0)\n",
      "Requirement already satisfied: googleapis-common-protos~=1.52 in /usr/local/lib/python3.10/dist-packages (from opentelemetry-exporter-otlp-proto-grpc>=1.2.0->chromadb) (1.65.0)\n",
      "Collecting opentelemetry-exporter-otlp-proto-common==1.27.0 (from opentelemetry-exporter-otlp-proto-grpc>=1.2.0->chromadb)\n",
      "  Downloading opentelemetry_exporter_otlp_proto_common-1.27.0-py3-none-any.whl.metadata (1.8 kB)\n",
      "Collecting opentelemetry-proto==1.27.0 (from opentelemetry-exporter-otlp-proto-grpc>=1.2.0->chromadb)\n",
      "  Downloading opentelemetry_proto-1.27.0-py3-none-any.whl.metadata (2.3 kB)\n",
      "Collecting opentelemetry-sdk>=1.2.0 (from chromadb)\n",
      "  Downloading opentelemetry_sdk-1.27.0-py3-none-any.whl.metadata (1.5 kB)\n",
      "Collecting opentelemetry-instrumentation-asgi==0.48b0 (from opentelemetry-instrumentation-fastapi>=0.41b0->chromadb)\n",
      "  Downloading opentelemetry_instrumentation_asgi-0.48b0-py3-none-any.whl.metadata (2.0 kB)\n",
      "Collecting opentelemetry-instrumentation==0.48b0 (from opentelemetry-instrumentation-fastapi>=0.41b0->chromadb)\n",
      "  Downloading opentelemetry_instrumentation-0.48b0-py3-none-any.whl.metadata (6.1 kB)\n",
      "Collecting opentelemetry-semantic-conventions==0.48b0 (from opentelemetry-instrumentation-fastapi>=0.41b0->chromadb)\n",
      "  Downloading opentelemetry_semantic_conventions-0.48b0-py3-none-any.whl.metadata (2.4 kB)\n",
      "Collecting opentelemetry-util-http==0.48b0 (from opentelemetry-instrumentation-fastapi>=0.41b0->chromadb)\n",
      "  Downloading opentelemetry_util_http-0.48b0-py3-none-any.whl.metadata (2.5 kB)\n",
      "Requirement already satisfied: wrapt<2.0.0,>=1.0.0 in /usr/local/lib/python3.10/dist-packages (from opentelemetry-instrumentation==0.48b0->opentelemetry-instrumentation-fastapi>=0.41b0->chromadb) (1.16.0)\n",
      "Collecting asgiref~=3.0 (from opentelemetry-instrumentation-asgi==0.48b0->opentelemetry-instrumentation-fastapi>=0.41b0->chromadb)\n",
      "  Downloading asgiref-3.8.1-py3-none-any.whl.metadata (9.3 kB)\n",
      "Collecting opentelemetry-api>=1.2.0 (from chromadb)\n",
      "  Downloading opentelemetry_api-1.27.0-py3-none-any.whl.metadata (1.4 kB)\n",
      "Collecting importlib-metadata<=8.4.0,>=6.0 (from opentelemetry-api>=1.2.0->chromadb)\n",
      "  Downloading importlib_metadata-8.4.0-py3-none-any.whl.metadata (4.7 kB)\n",
      "Collecting monotonic>=1.5 (from posthog>=2.4.0->chromadb)\n",
      "  Downloading monotonic-1.6-py2.py3-none-any.whl.metadata (1.5 kB)\n",
      "Collecting backoff>=1.10.0 (from posthog>=2.4.0->chromadb)\n",
      "  Downloading backoff-2.2.1-py3-none-any.whl.metadata (14 kB)\n",
      "Requirement already satisfied: annotated-types>=0.6.0 in /usr/local/lib/python3.10/dist-packages (from pydantic>=1.9->chromadb) (0.7.0)\n",
      "Requirement already satisfied: pydantic-core==2.23.4 in /usr/local/lib/python3.10/dist-packages (from pydantic>=1.9->chromadb) (2.23.4)\n",
      "Requirement already satisfied: markdown-it-py>=2.2.0 in /usr/local/lib/python3.10/dist-packages (from rich>=10.11.0->chromadb) (3.0.0)\n",
      "Requirement already satisfied: pygments<3.0.0,>=2.13.0 in /usr/local/lib/python3.10/dist-packages (from rich>=10.11.0->chromadb) (2.18.0)\n",
      "Requirement already satisfied: huggingface-hub<1.0,>=0.16.4 in /usr/local/lib/python3.10/dist-packages (from tokenizers>=0.13.2->chromadb) (0.24.7)\n",
      "Requirement already satisfied: click>=8.0.0 in /usr/local/lib/python3.10/dist-packages (from typer>=0.9.0->chromadb) (8.1.7)\n",
      "Requirement already satisfied: shellingham>=1.3.0 in /usr/local/lib/python3.10/dist-packages (from typer>=0.9.0->chromadb) (1.5.4)\n",
      "Collecting httptools>=0.5.0 (from uvicorn[standard]>=0.18.3->chromadb)\n",
      "  Downloading httptools-0.6.4-cp310-cp310-manylinux_2_5_x86_64.manylinux1_x86_64.manylinux_2_17_x86_64.manylinux2014_x86_64.whl.metadata (3.6 kB)\n",
      "Requirement already satisfied: python-dotenv>=0.13 in /usr/local/lib/python3.10/dist-packages (from uvicorn[standard]>=0.18.3->chromadb) (1.0.1)\n",
      "Collecting uvloop!=0.15.0,!=0.15.1,>=0.14.0 (from uvicorn[standard]>=0.18.3->chromadb)\n",
      "  Downloading uvloop-0.21.0-cp310-cp310-manylinux_2_17_x86_64.manylinux2014_x86_64.whl.metadata (4.9 kB)\n",
      "Collecting watchfiles>=0.13 (from uvicorn[standard]>=0.18.3->chromadb)\n",
      "  Downloading watchfiles-0.24.0-cp310-cp310-manylinux_2_17_x86_64.manylinux2014_x86_64.whl.metadata (4.9 kB)\n",
      "Collecting websockets>=10.4 (from uvicorn[standard]>=0.18.3->chromadb)\n",
      "  Downloading websockets-13.1-cp310-cp310-manylinux_2_5_x86_64.manylinux1_x86_64.manylinux_2_17_x86_64.manylinux2014_x86_64.whl.metadata (6.8 kB)\n",
      "Requirement already satisfied: cachetools<6.0,>=2.0.0 in /usr/local/lib/python3.10/dist-packages (from google-auth>=1.0.1->kubernetes>=28.1.0->chromadb) (5.5.0)\n",
      "Requirement already satisfied: pyasn1-modules>=0.2.1 in /usr/local/lib/python3.10/dist-packages (from google-auth>=1.0.1->kubernetes>=28.1.0->chromadb) (0.4.1)\n",
      "Requirement already satisfied: rsa<5,>=3.1.4 in /usr/local/lib/python3.10/dist-packages (from google-auth>=1.0.1->kubernetes>=28.1.0->chromadb) (4.9)\n",
      "Requirement already satisfied: filelock in /usr/local/lib/python3.10/dist-packages (from huggingface-hub<1.0,>=0.16.4->tokenizers>=0.13.2->chromadb) (3.16.1)\n",
      "Requirement already satisfied: fsspec>=2023.5.0 in /usr/local/lib/python3.10/dist-packages (from huggingface-hub<1.0,>=0.16.4->tokenizers>=0.13.2->chromadb) (2024.10.0)\n",
      "Requirement already satisfied: zipp>=0.5 in /usr/local/lib/python3.10/dist-packages (from importlib-metadata<=8.4.0,>=6.0->opentelemetry-api>=1.2.0->chromadb) (3.20.2)\n",
      "Requirement already satisfied: mdurl~=0.1 in /usr/local/lib/python3.10/dist-packages (from markdown-it-py>=2.2.0->rich>=10.11.0->chromadb) (0.1.2)\n",
      "Requirement already satisfied: charset-normalizer<4,>=2 in /usr/local/lib/python3.10/dist-packages (from requests->kubernetes>=28.1.0->chromadb) (3.4.0)\n",
      "Requirement already satisfied: exceptiongroup in /usr/local/lib/python3.10/dist-packages (from anyio->httpx>=0.27.0->chromadb) (1.2.2)\n",
      "Collecting humanfriendly>=9.1 (from coloredlogs->onnxruntime>=1.14.1->chromadb)\n",
      "  Downloading humanfriendly-10.0-py2.py3-none-any.whl.metadata (9.2 kB)\n",
      "Requirement already satisfied: mpmath<1.4,>=1.1.0 in /usr/local/lib/python3.10/dist-packages (from sympy->onnxruntime>=1.14.1->chromadb) (1.3.0)\n",
      "Requirement already satisfied: pyasn1<0.7.0,>=0.4.6 in /usr/local/lib/python3.10/dist-packages (from pyasn1-modules>=0.2.1->google-auth>=1.0.1->kubernetes>=28.1.0->chromadb) (0.6.1)\n",
      "Downloading chromadb-0.5.17-py3-none-any.whl (615 kB)\n",
      "\u001b[2K   \u001b[90m━━━━━━━━━━━━━━━━━━━━━━━━━━━━━━━━━━━━━━━━\u001b[0m \u001b[32m615.7/615.7 kB\u001b[0m \u001b[31m15.2 MB/s\u001b[0m eta \u001b[36m0:00:00\u001b[0m\n",
      "\u001b[?25hDownloading chroma_hnswlib-0.7.6-cp310-cp310-manylinux_2_17_x86_64.manylinux2014_x86_64.whl (2.4 MB)\n",
      "\u001b[2K   \u001b[90m━━━━━━━━━━━━━━━━━━━━━━━━━━━━━━━━━━━━━━━━\u001b[0m \u001b[32m2.4/2.4 MB\u001b[0m \u001b[31m39.5 MB/s\u001b[0m eta \u001b[36m0:00:00\u001b[0m\n",
      "\u001b[?25hDownloading bcrypt-4.2.0-cp39-abi3-manylinux_2_28_x86_64.whl (273 kB)\n",
      "\u001b[2K   \u001b[90m━━━━━━━━━━━━━━━━━━━━━━━━━━━━━━━━━━━━━━━━\u001b[0m \u001b[32m273.8/273.8 kB\u001b[0m \u001b[31m18.3 MB/s\u001b[0m eta \u001b[36m0:00:00\u001b[0m\n",
      "\u001b[?25hDownloading build-1.2.2.post1-py3-none-any.whl (22 kB)\n",
      "Downloading fastapi-0.115.4-py3-none-any.whl (94 kB)\n",
      "\u001b[2K   \u001b[90m━━━━━━━━━━━━━━━━━━━━━━━━━━━━━━━━━━━━━━━━\u001b[0m \u001b[32m94.7/94.7 kB\u001b[0m \u001b[31m7.7 MB/s\u001b[0m eta \u001b[36m0:00:00\u001b[0m\n",
      "\u001b[?25hDownloading kubernetes-31.0.0-py2.py3-none-any.whl (1.9 MB)\n",
      "\u001b[2K   \u001b[90m━━━━━━━━━━━━━━━━━━━━━━━━━━━━━━━━━━━━━━━━\u001b[0m \u001b[32m1.9/1.9 MB\u001b[0m \u001b[31m65.0 MB/s\u001b[0m eta \u001b[36m0:00:00\u001b[0m\n",
      "\u001b[?25hDownloading mmh3-5.0.1-cp310-cp310-manylinux_2_5_x86_64.manylinux1_x86_64.manylinux_2_17_x86_64.manylinux2014_x86_64.whl (93 kB)\n",
      "\u001b[2K   \u001b[90m━━━━━━━━━━━━━━━━━━━━━━━━━━━━━━━━━━━━━━━━\u001b[0m \u001b[32m93.2/93.2 kB\u001b[0m \u001b[31m7.1 MB/s\u001b[0m eta \u001b[36m0:00:00\u001b[0m\n",
      "\u001b[?25hDownloading onnxruntime-1.20.0-cp310-cp310-manylinux_2_27_x86_64.manylinux_2_28_x86_64.whl (13.3 MB)\n",
      "\u001b[2K   \u001b[90m━━━━━━━━━━━━━━━━━━━━━━━━━━━━━━━━━━━━━━━━\u001b[0m \u001b[32m13.3/13.3 MB\u001b[0m \u001b[31m74.6 MB/s\u001b[0m eta \u001b[36m0:00:00\u001b[0m\n",
      "\u001b[?25hDownloading opentelemetry_exporter_otlp_proto_grpc-1.27.0-py3-none-any.whl (18 kB)\n",
      "Downloading opentelemetry_exporter_otlp_proto_common-1.27.0-py3-none-any.whl (17 kB)\n",
      "Downloading opentelemetry_proto-1.27.0-py3-none-any.whl (52 kB)\n",
      "\u001b[2K   \u001b[90m━━━━━━━━━━━━━━━━━━━━━━━━━━━━━━━━━━━━━━━━\u001b[0m \u001b[32m52.5/52.5 kB\u001b[0m \u001b[31m3.8 MB/s\u001b[0m eta \u001b[36m0:00:00\u001b[0m\n",
      "\u001b[?25hDownloading opentelemetry_instrumentation_fastapi-0.48b0-py3-none-any.whl (11 kB)\n",
      "Downloading opentelemetry_instrumentation-0.48b0-py3-none-any.whl (29 kB)\n",
      "Downloading opentelemetry_instrumentation_asgi-0.48b0-py3-none-any.whl (15 kB)\n",
      "Downloading opentelemetry_semantic_conventions-0.48b0-py3-none-any.whl (149 kB)\n",
      "\u001b[2K   \u001b[90m━━━━━━━━━━━━━━━━━━━━━━━━━━━━━━━━━━━━━━━━\u001b[0m \u001b[32m149.7/149.7 kB\u001b[0m \u001b[31m11.5 MB/s\u001b[0m eta \u001b[36m0:00:00\u001b[0m\n",
      "\u001b[?25hDownloading opentelemetry_api-1.27.0-py3-none-any.whl (63 kB)\n",
      "\u001b[2K   \u001b[90m━━━━━━━━━━━━━━━━━━━━━━━━━━━━━━━━━━━━━━━━\u001b[0m \u001b[32m64.0/64.0 kB\u001b[0m \u001b[31m5.1 MB/s\u001b[0m eta \u001b[36m0:00:00\u001b[0m\n",
      "\u001b[?25hDownloading opentelemetry_util_http-0.48b0-py3-none-any.whl (6.9 kB)\n",
      "Downloading opentelemetry_sdk-1.27.0-py3-none-any.whl (110 kB)\n",
      "\u001b[2K   \u001b[90m━━━━━━━━━━━━━━━━━━━━━━━━━━━━━━━━━━━━━━━━\u001b[0m \u001b[32m110.5/110.5 kB\u001b[0m \u001b[31m6.9 MB/s\u001b[0m eta \u001b[36m0:00:00\u001b[0m\n",
      "\u001b[?25hDownloading overrides-7.7.0-py3-none-any.whl (17 kB)\n",
      "Downloading posthog-3.7.0-py2.py3-none-any.whl (54 kB)\n",
      "\u001b[2K   \u001b[90m━━━━━━━━━━━━━━━━━━━━━━━━━━━━━━━━━━━━━━━━\u001b[0m \u001b[32m54.4/54.4 kB\u001b[0m \u001b[31m4.0 MB/s\u001b[0m eta \u001b[36m0:00:00\u001b[0m\n",
      "\u001b[?25hDownloading uvicorn-0.32.0-py3-none-any.whl (63 kB)\n",
      "\u001b[2K   \u001b[90m━━━━━━━━━━━━━━━━━━━━━━━━━━━━━━━━━━━━━━━━\u001b[0m \u001b[32m63.7/63.7 kB\u001b[0m \u001b[31m4.6 MB/s\u001b[0m eta \u001b[36m0:00:00\u001b[0m\n",
      "\u001b[?25hDownloading backoff-2.2.1-py3-none-any.whl (15 kB)\n",
      "Downloading durationpy-0.9-py3-none-any.whl (3.5 kB)\n",
      "Downloading httptools-0.6.4-cp310-cp310-manylinux_2_5_x86_64.manylinux1_x86_64.manylinux_2_17_x86_64.manylinux2014_x86_64.whl (442 kB)\n",
      "\u001b[2K   \u001b[90m━━━━━━━━━━━━━━━━━━━━━━━━━━━━━━━━━━━━━━━━\u001b[0m \u001b[32m442.1/442.1 kB\u001b[0m \u001b[31m23.5 MB/s\u001b[0m eta \u001b[36m0:00:00\u001b[0m\n",
      "\u001b[?25hDownloading importlib_metadata-8.4.0-py3-none-any.whl (26 kB)\n",
      "Downloading monotonic-1.6-py2.py3-none-any.whl (8.2 kB)\n",
      "Downloading starlette-0.41.2-py3-none-any.whl (73 kB)\n",
      "\u001b[2K   \u001b[90m━━━━━━━━━━━━━━━━━━━━━━━━━━━━━━━━━━━━━━━━\u001b[0m \u001b[32m73.3/73.3 kB\u001b[0m \u001b[31m5.7 MB/s\u001b[0m eta \u001b[36m0:00:00\u001b[0m\n",
      "\u001b[?25hDownloading uvloop-0.21.0-cp310-cp310-manylinux_2_17_x86_64.manylinux2014_x86_64.whl (3.8 MB)\n",
      "\u001b[2K   \u001b[90m━━━━━━━━━━━━━━━━━━━━━━━━━━━━━━━━━━━━━━━━\u001b[0m \u001b[32m3.8/3.8 MB\u001b[0m \u001b[31m52.4 MB/s\u001b[0m eta \u001b[36m0:00:00\u001b[0m\n",
      "\u001b[?25hDownloading watchfiles-0.24.0-cp310-cp310-manylinux_2_17_x86_64.manylinux2014_x86_64.whl (425 kB)\n",
      "\u001b[2K   \u001b[90m━━━━━━━━━━━━━━━━━━━━━━━━━━━━━━━━━━━━━━━━\u001b[0m \u001b[32m425.7/425.7 kB\u001b[0m \u001b[31m24.6 MB/s\u001b[0m eta \u001b[36m0:00:00\u001b[0m\n",
      "\u001b[?25hDownloading websockets-13.1-cp310-cp310-manylinux_2_5_x86_64.manylinux1_x86_64.manylinux_2_17_x86_64.manylinux2014_x86_64.whl (164 kB)\n",
      "\u001b[2K   \u001b[90m━━━━━━━━━━━━━━━━━━━━━━━━━━━━━━━━━━━━━━━━\u001b[0m \u001b[32m164.1/164.1 kB\u001b[0m \u001b[31m11.1 MB/s\u001b[0m eta \u001b[36m0:00:00\u001b[0m\n",
      "\u001b[?25hDownloading coloredlogs-15.0.1-py2.py3-none-any.whl (46 kB)\n",
      "\u001b[2K   \u001b[90m━━━━━━━━━━━━━━━━━━━━━━━━━━━━━━━━━━━━━━━━\u001b[0m \u001b[32m46.0/46.0 kB\u001b[0m \u001b[31m3.3 MB/s\u001b[0m eta \u001b[36m0:00:00\u001b[0m\n",
      "\u001b[?25hDownloading pyproject_hooks-1.2.0-py3-none-any.whl (10 kB)\n",
      "Downloading asgiref-3.8.1-py3-none-any.whl (23 kB)\n",
      "Downloading humanfriendly-10.0-py2.py3-none-any.whl (86 kB)\n",
      "\u001b[2K   \u001b[90m━━━━━━━━━━━━━━━━━━━━━━━━━━━━━━━━━━━━━━━━\u001b[0m \u001b[32m86.8/86.8 kB\u001b[0m \u001b[31m5.8 MB/s\u001b[0m eta \u001b[36m0:00:00\u001b[0m\n",
      "\u001b[?25hBuilding wheels for collected packages: pypika\n",
      "  Building wheel for pypika (pyproject.toml) ... \u001b[?25l\u001b[?25hdone\n",
      "  Created wheel for pypika: filename=PyPika-0.48.9-py2.py3-none-any.whl size=53725 sha256=062636665cf96faf33d706f7abf18bdb66a5365f14067d2a77ab4b4edec9a2f8\n",
      "  Stored in directory: /root/.cache/pip/wheels/e1/26/51/d0bffb3d2fd82256676d7ad3003faea3bd6dddc9577af665f4\n",
      "Successfully built pypika\n",
      "Installing collected packages: pypika, monotonic, durationpy, websockets, uvloop, uvicorn, pyproject_hooks, overrides, opentelemetry-util-http, opentelemetry-proto, mmh3, importlib-metadata, humanfriendly, httptools, chroma-hnswlib, bcrypt, backoff, asgiref, watchfiles, starlette, posthog, opentelemetry-exporter-otlp-proto-common, opentelemetry-api, coloredlogs, build, opentelemetry-semantic-conventions, opentelemetry-instrumentation, onnxruntime, kubernetes, fastapi, opentelemetry-sdk, opentelemetry-instrumentation-asgi, opentelemetry-instrumentation-fastapi, opentelemetry-exporter-otlp-proto-grpc, chromadb\n",
      "  Attempting uninstall: importlib-metadata\n",
      "    Found existing installation: importlib_metadata 8.5.0\n",
      "    Uninstalling importlib_metadata-8.5.0:\n",
      "      Successfully uninstalled importlib_metadata-8.5.0\n",
      "  Attempting uninstall: opentelemetry-api\n",
      "    Found existing installation: opentelemetry-api 1.16.0\n",
      "    Uninstalling opentelemetry-api-1.16.0:\n",
      "      Successfully uninstalled opentelemetry-api-1.16.0\n",
      "  Attempting uninstall: opentelemetry-semantic-conventions\n",
      "    Found existing installation: opentelemetry-semantic-conventions 0.37b0\n",
      "    Uninstalling opentelemetry-semantic-conventions-0.37b0:\n",
      "      Successfully uninstalled opentelemetry-semantic-conventions-0.37b0\n",
      "  Attempting uninstall: opentelemetry-sdk\n",
      "    Found existing installation: opentelemetry-sdk 1.16.0\n",
      "    Uninstalling opentelemetry-sdk-1.16.0:\n",
      "      Successfully uninstalled opentelemetry-sdk-1.16.0\n",
      "Successfully installed asgiref-3.8.1 backoff-2.2.1 bcrypt-4.2.0 build-1.2.2.post1 chroma-hnswlib-0.7.6 chromadb-0.5.17 coloredlogs-15.0.1 durationpy-0.9 fastapi-0.115.4 httptools-0.6.4 humanfriendly-10.0 importlib-metadata-8.4.0 kubernetes-31.0.0 mmh3-5.0.1 monotonic-1.6 onnxruntime-1.20.0 opentelemetry-api-1.27.0 opentelemetry-exporter-otlp-proto-common-1.27.0 opentelemetry-exporter-otlp-proto-grpc-1.27.0 opentelemetry-instrumentation-0.48b0 opentelemetry-instrumentation-asgi-0.48b0 opentelemetry-instrumentation-fastapi-0.48b0 opentelemetry-proto-1.27.0 opentelemetry-sdk-1.27.0 opentelemetry-semantic-conventions-0.48b0 opentelemetry-util-http-0.48b0 overrides-7.7.0 posthog-3.7.0 pypika-0.48.9 pyproject_hooks-1.2.0 starlette-0.41.2 uvicorn-0.32.0 uvloop-0.21.0 watchfiles-0.24.0 websockets-13.1\n"
     ]
    }
   ],
   "source": [
    "! pip install chromadb"
   ]
  },
  {
   "cell_type": "code",
   "execution_count": 45,
   "id": "PYpXvGELQYmb",
   "metadata": {
    "colab": {
     "base_uri": "https://localhost:8080/"
    },
    "id": "PYpXvGELQYmb",
    "outputId": "630cd0b2-0a51-4fa9-e443-70513a187997"
   },
   "outputs": [
    {
     "name": "stdout",
     "output_type": "stream",
     "text": [
      "Collecting pypdf\n",
      "  Downloading pypdf-5.1.0-py3-none-any.whl.metadata (7.2 kB)\n",
      "Requirement already satisfied: typing_extensions>=4.0 in /usr/local/lib/python3.10/dist-packages (from pypdf) (4.12.2)\n",
      "Downloading pypdf-5.1.0-py3-none-any.whl (297 kB)\n",
      "\u001b[?25l   \u001b[90m━━━━━━━━━━━━━━━━━━━━━━━━━━━━━━━━━━━━━━━━\u001b[0m \u001b[32m0.0/298.0 kB\u001b[0m \u001b[31m?\u001b[0m eta \u001b[36m-:--:--\u001b[0m\r",
      "\u001b[2K   \u001b[91m━━━━━━━━━━━━\u001b[0m\u001b[90m╺\u001b[0m\u001b[90m━━━━━━━━━━━━━━━━━━━━━━━━━━━\u001b[0m \u001b[32m92.2/298.0 kB\u001b[0m \u001b[31m2.6 MB/s\u001b[0m eta \u001b[36m0:00:01\u001b[0m\r",
      "\u001b[2K   \u001b[90m━━━━━━━━━━━━━━━━━━━━━━━━━━━━━━━━━━━━━━━━\u001b[0m \u001b[32m298.0/298.0 kB\u001b[0m \u001b[31m4.7 MB/s\u001b[0m eta \u001b[36m0:00:00\u001b[0m\n",
      "\u001b[?25hInstalling collected packages: pypdf\n",
      "Successfully installed pypdf-5.1.0\n"
     ]
    }
   ],
   "source": [
    "! pip install pypdf"
   ]
  },
  {
   "cell_type": "markdown",
   "id": "F5KBwhYXFV1y",
   "metadata": {
    "id": "F5KBwhYXFV1y"
   },
   "source": [
    "# HyDE : Advanced RAG (Query Optimization Technique)\n",
    "\n",
    "Why hypothetical document embeddings (HyDE)?\n",
    "Traditional document retrieval in RAG models relies on matching queries with existing documents in a collection. This approach faces limitations:\n",
    "\n",
    "Limited generalizability: Existing retrieval methods often struggle with unseen domains or queries with subtle variations.\n",
    "\n",
    "Factual accuracy: Retrieving documents based solely on keyword matching might lead to irrelevant or inaccurate information, especially for complex queries.\n",
    "\n",
    "HyDE tackles these challenges by introducing the concept of hypothetical documents.\n",
    "\n",
    "How HyDE works ?\n",
    "\n",
    "Here’s a breakdown of the HyDE workflow:\n",
    "\n",
    "Query processing: The user submits a query.\n",
    "\n",
    "Hypothetical document generation: HyDE utilizes an LLM to create one or more “hypothetical documents” that address the query. These documents might not be factual or complete, but they capture the information a relevant document would contain. This generation process often involves prompting the LLM with instructions like “Write a short summary of a web page that answers the question...”.\n",
    "\n",
    "Embedding creation: Each generated hypothetical document is then converted into a numerical representation called an embedding. This embedding captures the semantic meaning of the document.\n",
    "\n",
    "Document retrieval: The system searches for existing documents in the collection whose embeddings are most similar to the hypothetical document embeddings. This process leverages vector similarity techniques.\n",
    "\n",
    "Response generation: The retrieved documents are fed into the RAG model’s generation stage, where they are used to create a response to the user’s query.\n",
    "\n",
    "\n",
    "![image.png](data:image/png;base64,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)"
   ]
  },
  {
   "cell_type": "markdown",
   "id": "MRj9jSLOjBGX",
   "metadata": {
    "id": "MRj9jSLOjBGX"
   },
   "source": [
    "# Import necessary libraries"
   ]
  },
  {
   "cell_type": "code",
   "execution_count": 43,
   "id": "K1jC7F6tUkkF",
   "metadata": {
    "id": "K1jC7F6tUkkF"
   },
   "outputs": [],
   "source": [
    "import os\n",
    "from langchain_openai import OpenAI\n",
    "from langchain_openai import OpenAIEmbeddings\n",
    "from langchain.chains import HypotheticalDocumentEmbedder\n",
    "from langchain.prompts import PromptTemplate\n",
    "from langchain.text_splitter import RecursiveCharacterTextSplitter\n",
    "from langchain_community.document_loaders import PyPDFLoader\n",
    "from langchain_community.vectorstores import Chroma\n",
    "from langchain_core.prompts import ChatPromptTemplate\n",
    "from langchain_openai import ChatOpenAI\n",
    "from langchain_core.output_parsers import StrOutputParser\n",
    "from langchain_core.runnables import RunnablePassthrough"
   ]
  },
  {
   "cell_type": "markdown",
   "id": "KIDOhpITKhFb",
   "metadata": {
    "id": "KIDOhpITKhFb"
   },
   "source": [
    "# Set up the OpenAI API key"
   ]
  },
  {
   "cell_type": "code",
   "execution_count": 42,
   "id": "AU6r7bZLHgSn",
   "metadata": {
    "id": "AU6r7bZLHgSn"
   },
   "outputs": [],
   "source": [
    "OPENAI_API_KEY = os.environ[\"OPENAI_API_KEY\"] = \"\"  # Add your OpenAI API key\n",
    "if OPENAI_API_KEY == \"\":\n",
    "    raise ValueError(\"Please set the OPENAI_API_KEY environment variable\")"
   ]
  },
  {
   "cell_type": "markdown",
   "id": "lCUPKMXePcax",
   "metadata": {
    "id": "lCUPKMXePcax"
   },
   "source": [
    "# Load and split documents\n",
    "\n",
    "Here, we load some example documents and prepare them for processing by the LLM. Since real-world documents might be lengthy, we’ll also perform text splitting to ensure they fit the LLM’s input limitations.\n",
    "\n",
    "Initialize a list called loaders, containing instances of the PyPDFLoader class from LangChain. These loaders are used to load text files containing the documents to be processed.\n",
    "\n",
    "Iterate over each loader in the loaders list and load the documents using the load() method of each loader. The documents loaded from each loader are then appended to the docs list.\n",
    "\n",
    "Create an instance of the RecursiveCharacterTextSplitter class, specifying a chunk_size of 10000 characters. This splitter class is used to split large documents into smaller, more manageable chunks.\n",
    "\n",
    "Call the split_documents() method of the text_splitter object with the docs list as input. This method splits each document into the docs list into smaller chunks using the specified chunk_size. The resulting split documents are then assigned back to the docs list."
   ]
  },
  {
   "cell_type": "code",
   "execution_count": 46,
   "id": "P0TANRCMIw1F",
   "metadata": {
    "id": "P0TANRCMIw1F"
   },
   "outputs": [],
   "source": [
    "loaders = [\n",
    "    PyPDFLoader(\"Attention_is_all_you_need.pdf\"),\n",
    "    PyPDFLoader(\"Improvingaccuracyofpretrainedwordembeddingsforsentimentanalysis.pdf\")\n",
    "]\n",
    "\n",
    "docs = []\n",
    "for loader in loaders:\n",
    "    docs.extend(loader.load())\n",
    "\n",
    "text_splitter = RecursiveCharacterTextSplitter(chunk_size=10000 , chunk_overlap=1000)\n",
    "docs = text_splitter.split_documents(docs)"
   ]
  },
  {
   "cell_type": "code",
   "execution_count": 47,
   "id": "bOHoOCTeQWcF",
   "metadata": {
    "colab": {
     "base_uri": "https://localhost:8080/"
    },
    "id": "bOHoOCTeQWcF",
    "outputId": "22b4376e-5ca9-4957-99e8-7907a38f95f7"
   },
   "outputs": [
    {
     "data": {
      "text/plain": [
       "30"
      ]
     },
     "execution_count": 47,
     "metadata": {},
     "output_type": "execute_result"
    }
   ],
   "source": [
    "len(docs)"
   ]
  },
  {
   "cell_type": "code",
   "execution_count": 48,
   "id": "4TdVUu7aQqmA",
   "metadata": {
    "colab": {
     "base_uri": "https://localhost:8080/",
     "height": 296
    },
    "id": "4TdVUu7aQqmA",
    "outputId": "548938f0-adae-4a30-b120-0ff3f609f322"
   },
   "outputs": [
    {
     "data": {
      "application/vnd.google.colaboratory.intrinsic+json": {
       "type": "string"
      },
      "text/plain": [
       "'Provided proper attribution is provided, Google hereby grants permission to\\nreproduce the tables and figures in this paper solely for use in journalistic or\\nscholarly works.\\nAttention Is All You Need\\nAshish Vaswani∗\\nGoogle Brain\\navaswani@google.com\\nNoam Shazeer∗\\nGoogle Brain\\nnoam@google.com\\nNiki Parmar∗\\nGoogle Research\\nnikip@google.com\\nJakob Uszkoreit∗\\nGoogle Research\\nusz@google.com\\nLlion Jones∗\\nGoogle Research\\nllion@google.com\\nAidan N. Gomez∗ †\\nUniversity of Toronto\\naidan@cs.toronto.edu\\nŁukasz Kaiser∗\\nGoogle Brain\\nlukaszkaiser@google.com\\nIllia Polosukhin∗ ‡\\nillia.polosukhin@gmail.com\\nAbstract\\nThe dominant sequence transduction models are based on complex recurrent or\\nconvolutional neural networks that include an encoder and a decoder. The best\\nperforming models also connect the encoder and decoder through an attention\\nmechanism. We propose a new simple network architecture, the Transformer,\\nbased solely on attention mechanisms, dispensing with recurrence and convolutions\\nentirely. Experiments on two machine translation tasks show these models to\\nbe superior in quality while being more parallelizable and requiring significantly\\nless time to train. Our model achieves 28.4 BLEU on the WMT 2014 English-\\nto-German translation task, improving over the existing best results, including\\nensembles, by over 2 BLEU. On the WMT 2014 English-to-French translation task,\\nour model establishes a new single-model state-of-the-art BLEU score of 41.8 after\\ntraining for 3.5 days on eight GPUs, a small fraction of the training costs of the\\nbest models from the literature. We show that the Transformer generalizes well to\\nother tasks by applying it successfully to English constituency parsing both with\\nlarge and limited training data.\\n∗Equal contribution. Listing order is random. Jakob proposed replacing RNNs with self-attention and started\\nthe effort to evaluate this idea. Ashish, with Illia, designed and implemented the first Transformer models and\\nhas been crucially involved in every aspect of this work. Noam proposed scaled dot-product attention, multi-head\\nattention and the parameter-free position representation and became the other person involved in nearly every\\ndetail. Niki designed, implemented, tuned and evaluated countless model variants in our original codebase and\\ntensor2tensor. Llion also experimented with novel model variants, was responsible for our initial codebase, and\\nefficient inference and visualizations. Lukasz and Aidan spent countless long days designing various parts of and\\nimplementing tensor2tensor, replacing our earlier codebase, greatly improving results and massively accelerating\\nour research.\\n†Work performed while at Google Brain.\\n‡Work performed while at Google Research.\\n31st Conference on Neural Information Processing Systems (NIPS 2017), Long Beach, CA, USA.\\narXiv:1706.03762v7  [cs.CL]  2 Aug 2023'"
      ]
     },
     "execution_count": 48,
     "metadata": {},
     "output_type": "execute_result"
    }
   ],
   "source": [
    "docs[0].page_content"
   ]
  },
  {
   "cell_type": "code",
   "execution_count": 49,
   "id": "u83njU48RHqN",
   "metadata": {
    "colab": {
     "base_uri": "https://localhost:8080/",
     "height": 140
    },
    "id": "u83njU48RHqN",
    "outputId": "f8fda694-00af-4100-d167-6cd8f7aac88b"
   },
   "outputs": [
    {
     "data": {
      "application/vnd.google.colaboratory.intrinsic+json": {
       "type": "string"
      },
      "text/plain": [
       "'[35] X. Ouyang, P. Zhou, C. Li, L. Liu, Sentiment Analysis Using Convolutional Neural Network, IEEE \\nInternational Conference on Computer and Information Technology; Ubiquitous Computing and \\nCommunications; Dependable, Autonomic and Secure Computing; Pervasive Intelligence and Computing \\n(CIT/IUCC/DASC/PICOM). (2015) \\n[36] J. Deriu, A. Lucchi, V. Luca, T. Hofmann, M. Jaggi, Leveraging Large Amounts of Weakly Supervised  \\nData for Multi-Language Sentiment Classification, International World Wide Web Conference Committee \\n(IW3C2). (2017) 1045-1052. \\n[37] B. Pang, L. Lee, Seeing stars: Exploiting class relationships for sentiment categorization with respect \\nto rating scales, In: Proceedings of the 43rd Annual Meeting on Association for Computational Linguistics. \\n(2005) 115-124. \\n[38] R. Socher, A. Perelygin, J.Wu, J. Chuang, C. Manning, A. Ng, C. Potts, Recursive Deep Models for \\nSemantic Compositionality Over a Sentiment Treebank, In: Proceedings of EMNLP. (2013) \\n[39] O. Levy, Y. Goldberg, I. Dagan, Improving distributional similarity with lessons learned from word \\nembeddings, Transactions of the Association for Computational Linguistics. 3 (2015) 211- 225.'"
      ]
     },
     "execution_count": 49,
     "metadata": {},
     "output_type": "execute_result"
    }
   ],
   "source": [
    "docs[29].page_content"
   ]
  },
  {
   "cell_type": "markdown",
   "id": "RoBDmZbORRQ8",
   "metadata": {
    "id": "RoBDmZbORRQ8"
   },
   "source": [
    "# Create a vector store\n",
    "\n",
    "A vector store serves as a critical component for retrieval in HyDE. It allows us to store document embeddings and efficiently search for documents similar to a hypothetical document embedding.\n",
    "\n",
    "A vector store is created to facilitate information retrieval by indexing document embeddings."
   ]
  },
  {
   "cell_type": "code",
   "execution_count": 50,
   "id": "20c9rlptRNJh",
   "metadata": {
    "id": "20c9rlptRNJh"
   },
   "outputs": [],
   "source": [
    "vectorstore = Chroma.from_documents(documents=docs, embedding=OpenAIEmbeddings())"
   ]
  },
  {
   "cell_type": "markdown",
   "id": "KuXr3ethRm-W",
   "metadata": {
    "id": "KuXr3ethRm-W"
   },
   "source": [
    "# Generate embeddings (single and multiple )\n",
    "\n",
    "HyDE’s core functionality is generating embeddings representing hypothetical documents relevant to a user query. Here, we’ll explore generating both single and multiple embeddings.\n",
    "\n",
    "Below is the implementation of single embedding generation :\n",
    "\n",
    "Initialize the embedding model and LLM. The HypotheticalDocumentEmbedder class combines the capabilities of an OpenAI language model (LLM) with OpenAIEmbeddings for creating embeddings, specifically for the \"web_search\" context.\n",
    "\n",
    "Define a query about Topic segmentation. This query string will be used to generate an embedding that represents the query in a numerical format.\n",
    "\n",
    "Use the embedding model to generate an embedding for the query. The embed_query method processes the query string, converting it into an embedding vector that captures the semantic meaning of the query\n",
    "\n",
    "Below is the implementation of multiple embedding generation 🇰\n",
    "\n",
    "Initialize an OpenAI LLM with specific parameters. The n=3 parameter specifies generating three completions per prompt, and best_of=4 means choosing the best completion out of four attempts.\n",
    "\n",
    "Initialize the embedding model using the previously created LLM. The HypotheticalDocumentEmbedder class combines the capabilities of multi_llm with OpenAIEmbeddings for creating embeddings, specifically for the \"web_search\" context.\n",
    "\n",
    "Generate an embedding for a specific query. The embed_query method processes the query string \"What is Topic segmentation, and why do we need it?\", converting it into an embedding vector that captures the semantic meaning of the query.\n"
   ]
  },
  {
   "cell_type": "code",
   "execution_count": 56,
   "id": "zgHx-I-VRgmZ",
   "metadata": {
    "id": "zgHx-I-VRgmZ"
   },
   "outputs": [],
   "source": [
    "# Single embedding generation\n",
    "\n",
    "embeddings = HypotheticalDocumentEmbedder.from_llm(OpenAI(), OpenAIEmbeddings(), \"web_search\")\n",
    "\n",
    "query = \"What is topic segmentation, and why do we need it?\"\n",
    "\n",
    "result = embeddings.embed_query(query)"
   ]
  },
  {
   "cell_type": "code",
   "execution_count": 57,
   "id": "13F-VVY7SKjH",
   "metadata": {
    "colab": {
     "base_uri": "https://localhost:8080/"
    },
    "id": "13F-VVY7SKjH",
    "outputId": "0c16b27b-9423-4511-f124-a51bbe35b334"
   },
   "outputs": [
    {
     "name": "stdout",
     "output_type": "stream",
     "text": [
      "[-0.018563611432909966, 0.0045181941241025925, 0.014146100729703903, -0.016650615260004997, 0.0037787961773574352, 0.00938878208398819, -0.012579206377267838, 0.015706703066825867, -0.00853296834975481, -0.051474690437316895, -0.018060190603137016, 0.028015321120619774, -0.035390421748161316, -0.003907797392457724, 0.004329411778599024, 0.0065444596111774445, 0.03166511654853821, -0.003154240781441331, 0.0019633378833532333, -0.02245252951979637, -0.015392065048217773, -0.011144459247589111, -0.00893570389598608, 0.008212038315832615, -0.016700956970453262, 0.005015321541577578, 0.02541012316942215, -0.028720108792185783, -0.003077154513448477, 0.00893570389598608, -0.004486730322241783, 0.004275923129171133, -0.009313269518315792, -0.012308618053793907, 0.0011295485310256481, 0.026681257411837578, 0.02834254316985607, -0.009583857841789722, 0.00413119001314044, -0.030708618462085724, 0.005383447278290987, 0.008690287359058857, -0.004653488285839558, -0.012038029730319977, -0.012069493532180786, 0.010741723701357841, 0.022767167538404465, -0.01662544347345829, -0.015228454023599625, 0.008583310060203075, 0.025196168571710587, 0.02796497941017151, -0.03672448545694351, 0.0010461696656420827, -0.019633378833532333, 0.0020860463846474886, 0.0005466826260089874, 0.013164431788027287, 0.0016282489523291588, -0.029802462086081505, 0.005855403374880552, 0.002093912335112691, 0.013781121000647545, -0.006053625140339136, -0.025032557547092438, -0.02430259808897972, -0.04480437561869621, 0.03221887722611427, 0.015366894192993641, -0.010861285962164402, 0.0057232556864619255, 0.03388016298413277, -0.004505608696490526, 0.0032376195304095745, 0.016436662524938583, -0.019796989858150482, 0.0031149110291153193, -0.027008481323719025, 0.0018311900785192847, 0.012189055792987347, 0.0007968193967826664, -0.0006717510404996574, -0.003445280250161886, 0.0410538986325264, 0.005490424111485481, -0.0010060532949864864, 0.02056470513343811, -0.004304240457713604, -0.009187414310872555, -0.006148016080260277, -0.019331326708197594, 0.015039671212434769, 0.003165252972394228, 0.01033269427716732, -0.0001753120741341263, 0.03184131160378456, -0.0019633378833532333, 0.003958139568567276, 0.0014976743841543794, -0.02510807104408741, -0.017581941559910774, 0.0052166893146932125, -0.01827414520084858, -0.013051162473857403, -0.030180025845766068, 0.019847331568598747, 0.012289740145206451, -0.008872777223587036, 0.022893022745847702, 0.004288509022444487, 0.002985909581184387, 0.03304952010512352, -0.013051162473857403, 0.005059370771050453, 0.006947195623070002, -0.0034421340096741915, 0.0027216142043471336, -0.01877756416797638, -0.023836934939026833, -0.0043168263509869576, 0.03284815326333046, -0.0034641586244106293, 0.011968809179961681, -0.0008243501652032137, 0.0454336516559124, -0.01317701768130064, -0.022364431992173195, -0.010018057189881802, -0.01857619732618332, -0.020476607605814934, -0.00022181942767929286, 0.022200820967555046, 0.018261559307575226, 0.0181734599173069, 0.004562243353575468, 0.0036875512450933456, 0.009395075030624866, -0.0029245554469525814, -0.0350128598511219, -0.03136306256055832, 0.032395076006650925, 0.028015321120619774, -0.012296032160520554, -0.02480601891875267, 0.0035302324686199427, 0.00928809866309166, 0.03156443312764168, 0.021823255345225334, 0.015241038985550404, 0.02140793390572071, 0.021244322881102562, -0.007601641584187746, -0.00476361159235239, 0.01636114902794361, 0.010257181711494923, 0.029500409960746765, 0.028594253584742546, -0.0021033515222370625, 0.0019240081310272217, 0.00470383046194911, 0.039191242307424545, 0.015115184709429741, 0.00741285877302289, 0.004700683988630772, 0.031010668724775314, 0.0346604660153389, 0.015077427960932255, 0.006550752092152834, -0.002222913783043623, -0.0035050613805651665, 0.017644869163632393, 0.027109164744615555, -0.016449246555566788, 0.00013126281555742025, -0.012119835242629051, -0.0070227086544036865, 0.022741997614502907, 0.026429548859596252, -0.0003154240839648992, -0.023937618359923363, -0.005298495292663574, 0.009004924446344376, 0.002114363946020603, 0.0034075239673256874, -0.01962079294025898, -0.015001914463937283, 0.002169425366446376, -0.00455280439928174, 0.006991244852542877, -0.021357592195272446, 0.009848153218626976, 0.016373734921216965, 0.011647879146039486, -0.020514363422989845, -0.6447802782058716, 0.008470040746033192, 0.02157154493033886, 0.009464295580983162, 0.017896579578518867, -0.008369357325136662, 0.02150861732661724, 0.021722571924328804, 0.011540902778506279, -3.0824641726212576e-05, 0.007375102490186691, -0.0002597725542727858, 0.008658823557198048, 0.001420588232576847, -0.01853843964636326, -0.009634199552237988, 0.004684952087700367, -0.01853843964636326, -0.01095567736774683, 0.01080465130507946, -0.04044979438185692, 0.006764705758541822, -0.029701778665184975, 0.022666484117507935, -0.0006965287029743195, 0.010596990585327148, 0.01897893287241459, -0.001166518428362906, 0.006254992913454771, 0.02864459529519081, -0.03141340613365173, -0.03055759146809578, 0.006821340415626764, -0.018500683829188347, 0.04034911096096039, 0.01722954772412777, -0.002333036856725812, 0.007803009357303381, 0.008419699035584927, 0.009835567325353622, -0.007639397867023945, -0.032999180257320404, 0.00785964448004961, -0.003728454001247883, 0.019293570891022682, 0.008979753591120243, 0.027889465913176537, 0.005289055872708559, 0.012340081855654716, -0.007677154615521431, -0.022540628910064697, 0.01581997238099575, 0.011213679797947407, -0.0014544117730110884, -0.010615868493914604, 0.0272601917386055, 0.012705061584711075, -0.021684814244508743, 0.0028301640413701534, -0.011842954903841019, -0.015845144167542458, -0.015618604607880116, -0.009602735750377178, -0.038486454635858536, -0.02874528057873249, 0.019067030400037766, 0.007066757883876562, -0.0024227085523307323, 0.016549931839108467, -0.0196837205439806, -0.011320656165480614, 0.027335703372955322, -0.0007716484251432121, -0.043772365897893906, 0.006349384319037199, 0.021999452263116837, 0.014485909603536129, -0.0009470587829127908, -0.01223310548812151, -0.0005344903911463916, -0.010622161440551281, -0.00011582591832848266, -0.019092202186584473, -0.009061559103429317, 0.0156563613563776, 0.007551299408078194, -0.007356224115937948, 0.00022221272229216993, 0.02322024665772915, 0.0036749658174812794, -0.0013513679150491953, 0.02894664742052555, -0.004310533404350281, -0.04460300877690315, -0.022704239934682846, 0.018085362389683723, 0.017078522592782974, 0.0001986149000003934, 0.005745280534029007, -0.010194254107773304, -0.010175376199185848, -0.012799452990293503, -0.013957318849861622, 0.013340628705918789, 0.03282298147678375, -0.0027562242466956377, 0.025586320087313652, -0.003542817896232009, 0.014448152855038643, -0.019595621153712273, 0.012296032160520554, -0.014196443371474743, 0.00701641570776701, -0.010559233836829662, -8.082250133156776e-05, -0.019129958003759384, 0.012176469899713993, -0.008551846258342266, -0.015102598816156387, -0.020287824794650078, 0.016977837309241295, -0.004908344708383083, -0.001168878166936338, -0.019532695412635803, 0.024793433025479317, 0.01077318750321865, 0.0071485633961856365, -0.00482968520373106, -0.002647674409672618, -0.017116278409957886, -0.01652476005256176, -0.02894664742052555, 0.010326402261853218, -0.016071682795882225, -0.004864295478910208, -0.008149110712110996, 0.009684541262686253, 0.002576880855485797, 0.0010965116089209914, -0.02376142144203186, -0.019243227317929268, -0.028317373245954514, 0.0227168258279562, -0.012207933701574802, -0.020942270755767822, -0.018953761085867882, -0.022804923355579376, 0.006664021871984005, 0.006708071101456881, -0.018991518765687943, -0.01811053231358528, -0.0299534872174263, -0.016600273549556732, 0.006557045038789511, -0.004099726211279631, -0.010244595818221569, 0.018802735954523087, -0.03136306256055832, -0.019708892330527306, -0.022125307470560074, -0.009445416741073132, 0.019545279443264008, -0.023887276649475098, 0.015152940526604652, -0.008325307630002499, -0.021093295887112617, -0.013139260932803154, 0.01955786533653736, -0.01648700423538685, -0.03561696410179138, 0.019796989858150482, 0.009458002634346485, 0.001890971208922565, 0.002337756333872676, -0.005893160123378038, 0.01750642992556095, -0.013491654768586159, -0.02494446001946926, 0.017556771636009216, -0.007639397867023945, -0.011937346309423447, -0.001030437764711678, 0.015769630670547485, -0.006066210567951202, -0.0047761970199644566, 0.009093022905290127, 0.009244048967957497, 0.023874692618846893, -0.0018437756225466728, 0.03450943902134895, 0.027083994820713997, 0.012277154251933098, -0.015996169298887253, 0.0008274965803138912, 0.0026964431162923574, 0.014850889332592487, 0.01800984889268875, -0.012421887367963791, -0.009174828417599201, -0.010886456817388535, 0.021219151094555855, 0.006487824954092503, -0.01911737397313118, -0.031212037429213524, -0.0023251709062606096, 0.00238495203666389, -0.0024573185946792364, -0.02685745432972908, 0.00012693656026385725, 0.0032376195304095745, 0.028795622289180756, -0.0279398076236248, -0.0077023254707455635, -0.02450396679341793, -0.011188508942723274, 0.035491108894348145, -0.03214336559176445, 0.009974008426070213, -0.0417335145175457, 0.007884815335273743, -0.00226381653919816, -0.01803502067923546, 0.00771491089835763, -0.006295895669609308, -0.034584950655698776, 0.014083173125982285, 0.023471955209970474, 0.00601586839184165, -0.0015574555145576596, -0.04372202232480049, 0.003973871469497681, 0.0356673039495945, 0.014850889332592487, 0.02086675725877285, 0.00525759207084775, 0.015769630670547485, 0.011100410483777523, -0.01992284506559372, 0.03886402025818825, -0.020589876919984818, -0.006903146393597126, 0.009942544624209404, 0.00036301297950558364, -0.04160765931010246, 0.034584950655698776, 0.018324486911296844, 0.02655540220439434, -0.011773734353482723, -0.0037850888911634684, -0.006418604403734207, -0.00023302837507799268, 0.02564924769103527, -0.019469767808914185, -0.027990149334073067, 0.028090834617614746, -0.01033269427716732, 0.014171271584928036, 0.0042979479767382145, 0.024088645353913307, 0.030180025845766068, -0.0026508206501603127, -0.005320519674569368, 0.015568261966109276, 0.0036623801570385695, 0.009395075030624866, -0.0030220928601920605, 0.014548837207257748, -0.005150615703314543, -0.031514089554548264, -0.0035805744118988514, 0.008992339484393597, -0.020174555480480194, 0.0010831395629793406, 0.0013474349398165941, -0.007513543125241995, 0.032495759427547455, 0.010338987223803997, 0.010867577977478504, -0.011584951542317867, 0.03443392366170883, -0.021634472534060478, -0.018639124929904938, 0.007916279137134552, 0.020942270755767822, -0.003967578522861004, -0.014750204980373383, -0.007091928739100695, -0.0030393979977816343, -0.0277636107057333, -0.013919562101364136, -0.0030692885629832745, 0.0137181943282485, -0.01642407663166523, -0.0015731874154880643, -0.00868399441242218, 0.02597646974027157, 0.004533926025032997, 0.011169630102813244, 0.01646183244884014, 0.002024692250415683, 0.004600000102072954, 0.01036415807902813, -0.03783201053738594, -0.01592065580189228, 0.06302817910909653, -0.008048426359891891, -0.03085964359343052, -0.002350341994315386, -0.0137181943282485, -0.005534473340958357, 0.0279398076236248, -0.014649520628154278, 0.004650341812521219, -0.001526778331026435, 0.008507797494530678, 0.008860191330313683, 0.01746867224574089, 0.011264021508395672, 0.04875622317194939, 0.015215868130326271, 0.027486730366945267, -0.02520875446498394, -0.0005671340622939169, 0.025825444608926773, 0.0723414495587349, 0.05084541440010071, -0.007620519492775202, 0.02008645609021187, -9.852086077444255e-05, 0.007362517062574625, -0.028569083660840988, -0.02315731905400753, 0.023547468706965446, -0.008828727528452873, -0.02110588178038597, -0.014787961728870869, 0.009879617020487785, -0.001157865859568119, 0.0044238027185201645, 0.01033269427716732, -0.0018233241280540824, 0.013982489705085754, -0.0020105335861444473, 0.008621066808700562, 0.016247879713773727, -0.002731053391471505, 0.016436662524938583, 0.013239945285022259, 0.027511900290846825, -0.00329425442032516, 0.027486730366945267, 0.030582763254642487, -0.009250341914594173, -0.025019971653819084, -0.009464295580983162, 0.01108782459050417, 0.009426538832485676, 0.013227359391748905, -0.030784130096435547, 0.02955075167119503, 0.008847605437040329, -0.024692749604582787, 0.006154309026896954, -0.008463747799396515, -0.016197538003325462, 0.028116004541516304, 0.011975102126598358, -0.01831190101802349, -0.028795622289180756, -0.04324377328157425, 0.009363611228764057, 0.008067305199801922, -0.023409027606248856, 0.003287961706519127, -0.011163338087499142, -0.0018595075234770775, -0.040500134229660034, -0.01412092987447977, 0.010357866063714027, -0.0032203146256506443, 0.0137181943282485, 0.02452913671731949, -0.02082900144159794, -0.015731872990727425, -0.006682899780571461, -0.02904733270406723, -0.0029575922526419163, -0.033200547099113464, -0.0060567716136574745, 0.01021313201636076, 0.008249795064330101, -0.011138166300952435, -0.013202188536524773, 0.023232830688357353, 0.022603556513786316, -4.112410169909708e-05, -0.01720437780022621, -0.01952010951936245, 0.03244541585445404, 0.008193159475922585, -0.007393980864435434, -0.00504049239680171, -0.010496306233108044, -0.0001304762263316661, -0.0006347810849547386, -0.026605745777487755, 0.020312994718551636, -0.038687825202941895, -0.010949384421110153, -0.019268399104475975, -0.032193705439567566, -0.0021599861793220043, -0.022943364456295967, 0.018047604709863663, -0.011905882507562637, -0.001688030082732439, -0.01108782459050417, 0.0030818739905953407, 0.015190697275102139, 0.02834254316985607, 0.008061012253165245, 0.0007755814003758132, 0.017657455056905746, -0.031514089554548264, 0.0012231532018631697, 0.011566073633730412, -0.01472503412514925, -0.0054841311648488045, 0.006626265123486519, -0.0005706737283617258, 0.0032722298055887222, 0.02092968486249447, 0.004785635974258184, -0.008186867460608482, 0.04472886398434639, -0.003154240781441331, 0.013013405725359917, 0.02181066945195198, 0.019004102796316147, -0.003357181791216135, 0.02349712699651718, 0.013894391246140003, 0.029273871332406998, -0.017254719510674477, -0.014863474294543266, -0.028820792213082314, 0.029122844338417053, 0.015303966589272022, -0.015606018714606762, 0.011861832812428474, 0.0002157233247999102, -0.006097674369812012, -0.027587413787841797, -0.022502873092889786, -0.019507523626089096, 0.010716552846133709, -0.010244595818221569, -0.03312503173947334, -0.021131053566932678, 0.0034893297124654055, 0.02450396679341793, 0.012774281203746796, -0.023484541103243828, -0.010716552846133709, 0.03133789077401161, 0.016411490738391876, 0.02032558061182499, -0.024151572957634926, 0.017053350806236267, -0.029122844338417053, -0.02123173698782921, 0.01526621077209711, 0.012541449628770351, 0.040298767387866974, -0.026505060493946075, 0.014926401898264885, -0.011062653735280037, -0.03644760698080063, 0.02864459529519081, -0.03584350273013115, -0.013403556309640408, 0.011421340517699718, 0.035893842577934265, 0.029122844338417053, 0.02874528057873249, -0.0036938439588993788, 0.004681805614382029, 0.011433925479650497, -0.006012722384184599, 0.005292202346026897, -0.017720382660627365, 0.0007618159870617092, -0.0027216142043471336, -0.0052638850174844265, 0.018261559307575226, 0.004027359653264284, -0.0004027359827887267, -0.033603280782699585, 0.022150477394461632, 0.0032281805761158466, 0.015442407689988613, 0.011572366580367088, -0.004313679877668619, -0.010143912397325039, -0.0016518468037247658, 0.029299041256308556, -0.005292202346026897, 0.02006128616631031, -0.030683446675539017, 0.0032564979046583176, 0.01612202450633049, 0.00928809866309166, 0.004386046435683966, 0.01861395314335823, 0.018626539036631584, 0.009495759382843971, -0.0400470569729805, -0.01263584103435278, 0.023409027606248856, -0.023081805557012558, 0.01699042320251465, -0.04759835824370384, 0.011591244488954544, 0.004439534619450569, 0.029676606878638268, 0.016398904845118523, 0.006198358256369829, -0.01945718191564083, -0.0027515047695487738, 0.0035711354576051235, 0.008841313421726227, -0.002449452644214034, 0.03408152982592583, -0.009004924446344376, -0.0048517100512981415, 0.0008589603239670396, -0.008526675403118134, 0.010118741542100906, 0.013390971347689629, 0.0054086181335151196, -0.004382899962365627, 0.0022905608639121056, -0.02685745432972908, -0.016940081492066383, 0.021621886640787125, 0.016134610399603844, 0.02783912420272827, -0.008224623277783394, 0.02012421377003193, 0.0003693057515192777, 0.0117800273001194, -0.014561422169208527, 0.004773050546646118, -0.004990150220692158, -0.0038322843611240387, 0.015203283168375492, 0.0042507522739470005, 0.028569083660840988, -0.0240634735673666, 0.003003214718773961, -0.008539261296391487, -0.007909986190497875, -0.025825444608926773, -0.0002873033517971635, 0.019129958003759384, 0.008136524818837643, -0.007727496325969696, 0.00020136799139436334, -0.014523666352033615, 0.030406566336750984, -0.0054841311648488045, 0.018991518765687943, 0.01357975322753191, 0.01581997238099575, -0.007758960127830505, 0.03526456654071808, -0.0176700409501791, -0.00378194241784513, -0.026832284405827522, 0.002142681274563074, -0.016096852719783783, 0.0016329685458913445, -0.011421340517699718, -0.023534882813692093, 0.01332804374396801, 0.01823638752102852, -0.05547688156366348, -0.017053350806236267, 0.024050889536738396, 0.018400000408291817, -0.00012624828377738595, 0.00017865508561953902, -0.013831463642418385, 0.02975212037563324, -0.024176742881536484, -0.008702872321009636, 0.005443228408694267, 0.008759506978094578, -0.0015747605357319117, -0.03287332504987717, 0.00756388483569026, -0.01646183244884014, -0.005222982261329889, -0.006582215894013643, 0.01102489698678255, 0.014624349772930145, -0.006695485673844814, 0.02494446001946926, 0.009722298011183739, -0.032898493111133575, 0.0013608071021735668, -0.00962790660560131, -0.0037032831460237503, -0.009369904175400734, -0.02597646974027157, 0.005654035601764917, 0.0019743500743061304, 0.0064689465798437595, -0.02420191466808319, -0.020476607605814934, -0.0032502051908522844, 0.045383308082818985, -0.008337893523275852, -0.02231409028172493, -0.018802735954523087, -0.011226264759898186, 0.0029418603517115116, 0.011169630102813244, -0.026026811450719833, -0.008539261296391487, 0.04382270947098732, -0.03106101229786873, -0.001285294070839882, 0.01996060088276863, 0.006424897350370884, 3.4855933336075395e-05, -0.0012467510532587767, -0.028090834617614746, 0.01777072437107563, -0.023245416581630707, 0.005235567688941956, -0.0004306600312702358, -0.03375430777668953, 0.027511900290846825, -0.03831025958061218, 0.00258317356929183, 0.009879617020487785, -0.028493570163846016, 0.0030236660968512297, -0.019746648147702217, 0.01811053231358528, -0.02746155858039856, -0.03760547190904617, -0.009885909035801888, -0.02476826123893261, 0.01443556696176529, -0.016650615260004997, 0.00504049239680171, -0.018941175192594528, -0.02072831615805626, -0.009030095301568508, -0.01117592304944992, -0.024692749604582787, 0.006295895669609308, 0.0070541719906032085, -0.0065444596111774445, 0.006418604403734207, -0.007519835606217384, -0.025661831721663475, -0.03158960118889809, -0.020149383693933487, -0.019532695412635803, -0.03682516887784004, -0.029097674414515495, -0.021647058427333832, 0.03632175177335739, -0.00938878208398819, -0.016008755192160606, -0.0004176812362857163, -0.008243502117693424, -0.048277974128723145, -0.006531874183565378, 0.018563611432909966, -0.009193707257509232, 0.014007660560309887, 0.034207385033369064, -0.015694117173552513, 0.034710805863142014, -0.00010668177128536627, 0.00567920645698905, -0.023371271789073944, -0.014460738748311996, -0.01542982179671526, 0.01200027298182249, 0.01571928896009922, -0.01750642992556095, -0.022339260205626488, -0.025561148300766945, 0.017758138477802277, -0.030809301882982254, 0.0003659627109300345, 0.019885089248418808, -0.003992749378085136, 0.0139699038118124, -0.01033269427716732, 0.029827632009983063, -0.0020105335861444473, 0.00021316688798833638, 0.0060882349498569965, -0.03473597764968872, -0.012245690450072289, 0.006808754988014698, -0.012157591991126537, -0.04800109192728996, 0.016549931839108467, -0.009867031127214432, -0.017003009095788002, 0.006966073531657457, -0.009747468866407871, 0.0017666894709691405, -0.016172366216778755, -0.003003214718773961, 0.03325088694691658, 0.03226922079920769, -0.03672448545694351, 0.026177838444709778, 0.008243502117693424, -0.007060464937239885, -0.016071682795882225, 0.004562243353575468, -0.013340628705918789, -0.014108343981206417, 0.028292201459407806, -0.018626539036631584, -0.013315457850694656, -0.005559644196182489, 0.011956224218010902, -0.018097948282957077, 0.0024651845451444387, 0.00010599350207485259, 0.00883502047508955, -0.006003282964229584, 0.01595841348171234, 0.014158686622977257, -0.010433378629386425, -0.003171545686200261, -0.025296853855252266, 0.013894391246140003, 0.0057893297635018826, -0.017254719510674477, 0.004074555356055498, -0.024617236107587814, 0.03005417250096798, 0.0013812584802508354, -0.011075238697230816, 0.03886402025818825, 0.006638850551098585, 0.012434473261237144, -0.030406566336750984, 0.024957044050097466, 0.17911681532859802, -0.018022434785962105, 0.008778385818004608, 0.009344733320176601, 0.026907796040177345, 0.004835978150367737, 0.004200410097837448, 0.009634199552237988, -0.029802462086081505, -0.017959507182240486, 0.019369082525372505, -0.006701778154820204, 0.013227359391748905, 9.434208186576143e-05, 0.0565340630710125, -0.04347031190991402, -0.0035459643695503473, -0.03783201053738594, -0.0105151841416955, 0.010187961161136627, 0.00048650818644091487, -0.007337345741689205, -0.020942270755767822, -0.007381394971162081, 0.035289738327264786, -0.0113584129139781, -0.012849794700741768, -0.00015741706010885537, 0.019394254311919212, 0.006789876613765955, 0.005229274742305279, -0.02635403536260128, -0.0025989054702222347, 0.019809575751423836, -0.0033886455930769444, 0.008463747799396515, 0.017091108486056328, -0.009489466436207294, 0.024994801729917526, -0.016877153888344765, 0.015668945387005806, -0.0001381455222144723, 0.004820246249437332, -0.025095485150814056, 0.011031189933419228, 0.006066210567951202, 0.004987004213035107, -0.0020923393312841654, -0.02181066945195198, 0.02301887795329094, -0.009413952939212322, 0.008117646910250187, 0.014058002270758152, 0.02339644357562065, -0.02030041068792343, -0.005682352930307388, -0.021156223490834236, 0.008891655132174492, 0.020338166505098343, 0.023748837411403656, -0.011679342947900295, 0.02036333829164505, -0.01159753743559122, 0.024076059460639954, 0.008595895953476429, 0.014850889332592487, 0.004266484174877405, 0.011754856444895267, 0.012245690450072289, -0.01418385747820139, 0.02150861732661724, 0.008356771431863308, -0.014347468502819538, -0.007538713980466127, -0.005757865961641073, -0.01317701768130064, 0.02396279014647007, 0.020036114379763603, 0.0007079343195073307, 0.02635403536260128, -0.02295595034956932, -0.009885909035801888, 0.006204651203006506, -0.016235293820500374, 0.0032911079470068216, -0.02442845329642296, 0.02884596399962902, -0.0065948013216257095, 0.00784076564013958, -0.018425170332193375, -0.016902325674891472, -0.024352939799427986, -0.009426538832485676, -0.012340081855654716, 0.012679890729486942, 0.017003009095788002, 0.01011244859546423, 0.004729001317173243, -0.021055540069937706, 0.003671819344162941, -0.026303693652153015, 0.04115458205342293, 0.033301230520009995, 0.0034484267234802246, -0.013806292787194252, 0.0017792748985812068, -0.006676607299596071, 0.0025170997250825167, -0.01123885065317154, 0.0003146374656353146, 0.02665608748793602, -0.02783912420272827, 0.013252530246973038, 0.007091928739100695, -0.004499315749853849, 0.020375922322273254, 0.0031164842657744884, -0.0414062924683094, -0.010496306233108044, 0.005446374882012606, -0.0279398076236248, -0.024818604812026024, 0.021282078698277473, 0.007488371804356575, 0.0010516757611185312, -0.015014500357210636, 0.0002210328239016235, 0.007658276241272688, -0.028720108792185783, 0.011528316885232925, -0.0013317031553015113, -0.032193705439567566, 0.018047604709863663, 0.005386593751609325, -0.011264021508395672, -0.0054558138363063335, -0.0005604479811154306, 0.0051222979091107845, -0.0005285909865051508, 0.01726730540394783, -0.007104514166712761, -0.004845417104661465, -0.0014591312501579523, 0.006840218789875507, 0.029299041256308556, -0.00814281776547432, -0.0028490424156188965, 0.01357975322753191, -0.014209028333425522, -0.02123173698782921, 0.0008967167814262211, -0.022037208080291748, -0.0020231190137565136, -0.014611764810979366, 0.012220519594848156, 0.010899041779339314, -0.015102598816156387, -0.012503692880272865, 0.017946921288967133, -0.015329137444496155, -0.0098418602719903, 0.01712886430323124, 0.01433488354086876, 0.003800820792093873, 0.013516825623810291, -0.008438576944172382, -0.15354308485984802, 0.001548016327433288, 0.031992338597774506, -0.027285361662507057, 0.02736087515950203, -0.0010556087363511324, 0.022465115413069725, 0.0037567715626209974, 0.00561942532658577, -0.0008369357092306018, 0.016877153888344765, -0.014007660560309887, -0.025284267961978912, -0.022741997614502907, -0.01458659302443266, 0.009822982363402843, -0.0014504787977784872, -0.009653077460825443, 0.014209028333425522, 0.011855539865791798, 0.030180025845766068, -0.02130725048482418, 0.008319014683365822, -0.007815594784915447, 0.020476607605814934, 0.0024935021065175533, -0.010546647943556309, 0.014662106521427631, -0.006456361152231693, -0.016335977241396904, -0.00046015731641091406, 0.011100410483777523, 0.006418604403734207, -0.019696306437253952, 0.0026618330739438534, 0.04017291218042374, 0.0019822160247713327, -0.0017824212554842234, -0.0014732900308445096, 0.01527879573404789, 0.032697126269340515, 0.018802735954523087, 0.012157591991126537, -0.022062379866838455, 0.008356771431863308, -0.02177291363477707, 0.005978112109005451, -0.012094664387404919, 0.01467469148337841, -0.024680163711309433, -0.0003470844530966133, 0.014636935666203499, 0.008407113142311573, 0.0051317373290658, -0.0006343878339976072, 0.0023204514291137457, -0.01233378890901804, 0.0007704684976488352, -0.017380574718117714, 0.0032627906184643507, 0.013655266724526882, -0.00028985977405682206, -0.009785225614905357, 0.005232421215623617, -0.023685909807682037, -0.00378194241784513, -0.005965526681393385, 0.0007236662204377353, -0.019608207046985626, -0.006840218789875507, -0.01433488354086876, 0.00950834434479475, 0.003061422612518072, -0.0049964431673288345, -0.004074555356055498, 0.023069219663739204, -0.012503692880272865, -0.0015700410585850477, 0.0020042406395077705, 0.010703966952860355, -0.007173734251409769, -0.004102872684597969, -0.004244459327310324, -0.001990081975236535, -0.0024887823965400457, 0.011100410483777523, 0.008319014683365822, -0.01302599161863327, -0.016411490738391876, -0.011352119967341423, 0.01945718191564083, -0.011270314455032349, -0.021382762119174004, 0.0028820792213082314, 0.012963064014911652, -0.00039487003232352436, 0.0001990082091651857, 0.0006123631610535085, 0.0032439124770462513, -0.016851983964443207, -0.011157045140862465, 0.008514090441167355, -0.006251846440136433, 0.008300136774778366, 0.026026811450719833, 0.02201203815639019, 0.011226264759898186, -0.0010430231923237443, 0.02783912420272827, 0.0028820792213082314, -0.01716662012040615, -0.01999835856258869, 0.0049303690902888775, 0.012126128189265728, 0.00594979478046298, 0.036497946828603745, 0.016512174159288406, -0.011887003667652607, 0.01807277649641037, 0.005474692210555077, 0.059453897178173065, -0.02675677090883255, 0.003206155961379409, 0.01502708625048399, 0.023409027606248856, -0.05109712481498718, -0.12847277522087097, -0.003247058717533946, 0.007696032524108887, 0.027134336531162262, -0.01200027298182249, -0.006349384319037199, -0.003102325601503253, 0.014234199188649654, 0.023585224524140358, 0.028191518038511276, -0.016952667385339737, -0.004275923129171133, -0.015253624878823757, -0.034710805863142014, 0.0014213748509064317, -0.011534609831869602, 0.0036623801570385695, -0.013856634497642517, -0.01867688074707985, 0.009533515200018883, -0.005034199450165033, -0.0235600546002388, 0.003514500567689538, -0.00034531462006270885, -0.016298221424221992, 0.02167223021388054, -0.019306154921650887, 0.02008645609021187, 0.0015865594614297152, 0.0007142270915210247, -0.007947742938995361, -0.02625335194170475, 0.0356673039495945, -0.02645471878349781, 0.0323195606470108, -0.009885909035801888, 0.00305355666205287, -0.034811489284038544, 0.01875239424407482, 0.005786183290183544, -0.016751298680901527, 0.00938878208398819, 0.019507523626089096, -0.031010668724775314, 0.008136524818837643, -0.023308344185352325, -0.02887113392353058, 0.010376743972301483, 0.0010925786336883903, -0.009867031127214432, -0.01827414520084858, -0.01050259917974472, -0.035793159157037735, -0.010389329865574837, 0.02796497941017151, 0.026932967826724052, 0.01260437723249197, -0.02615266665816307, -0.02194911055266857, 0.00452763307839632, -0.010326402261853218, -0.008551846258342266, -0.015530506148934364, 0.014750204980373383, 0.0025296853855252266, 0.004845417104661465, -0.02396279014647007, 0.00898604653775692, 0.030205197632312775, -0.027310533449053764, -0.007765253074467182, -0.0026413816958665848, -0.018840491771697998, 0.021496033295989037, -0.001550376182422042, -0.015115184709429741, -0.0329740084707737, 0.0025642954278737307, 0.006582215894013643, -0.002315731719136238, -0.021861011162400246, -0.015203283168375492, -0.010867577977478504, -0.021823255345225334, -0.0071485633961856365, 0.013302872888743877, -0.0009730163728818297, -0.012377838604152203, 0.026278521865606308, -0.027209848165512085, 0.021999452263116837, 0.0558796152472496, -0.011131874285638332, 0.011503146030008793, 0.0007692886283621192, -0.0063556768000125885, -0.02177291363477707, -0.004448974039405584, 4.132074900553562e-05, -0.00516634713858366, 0.0010925786336883903, -0.0026980163529515266, -0.029072502627968788, 0.021961696445941925, 0.012554035522043705, 0.0040588234551250935, 0.01853843964636326, 0.015618604607880116, 0.029626265168190002, -0.008633652701973915, -0.0039140903390944, 0.001112243509851396, 0.010647332295775414, 0.020841587334871292, -0.002891518408432603, -0.01418385747820139, -0.02715950645506382, -8.726273517822847e-05, 0.024352939799427986, -0.013101504184305668, 0.015631189569830894, 0.013453898020088673, -0.008916825987398624, -0.0018516415730118752, 0.012371545657515526, 0.016096852719783783, 0.002007387112826109, -0.0004231874190736562, -0.0050247604958713055, 0.011887003667652607, 0.00573898758739233, -0.003514500567689538, 0.011710806749761105, -0.013541997410356998, -0.01608426868915558, -0.0128749655559659, -0.022741997614502907, 0.008627359755337238, -0.00610711332410574, 0.02884596399962902, 0.008646237663924694, 0.049259644001722336, -0.024227086454629898, -0.04092804342508316, 0.026404377073049545, -0.016474418342113495, -0.021395348012447357, -0.020212311297655106, -0.0025989054702222347, -0.018651708960533142, -0.004706976469606161, -0.018097948282957077, 0.046163611114025116, 0.022830095142126083, 0.0018484952161088586, -0.00643748277798295, -0.03863748162984848, -0.013013405725359917, 0.026177838444709778, 0.023534882813692093, 0.005059370771050453, -0.03780683875083923, 0.023987961933016777, 0.013051162473857403, 0.0065444596111774445, -0.01066621020436287, -0.025586320087313652, -0.015354309231042862, -0.0017006155103445053, -0.01502708625048399, -0.014938987791538239, -0.020312994718551636, -0.006481532007455826, 0.017342817038297653, 0.007161148823797703, 0.006050478667020798, 0.016499590128660202, 0.013894391246140003, -0.008992339484393597, 0.02110588178038597, 0.0070038302801549435, 0.006632558070123196, 0.012516278773546219, 0.02695813961327076, 1.001677901513176e-05, 0.018286729231476784, 0.029097674414515495, 0.009760054759681225, 0.0042035565711557865, 0.01853843964636326, -0.02826703153550625, -0.004496169742196798, -0.0032093022018671036, 0.0038511627353727818, 0.0122016416862607, 0.008495211601257324, -0.015845144167542458, 0.00920629221946001, -0.016839398071169853, 0.012503692880272865, 0.0022213405463844538, 0.008916825987398624, 0.004288509022444487, -0.00671436358243227, 0.00028750000637955964, -0.00886648427695036, -0.018702050670981407, 0.0010595417115837336, -0.017393160611391068, -0.03430807217955589, 0.0078281806781888, 0.011691928841173649, 0.020740902051329613, -0.009822982363402843, 0.029928317293524742, -0.013265116140246391, -0.025598905980587006, 0.027914637699723244, 0.002064021769911051, -0.006726949010044336, -0.010106155648827553, 0.011257728561758995, 0.0022685362491756678, -3.8543090340681374e-05, 0.05819534882903099, -0.014888645149767399, 0.0027892612852156162, 0.011370998807251453, 0.03277263790369034, -0.016612859442830086, 0.01551792025566101, 0.009495759382843971, -0.00428221607580781, -0.01931874081492424, 0.007626812439411879, -0.005333105102181435, 0.005418057553470135, -0.02420191466808319, 0.019885089248418808, 0.02914801612496376, 0.014410396106541157, 0.058145005255937576, 0.007545006461441517, -0.013202188536524773, -0.023182488977909088, 0.00428221607580781, 0.017883993685245514, 0.014095759019255638, 0.016398904845118523, -0.020312994718551636, 0.0015299246879294515, 0.006311627570539713, 0.012648426927626133, -0.005078248679637909, -0.013906976208090782, -0.03166511654853821, 0.00455909688025713, -0.012019151821732521, 0.011905882507562637, -0.0009266073466278613, 0.01847551204264164, 0.030909985303878784, -0.04472886398434639, 0.01696525327861309, 0.01941942423582077, -0.02319507487118244, -0.008199452422559261, 0.011830369010567665, -0.0014481189427897334, -0.011433925479650497, -0.03863748162984848, 0.0240634735673666, -0.008627359755337238, -0.04800109192728996, -0.017456086352467537, -0.036900684237480164, -0.00012418348342180252, 0.005235567688941956, -0.016650615260004997, 0.01181149110198021, 0.029198357835412025, 0.0007401846814900637, 0.02362298220396042, -0.02335868589580059, -0.03055759146809578, -0.034912172704935074, -0.0014630642253905535, 0.0025580027140676975, -0.014209028333425522, -0.006393433548510075]\n",
      "1536\n"
     ]
    }
   ],
   "source": [
    "print(result)\n",
    "print(len(result))"
   ]
  },
  {
   "cell_type": "code",
   "execution_count": 58,
   "id": "tGipo9YQSNqL",
   "metadata": {
    "id": "tGipo9YQSNqL"
   },
   "outputs": [],
   "source": [
    "# Multiple embedding generation\n",
    "\n",
    "multi_llm = OpenAI(n=3, best_of=4)\n",
    "\n",
    "embeddings = HypotheticalDocumentEmbedder.from_llm(multi_llm, OpenAIEmbeddings(), \"web_search\")\n",
    "\n",
    "query = \"What is topic segmentation, and why do we need it?\"\n",
    "\n",
    "result = embeddings.embed_query(query)"
   ]
  },
  {
   "cell_type": "code",
   "execution_count": 62,
   "id": "58uqPMhaTlez",
   "metadata": {
    "colab": {
     "base_uri": "https://localhost:8080/"
    },
    "id": "58uqPMhaTlez",
    "outputId": "f51b8882-01d5-4c16-8727-ddb6db46365f"
   },
   "outputs": [
    {
     "name": "stdout",
     "output_type": "stream",
     "text": [
      "[-0.02852812595665455, 0.007251317147165537, 0.015645265579223633, -0.02473609521985054, 0.01153932511806488, 0.0076280091889202595, -0.02669489197432995, -0.001345103606581688, -0.01583361253142357, -0.04429895430803299, -0.005060226656496525, 0.03350045904517174, -0.02757384069263935, -0.008858535438776016, 0.010453197173774242, 0.00017441615636926144, 0.036287978291511536, -0.013020980171859264, -0.012481055222451687, -0.0345049686729908, -0.018570905551314354, -0.007201091852039099, -0.009178723208606243, 0.02388226054608822, -0.022287597879767418, 0.00816793367266655, 0.02757384069263935, -0.017943086102604866, -0.005615847185254097, 0.0024751790333539248, -0.006767896004021168, -0.0014133789809420705, -0.009059437550604343, -0.02364368923008442, -0.004137331619858742, 0.028302110731601715, 0.027247373014688492, -0.010271130129694939, 0.006177745759487152, -0.025075117126107216, -0.004680395592004061, 0.009222671389579773, -0.003562876721844077, -0.005666072480380535, -0.00872669368982315, 0.013498122803866863, 0.01612240821123123, -0.02541414089500904, -0.009611919522285461, 0.005198346916586161, 0.019449854269623756, 0.02222481556236744, -0.043068427592515945, 0.004168722778558731, 0.0006996265728957951, 0.0037323879078030586, -0.013460453599691391, 0.01270707044750452, 0.017729626968503, -0.02840256132185459, 0.010942896828055382, 0.007709625642746687, 0.004014906939119101, -0.005640959832817316, -0.02769940346479416, -0.02346789836883545, -0.0459815114736557, 0.022978199645876884, 0.006918572820723057, -0.007552670780569315, 0.013711581937968731, 0.03568527102470398, 0.005684907082468271, -0.008086317218840122, 0.004724342841655016, -0.026971133425831795, -0.0007773192483000457, -0.02334233559668064, 0.005813610274344683, 0.014552859589457512, 0.006017651408910751, -0.008268385194242, 0.0029350570403039455, 0.04382181167602539, -0.0024171057157218456, 0.0009707661811262369, 0.02530113235116005, -0.010013723745942116, -0.005527952220290899, -0.00037060980685055256, -0.0298842154443264, 0.009078272618353367, 0.003572294022887945, 0.014954664744436741, -0.00713830953463912, 0.03149143606424332, 0.004548553377389908, 0.010189513675868511, -0.0018504984909668565, -0.02399526722729206, -0.005779080092906952, 0.0014337832108139992, -0.009982332587242126, -0.010497145354747772, -0.034454744309186935, 0.0195251926779747, 0.007835189811885357, 0.000994309433735907, 0.01686323620378971, -0.019123386591672897, -0.0027639761101454496, 0.03701624646782875, -0.028653690591454506, -0.001789286034181714, 0.009348235093057156, 0.01577083021402359, 0.0038202826399356127, -0.018809476867318153, -0.020253462716937065, 0.00046615611063316464, 0.04221459478139877, -0.0001815772266127169, 0.004991166293621063, -0.002531682839617133, 0.04377158731222153, -0.001195211661979556, -0.013096318580210209, -0.0008765932288952172, -0.00018069434736389667, -0.01000116765499115, 0.00196036696434021, 0.01008906215429306, 0.019286619499325752, 0.02100684680044651, 0.011646054685115814, 0.01766684465110302, 0.013887370936572552, 0.0172524843364954, -0.03716692328453064, -0.049045272171497345, 0.019161056727170944, 0.025351358577609062, -0.013209326192736626, -0.0179305300116539, 0.00976259633898735, -0.004630170296877623, 0.03405293822288513, 0.01786774769425392, 0.020102785900235176, 0.0200023353099823, 0.01461564190685749, 0.006008234340697527, -0.005286241415888071, 0.013071205466985703, 0.022149477154016495, 0.03932662308216095, 0.02920617163181305, 0.004520301707088947, 0.004783985670655966, -0.007427106611430645, 0.039251286536455154, 0.017767297104001045, 0.02307865023612976, 0.00459250109270215, 0.029934441670775414, 0.03689068555831909, 0.017265040427446365, 0.020466921851038933, 0.010465754196047783, -0.00021012339857406914, 0.005217181518673897, 0.02515045553445816, -0.021283086389303207, -0.006309587508440018, -0.021144965663552284, -0.005716298241168261, 0.016021957620978355, 0.02379436604678631, -0.009668422862887383, -0.018307222053408623, -0.011664889752864838, -0.0005768093396909535, 0.0011041777906939387, 0.020617598667740822, -0.03357579559087753, 0.008525791577994823, 0.006918572820723057, -0.006196580361574888, 0.011338423006236553, -0.014439851976931095, 0.026267975568771362, 0.01893504150211811, 0.012970753945410252, -0.01775474101305008, -0.6456999778747559, 0.006497933529317379, 0.017566394060850143, 0.0006219338392838836, 0.0003535409632604569, -0.014402183704078197, 0.014377070590853691, 0.014477521181106567, 0.003807726316154003, -0.006224832031875849, 0.015055115334689617, -0.017968198284506798, 0.016637220978736877, -0.010616431012749672, -0.018357446417212486, -0.006011373363435268, -0.007445941213518381, -0.024032937362790108, -0.009360791184008121, 0.003842256497591734, -0.028955042362213135, 0.0017516168300062418, -0.03435429185628891, 0.026519102975726128, -0.004981749225407839, 0.01428917609155178, 0.008751805871725082, -0.002037274884060025, 0.004752594977617264, 0.03018556907773018, -0.029909329488873482, -0.02955774962902069, 0.012832634150981903, -0.015293687582015991, 0.03302331641316414, 0.020994290709495544, -0.00792936235666275, 0.0012517154682427645, 0.006491655483841896, 0.02056737244129181, -0.0016809871885925531, -0.02805098332464695, 0.014967220835387707, -0.0078100766986608505, 0.022300153970718384, -0.0018897372065111995, 0.034253839403390884, -0.0036947187036275864, 0.013636243529617786, -0.01510534156113863, -0.025276020169258118, 0.011784175410866737, 0.007935640402138233, 0.0093042878434062, -0.006962520070374012, 0.02704647183418274, 0.015381582081317902, -0.018043536692857742, -0.0074773323722183704, -0.0005446335417218506, -0.017378048971295357, -0.008105152286589146, -0.006067877169698477, -0.025577373802661896, -0.019952109083533287, 0.011752784252166748, 0.009567971341311932, 0.004853046033531427, 0.02574060671031475, -0.02689579501748085, -0.016197746619582176, 0.02920617163181305, -0.007697069086134434, -0.037443164736032486, 0.012531280517578125, 0.024949554353952408, 0.006177745759487152, -0.004087105859071016, -0.01124425046145916, 0.007935640402138233, -0.015620153397321701, 0.008375114761292934, -0.01384970173239708, -0.017327822744846344, 0.01869647018611431, 0.006388064939528704, -0.014125942252576351, -0.004228365607559681, 0.025790832936763763, 0.01148282177746296, -0.0030245212838053703, 0.026519102975726128, -0.00314380694180727, -0.03568527102470398, -0.014728649519383907, 0.01982654444873333, 0.02085616998374462, 0.007897971197962761, 0.00196036696434021, -0.0028973878361284733, -0.005823027342557907, -0.0047682905569672585, -0.014565416611731052, 0.016900906339287758, 0.033801812678575516, 0.007904249243438244, 0.00544319674372673, -0.0014612502418458462, 0.0170139130204916, -0.0013835575664415956, 0.011426318436861038, -0.011608385480940342, 0.00476515106856823, -0.007885415107011795, 0.0025771998334676027, -0.01917361281812191, 0.02106962725520134, 0.0016778480494394898, -0.009812821634113789, -0.01906060427427292, 0.00568176805973053, -0.011627220548689365, 0.0018818894168362021, -0.019964665174484253, 0.019926996901631355, 0.01683812402188778, 0.018796920776367188, 0.008036091923713684, -0.006419456098228693, -0.022463388741016388, -0.0035283465404063463, -0.016536770388484, 0.012870303355157375, -0.00847556535154581, -0.010949174873530865, -0.00883342232555151, 0.003261523088440299, -0.01236804760992527, 0.008412783965468407, -0.0363382026553154, -0.020316245034337044, -0.02213692106306553, 0.015783386304974556, -0.02174767293035984, -0.025677824392914772, -0.017177145928144455, -0.027322711423039436, 0.0072199259884655476, 0.0028816922567784786, -0.013460453599691391, -0.012380603700876236, -0.02100684680044651, -0.016323311254382133, 0.01659955270588398, -0.0034153389278799295, -0.01102451328188181, 0.01941218413412571, -0.028804367408156395, -0.02438451535999775, -0.010070227086544037, -0.008029813878238201, 0.023304665461182594, -0.02420872636139393, 0.009065715596079826, -0.028452787548303604, -0.025200681760907173, -0.022714516147971153, 0.0170139130204916, -0.01760406419634819, -0.026820456609129906, 0.01810631901025772, 0.025188125669956207, -0.004080827813595533, 0.004991166293621063, -0.009235227480530739, 0.013460453599691391, -0.016900906339287758, -0.01965075545012951, 0.014979776926338673, -0.010528535582125187, -0.023128876462578773, -0.00400862842798233, 0.0027451415080577135, -0.010076506063342094, -0.006962520070374012, 0.021320756524801254, 0.002815771149471402, 0.02438451535999775, 0.00043476512655615807, 0.029758652672171593, 0.024108275771141052, 0.009285452775657177, -0.01662466488778591, -0.007772407494485378, 0.005593873094767332, 0.007157144136726856, 0.01958797313272953, -0.021433763206005096, -0.015908950939774513, -0.001530310488305986, 0.03287263959646225, 0.007822632789611816, -0.0170139130204916, -0.026644667610526085, 0.008236994035542011, -0.004444963298738003, -0.006190301850438118, -0.02639353834092617, 0.0060050953179597855, 0.005603290628641844, 0.03505745157599449, -0.026920907199382782, -0.015469476580619812, -0.020843613892793655, -0.008494400419294834, 0.03184301406145096, -0.030662713572382927, 0.017440831288695335, -0.04045670107007027, 0.0025144177488982677, -0.013837145641446114, -0.012562671676278114, 0.003113985527306795, -0.0031799066346138716, -0.02589128352701664, 0.019788876175880432, 0.033801812678575516, -0.005424362141638994, -0.0027890889905393124, -0.05025068670511246, 0.008984099142253399, 0.04547925665974617, 0.019600529223680496, 0.014351957477629185, 0.0016339006833732128, 0.01592150703072548, 0.007251317147165537, -0.024196170270442963, 0.03540902957320213, -0.02704647183418274, 0.0104594761505723, 0.016436319798231125, 0.0014879326336085796, -0.03967820480465889, 0.03553459420800209, 0.014803987927734852, 0.02887970395386219, -0.0211575236171484, 0.0015821055276319385, -0.0059046437963843346, -0.007885415107011795, 0.020165568217635155, -0.014050603844225407, -0.026117298752069473, 0.02002744749188423, 0.002688637701794505, 0.011558160185813904, 0.0014942107954993844, 0.0174533873796463, 0.034630533307790756, -0.010202069766819477, -0.013636243529617786, 0.009266618639230728, 4.6914807171560824e-05, 0.00026074136258102953, -0.0018583462806418538, 0.006460264325141907, -0.007734738290309906, -0.025527147576212883, -0.0004681180289480835, 0.015482032671570778, -0.00905315950512886, 0.009668422862887383, 0.0028330362401902676, -0.0018599157920107245, 0.03224481642246246, 0.0019336845725774765, 0.010101618245244026, -0.01485421322286129, 0.038397450000047684, -0.03264662250876427, -0.014025491662323475, 0.000674906128551811, 0.028327222913503647, -0.0013505970127880573, -0.030135344713926315, 0.012349212542176247, -0.015017446130514145, -0.027674291282892227, -0.002729445928707719, -0.007753572892397642, 0.01427661906927824, -0.0016072184080258012, -0.007552670780569315, -0.0018426507012918591, 0.02305353805422783, 0.011683723889291286, 0.005851279478520155, 0.015971733257174492, -0.005418083630502224, -0.0017908556619659066, 0.0083876708522439, -0.017629176378250122, -0.010164400562644005, 0.054494746029376984, 0.0172524843364954, -0.027975644916296005, 0.00808003917336464, -0.017001356929540634, 0.0036099629942327738, 0.02857835218310356, -0.019989779219031334, 0.0001229153131134808, -0.011890904977917671, 0.011777897365391254, 0.009178723208606243, 0.022124364972114563, 0.004266034811735153, 0.0340278260409832, 0.008776918984949589, 0.019048048183321953, -0.010020001791417599, -0.0007345490157604218, 0.010848724283277988, 0.08161655813455582, 0.03488166257739067, -0.0016354701947420835, 0.030160456895828247, -0.0034969556145370007, 0.01760406419634819, -0.02458541840314865, -0.008915039710700512, 0.02432173490524292, -0.0026870681904256344, -0.03106451779603958, -0.00954285915941, 0.015670379623770714, -0.012142032384872437, 0.00976259633898735, 0.017717070877552032, -0.009046881459653378, 0.00908455066382885, -0.0033776697237044573, -0.002621147083118558, 0.0008051787153817713, -0.013058649376034737, 0.007759850937873125, 0.010597595945000648, 0.015318799763917923, 0.0005823027458973229, 0.012286431156098843, 0.03257128596305847, -0.005575038492679596, -0.0181691013276577, -0.004419850651174784, 0.00829977635294199, 0.00813654251396656, 0.011401205323636532, -0.02589128352701664, 0.03151654824614525, 0.00471178675070405, -0.02739804983139038, 0.0027467110194265842, -0.01199763361364603, -0.018420228734612465, 0.025401582941412926, 0.013309776782989502, -0.02089383825659752, -0.020881282165646553, -0.04477610066533089, -0.003559737466275692, 0.011300753802061081, -0.013573461212217808, 0.00033529495703987777, -0.0031328201293945312, 0.0015640557976439595, -0.03794541954994202, -0.0174533873796463, 0.009486354887485504, -0.003016673494130373, 0.012688235379755497, 0.02032880112528801, -0.009831655770540237, -0.01893504150211811, 0.00045281494385562837, -0.02218714728951454, -0.010183234699070454, -0.03578571975231171, -0.008375114761292934, -0.00047282667947001755, 0.008036091923713684, 0.0009456533589400351, -0.011916017159819603, 0.023518124595284462, 0.021873237565159798, -0.010898949578404427, -0.015030003152787685, -0.0183700043708086, 0.02491188421845436, 0.005568760447204113, -0.00437904242426157, -0.023957598954439163, -0.01328466460108757, 0.00035020566429011524, -0.003945846576243639, -0.019198725000023842, 0.006268779281526804, -0.048392340540885925, -0.012882859446108341, -0.011143798939883709, -0.020843613892793655, 0.0053364671766757965, -0.02837744913995266, 0.02159699611365795, -0.018445342779159546, 0.007533836178481579, -0.007175978738814592, -0.007464775815606117, 0.0040211849845945835, 0.020617598667740822, 0.007709625642746687, 0.004206391982734203, 0.026795344427227974, -0.020303688943386078, -8.926811278797686e-05, 0.00996977649629116, -0.022588951513171196, -0.01624797284603119, 0.011633498594164848, 0.006196580361574888, 5.110844358569011e-05, 0.0321945920586586, 0.020554816350340843, -0.0010806346544995904, 0.031792789697647095, -0.005003722850233316, 0.003500094637274742, 0.019713537767529488, 0.014929551631212234, -0.009448685683310032, 0.03199369087815285, 0.014088273048400879, 0.027096696197986603, -0.007452219258993864, -0.01090522762387991, -0.05464542284607887, 0.018382560461759567, 0.023266997188329697, -0.02870391495525837, 0.017177145928144455, 0.003867369145154953, -0.01461564190685749, -0.01553225889801979, -0.0213960949331522, -0.01801842451095581, 0.009153611026704311, -0.010220903903245926, -0.02157188393175602, -0.015406694263219833, -0.011068460531532764, 0.02938196063041687, 0.014439851976931095, -0.01784263551235199, 0.001809690147638321, 0.02787519246339798, 0.012656844221055508, 0.014841657131910324, -0.022475944831967354, 0.017214816063642502, -0.03272196277976036, -0.03940196335315704, 0.019801432266831398, 0.003164211055263877, 0.03937685117125511, -0.031642112880945206, 0.011369814164936543, -0.005047670099884272, -0.015369025990366936, 0.036765120923519135, -0.04726226627826691, -0.017302710562944412, -0.0013607991859316826, 0.028352336958050728, 0.02624286152422428, 0.02142120711505413, -0.005141843110322952, 0.0035283465404063463, 0.0004885221715085208, 0.009009212255477905, -0.005176373291760683, -0.007753572892397642, 0.0074773323722183704, -0.009756317362189293, -0.0005403173272497952, 0.013435340486466885, -0.0026760813780128956, -0.0006054536206647754, -0.020692937076091766, 0.042415495961904526, 0.004112218972295523, 0.009906994178891182, 0.006987632717937231, 0.00025014689890667796, -0.0037543615326285362, -0.002027857583016157, 0.020492034032940865, -0.016938574612140656, 0.004319399129599333, -0.04211414232850075, 0.007615452632308006, 0.013548348098993301, 0.02331722341477871, 7.092400483088568e-05, 0.025100231170654297, 0.02669489197432995, 0.0020074534695595503, -0.03440451622009277, -0.022325268015265465, 0.020793387666344643, -0.024874215945601463, 0.003544042119756341, -0.05499700456857681, 0.006598384585231543, 0.0006184023804962635, 0.03272196277976036, 0.005976843181997538, 0.0019258367829024792, -0.020203236490488052, 0.0001600940158823505, 0.011319588869810104, -0.002037274884060025, -0.0044072940945625305, 0.033073540776968, -0.011664889752864838, -0.00954285915941, 0.006516768131405115, -0.019663311541080475, 0.005543647799640894, 0.01624797284603119, 0.010082784108817577, -0.0149421077221632, 0.007157144136726856, -0.018420228734612465, -0.012223648838698864, 0.017202258110046387, 0.002313515404239297, 0.0313156433403492, -0.013987822458148003, 0.021433763206005096, 0.0021863819565624, 0.00406827125698328, -0.016649777069687843, 0.007376881316304207, -0.012958197854459286, -0.009957220405340195, 0.013686468824744225, 0.007169700693339109, 0.027624065056443214, -0.011376092210412025, -0.006243666633963585, -0.0033180268947035074, -0.002406118903309107, -0.014929551631212234, -0.009310565888881683, 0.029683314263820648, 0.0026289948727935553, -0.0035974066704511642, -0.002098487224429846, -0.021710004657506943, 0.04269173741340637, -0.0037920307368040085, 0.009680978953838348, 0.01627308502793312, 0.01145143061876297, -0.011181468144059181, 0.02820166014134884, -0.021973688155412674, 0.0010005875956267118, -0.01923639513552189, -0.008255829103291035, -0.019801432266831398, -0.00714458804577589, -0.023304665461182594, -0.015632709488272667, 0.012512446381151676, 0.008350001648068428, -0.05333955958485603, -0.020366469398140907, 0.02479887753725052, 0.011834400705993176, -0.0029350570403039455, 0.004664700012654066, -0.013322333805263042, 0.02973354049026966, -0.01965075545012951, -0.014653311111032963, 0.007301542907953262, 0.010101618245244026, 0.0016119270585477352, -0.017528725787997246, 0.011865791864693165, -0.016737671568989754, 0.007565226871520281, -0.017855191603302956, 0.002374727977439761, 0.023957598954439163, 0.0037637788336724043, 0.017026469111442566, 0.010440641082823277, -0.03071293793618679, -0.009078272618353367, -0.012405716814100742, -6.94525515427813e-05, -0.016109852120280266, -0.0349821113049984, -0.0006674507749266922, -0.00044928345596417785, -0.002462622709572315, -0.021848125383257866, -0.018056094646453857, -0.0015593471471220255, 0.04794031009078026, -0.02124541811645031, -0.01683812402188778, -0.0163358673453331, -0.015871280804276466, -0.00792936235666275, 0.002933487296104431, -0.01214831043034792, -0.028929930180311203, 0.03455519303679466, -0.02885459177196026, -0.0054620313458144665, 0.011589551344513893, 0.008086317218840122, 0.004548553377389908, -0.010107896290719509, -0.02604196034371853, 0.01418872456997633, -0.027096696197986603, 0.009260340593755245, -0.010541092604398727, -0.03121519461274147, 0.029281510040163994, -0.039577752351760864, 0.002938196063041687, 0.007910528220236301, -0.019161056727170944, 0.00628761388361454, -0.02538902685046196, 0.013925040140748024, -0.0156578216701746, -0.02953263744711876, 0.0010759260039776564, -0.019035492092370987, 0.01170255895704031, -0.015444363467395306, 0.00443240674212575, -0.014402183704078197, -0.021283086389303207, -0.013133987784385681, 0.001696682651527226, -0.02204902656376362, -0.000813811260741204, 0.003305470570921898, -0.012047859840095043, 0.008312332443892956, -0.005433779209852219, -0.021521657705307007, -0.022865192964673042, -0.02035391330718994, -0.011357258073985577, -0.03950241208076477, -0.030486922711133957, -0.010924062691628933, 0.0372171513736248, -0.0034435908310115337, -0.01568293571472168, 0.0005658224690705538, -0.0036884406581521034, -0.05158166587352753, -0.021207747980952263, 0.030336245894432068, -0.005832444876432419, 0.0165744386613369, 0.02704647183418274, -0.003657049499452114, 0.031441207975149155, -0.000558367115445435, 0.0035660157445818186, -0.024936996400356293, -0.020517146214842796, -0.015871280804276466, 0.008318610489368439, 0.0063127269968390465, -0.019989779219031334, -0.03274707496166229, -0.02177278697490692, 0.01950007863342762, -0.02512534335255623, 0.0030041171703487635, 0.022588951513171196, -0.011388649232685566, 0.014201280660927296, -0.0036696060560643673, 0.022149477154016495, -0.0035063729155808687, -0.009235227480530739, 0.006158911157399416, -0.045755498111248016, -0.010917783714830875, -0.013774363324046135, -0.011564438231289387, -0.036262862384319305, 0.022865192964673042, -0.017917973920702934, -0.004109079949557781, 0.012154588475823402, 0.0021910907234996557, -0.0012972323456779122, -0.020040003582835197, -0.009831655770540237, 0.037116698920726776, 0.024045493453741074, -0.029281510040163994, 0.029959553852677345, 0.010968009941279888, -0.0033462787978351116, 0.0015161845367401838, 0.01718970201909542, -0.01644887588918209, -0.018382560461759567, 0.026644667610526085, -0.01636098138988018, -0.011369814164936543, -0.0011826553381979465, 0.01327210757881403, -0.02174767293035984, 0.00656071538105607, -0.005166955757886171, 0.003952124621719122, -0.002523835049942136, 0.005427501164376736, 0.014339401386678219, -0.011250528506934643, -0.005166955757886171, -0.031616996973752975, 0.006055320613086224, 0.018947597593069077, -0.02329210937023163, 0.017880303785204887, -0.02636842615902424, 0.01982654444873333, 0.004783985670655966, -0.002596034435555339, 0.04226481914520264, -0.002596034435555339, 0.01893504150211811, -0.03686556965112686, 0.01451519038528204, 0.1804102659225464, -0.018332334235310555, 0.0003853243251796812, 0.015030003152787685, 0.018834590911865234, 0.00616832822561264, 0.006993911229074001, 0.011087295599281788, -0.012255039997398853, -0.0011065321741625667, 0.006862069014459848, -0.02802586928009987, 0.015369025990366936, 0.00018971925601363182, 0.05198346823453903, -0.031164968386292458, -0.00550283957272768, -0.027096696197986603, -0.008456731215119362, 0.006212275475263596, 0.00037257172516547143, 0.0019415323622524738, -0.025991734117269516, -0.0060835727490484715, 0.03699113428592682, -0.0003741412947420031, -0.010679212398827076, 0.009153611026704311, 0.018382560461759567, 0.014603085815906525, -0.00037060980685055256, -0.012669401243329048, -0.005603290628641844, 0.007967031560838223, -0.009963498450815678, 0.001754755969159305, 0.016109852120280266, -0.002244455274194479, 0.02408316172659397, -0.0019823405891656876, 0.009097106754779816, 0.002043552929535508, 0.006516768131405115, -0.013246995396912098, 0.021735116839408875, 0.017039025202393532, 0.0051010348834097385, -0.005615847185254097, -0.030135344713926315, 0.013648799620568752, -0.013334889896214008, 0.013171656988561153, 0.0014722371706739068, 0.03053714893758297, -0.021345868706703186, -0.000727093662135303, -0.01223620492964983, 0.012958197854459286, 0.020994290709495544, 0.013912484049797058, -0.019299177452921867, 0.02305353805422783, -0.004670978523790836, 0.028929930180311203, 0.017126919701695442, 0.013623686507344246, -0.00019442790653556585, 0.012612896971404552, 0.007515001576393843, -0.010101618245244026, 0.010679212398827076, 1.865065860329196e-05, -0.009228949435055256, -0.007590339984744787, -0.0028142016381025314, -0.005851279478520155, 0.020014891400933266, 0.021710004657506943, 0.011250528506934643, 0.02467331290245056, -0.034956999123096466, -0.020755717530846596, 0.002680789912119508, -0.0018928763456642628, 0.013447897508740425, -0.02488677203655243, 0.0340278260409832, -0.01303353626281023, 0.015934063121676445, -0.0012077681021764874, -0.02222481556236744, -0.01651165820658207, -0.010045114904642105, -0.004262895788997412, 0.022915417328476906, 0.007119474932551384, -0.006479098927229643, 0.008456731215119362, -0.017855191603302956, 0.010214625857770443, -0.014540303498506546, 0.05228482186794281, 0.022475944831967354, 0.004865602590143681, -0.005936034955084324, 0.0005446335417218506, -0.01169000193476677, 0.011256806552410126, -0.006410039030015469, -0.005166955757886171, 0.029155945405364037, -0.02707158401608467, 0.0158587247133255, -0.0013239147374406457, 0.00287070544436574, 0.022450830787420273, 0.0025834778789430857, -0.0345049686729908, -0.0036601887550204992, -0.00725759519264102, -0.025941507890820503, -0.015356468968093395, 0.020203236490488052, 0.006918572820723057, 0.009768874384462833, -0.005173234269022942, 0.004394737537950277, 0.0039175949059426785, -0.02325444109737873, 0.013397672213613987, 0.0047212038189172745, -0.024484967812895775, 0.010817333124577999, 0.00021208533144090325, -0.01666233316063881, -0.013196769170463085, 0.005151260178536177, 0.009486354887485504, 0.006585828494280577, 0.008356279693543911, -0.009706092067062855, -0.00656071538105607, 0.005069643724709749, -0.001657443935982883, 0.024547748267650604, -0.01941218413412571, 0.009046881459653378, 0.010628987103700638, -0.013020980171859264, -0.02970842644572258, -0.0011206581257283688, -0.021785343065857887, -0.0022711376659572124, -0.011118686757981777, 0.004802820272743702, 0.007389437407255173, -0.00032607384491711855, -0.02032880112528801, 0.014703536406159401, -0.026267975568771362, 0.0013474579900503159, 0.0160972960293293, 0.02530113235116005, 0.005094756837934256, 0.009341957047581673, -0.005907783284783363, -0.153489351272583, 0.008412783965468407, 0.042063917964696884, -0.02124541811645031, 0.01810631901025772, -0.019550304859876633, 0.0195251926779747, 0.013322333805263042, 0.0048907152377069, 0.00920383632183075, 0.018834590911865234, -0.007445941213518381, -0.011564438231289387, -0.02669489197432995, -0.006780452560633421, 0.007389437407255173, 0.004212670028209686, -0.0017641732702031732, 0.0170139130204916, 0.025288576260209084, 0.031968578696250916, -0.023806922137737274, 0.02366880141198635, 0.001319990842603147, 0.017327822744846344, 0.003252105787396431, -0.015306243672966957, 0.013586017303168774, -0.000642730388790369, -0.009605640545487404, -0.004096523392945528, 0.009015490300953388, 0.02641865238547325, -0.010365302674472332, -0.01127564162015915, 0.03616241365671158, -0.002817340660840273, -0.009549137204885483, -0.003146946197375655, 0.02621774934232235, 0.026971133425831795, 0.016976244747638702, -0.005279963370412588, -0.019952109083533287, 0.01718970201909542, -0.019512634724378586, 0.012010190635919571, 0.00117637705989182, 0.011853235773742199, -0.030512036755681038, 0.0014439852675423026, 0.020404139533638954, 0.009015490300953388, 4.350594099378213e-05, -0.0059580085799098015, -0.008795753121376038, -0.009756317362189293, 0.001632331172004342, -0.004887576214969158, 0.00212673912756145, 0.010051392950117588, -0.0036790233571082354, -0.0009056298877112567, -0.002501861425116658, -0.02790030650794506, -0.014741205610334873, -0.011903461068868637, -0.010490866377949715, -0.010735716670751572, 0.011231694370508194, -0.010252295061945915, 0.004353929311037064, 0.008764362893998623, -0.016875792294740677, -0.007941918447613716, 0.014151055365800858, -0.015080228447914124, -0.0011771619319915771, 0.0028424535412341356, 0.011658611707389355, -0.0004885221715085208, 0.0012948780786246061, -0.0071948133409023285, -0.0011598968412727118, 0.000684323429595679, 0.014891882427036762, -0.005716298241168261, -0.008557181805372238, -0.01648654416203499, -0.008858535438776016, 0.021057071164250374, -0.0184076726436615, -0.02338000386953354, 0.005314493551850319, 0.020203236490488052, 0.006667444948107004, 0.005430640187114477, -0.00404001958668232, 0.0027451415080577135, -0.01337255910038948, -0.01831977814435959, 0.0156578216701746, -0.012638010084629059, -0.00043084126082248986, 0.013221882283687592, 0.015720603987574577, 0.0021722561214119196, 0.007056693080812693, 0.024861659854650497, 0.02076827548444271, -0.025790832936763763, -0.013297220692038536, 0.018884815275669098, 0.007998422719538212, 0.01090522762387991, 0.02636842615902424, 0.03581083565950394, -0.004893854260444641, 0.00932312197983265, 0.014063160866498947, 0.05125519633293152, -0.01869647018611431, -0.0011308601824566722, 0.019462410360574722, 0.015080228447914124, -0.06087339669466019, -0.12305265665054321, -0.010258573107421398, 0.012870303355157375, 0.02887970395386219, 0.0012885999167338014, -0.005923478398472071, -0.0065795499831438065, -0.007489888463169336, 0.01568293571472168, 0.02562759816646576, -0.02674511820077896, -0.02242571860551834, -0.021634666249155998, -0.04218948259949684, -0.00629389239475131, -0.019813988357782364, -0.008663911372423172, -0.00983793381601572, -0.014113386161625385, 0.011489099822938442, -0.006485376972705126, -0.019474966451525688, -0.003412199905142188, -0.00668627955019474, -0.01967586763203144, 0.010647821240127087, -0.021998800337314606, 0.01318421307951212, 0.00014616426778957248, 0.0012681956868618727, -0.023631133139133453, -0.01799331232905388, 0.04085850343108177, -0.02737293764948845, 0.038271885365247726, 0.0010665087029337883, -0.002462622709572315, -0.02565271221101284, 0.01627308502793312, -0.014176168479025364, -0.013171656988561153, 0.028251884505152702, 0.013397672213613987, -0.03987910598516464, 0.017566394060850143, -0.0195628609508276, -0.03470586985349655, 0.005035113543272018, -0.00110967131331563, -0.00619971938431263, -0.018395116552710533, -0.007427106611430645, -0.027674291282892227, -0.02553970366716385, 0.03166722506284714, 0.004554831888526678, 0.009800264611840248, -0.02207413874566555, -0.02491188421845436, 0.006052181590348482, -0.0007078666822053492, -0.0037826134357601404, -0.01993955299258232, 0.018156545236706734, 0.005597012583166361, -0.015494589693844318, -0.018118875101208687, 0.013096318580210209, 0.03719203546643257, -0.025941507890820503, -0.012474777176976204, -0.008105152286589146, -0.0195628609508276, 0.022852636873722076, -0.006818121764808893, -0.01618519052863121, -0.036112189292907715, 0.010691769421100616, 0.0033996435813605785, 0.006428873632103205, -0.025815945118665695, -0.013786920346319675, -0.005851279478520155, -0.021973688155412674, 0.0025285438168793917, 0.016348423436284065, 0.00039905786979943514, -0.0186085756868124, 0.025665268301963806, -0.032621510326862335, 0.016373537480831146, 0.054344069212675095, -0.010836167261004448, 0.016147522255778313, 0.006962520070374012, 0.001241513411514461, -0.025602485984563828, 0.0051795123144984245, -0.002316654659807682, 0.011307031847536564, -0.005367858335375786, -0.0005646453355439007, -0.03119008056819439, 0.00883342232555151, 0.01603451371192932, 0.0039489855989813805, 0.015268574468791485, 0.030286021530628204, 0.013435340486466885, -0.014879326336085796, -0.008689024485647678, 0.006491655483841896, 0.015783386304974556, 0.03340000659227371, 0.0027985062915831804, -0.01145143061876297, -0.03468075767159462, 0.005527952220290899, 0.015369025990366936, -0.013385115191340446, 0.003074746811762452, 0.010999400168657303, -0.017390605062246323, 0.0013772794045507908, 0.005279963370412588, 0.024936996400356293, 0.0035565984435379505, 0.003923872951418161, -0.0009166167001239955, 0.006843234412372112, -0.003115555038675666, -0.010377858765423298, 0.004325677640736103, -0.01941218413412571, -0.0036099629942327738, -0.0047996812500059605, -0.018093762919306755, -0.00014900907990522683, -0.005521674174815416, 0.03254617005586624, 0.007496166974306107, 0.038774143904447556, -0.006585828494280577, -0.02532624639570713, 0.016888348385691643, -0.03736782819032669, -0.011313310824334621, -0.013046092353761196, -0.017553837969899178, -0.010063949041068554, -0.007062971126288176, -0.01621030457317829, 0.04578061029314995, 0.010823611170053482, -0.000816165586002171, -0.010195791721343994, -0.031642112880945206, -0.019135942682623863, 0.021534213796257973, 0.02292797528207302, 0.0031014292035251856, -0.03900015726685524, 0.03232015669345856, 0.019751206040382385, -0.0015985858626663685, -0.011872069910168648, -0.018570905551314354, -0.022086696699261665, -0.0081490995362401, -0.01461564190685749, -0.022601507604122162, -0.01831977814435959, -0.006956242024898529, 0.017804965376853943, 0.005917200352996588, 0.0032395494636148214, 0.01337255910038948, 0.006874625571072102, 0.005446335766464472, 0.01592150703072548, -0.001921128248795867, 0.023543236777186394, 0.013485566712915897, 0.023806922137737274, -0.007665678393095732, 0.033073540776968, 0.02985910326242447, 0.007062971126288176, 0.009448685683310032, 0.020140454173088074, -0.02837744913995266, -0.013925040140748024, 0.0028644271660596132, 0.008054926060140133, 4.5369779400061816e-05, 0.009467520751059055, -0.012757295742630959, 0.015494589693844318, -0.011859513819217682, 0.015871280804276466, 0.010013723745942116, 0.010302520357072353, 0.009090828709304333, 0.001988618867471814, -0.004451241344213486, 0.013008423149585724, -0.022601507604122162, -0.0011771619319915771, -0.011263084597885609, -0.03631309047341347, 0.00015538536536041647, 0.024070605635643005, 0.0011889335000887513, -0.003559737466275692, 0.02464820072054863, -0.013925040140748024, -0.025263464078307152, 0.008544625714421272, 0.010829889215528965, 0.0024359403178095818, -0.006184023804962635, 0.01790541782975197, -0.006529324688017368, -0.010968009941279888, 0.04068271443247795, -0.012619175016880035, -0.005505978595465422, 0.007527557667344809, 0.03513278812170029, -0.022764740511775017, -0.003945846576243639, 0.011978799477219582, -0.011985077522695065, -0.008061204105615616, 0.008739249780774117, -0.010924062691628933, 0.020077673718333244, -0.012255039997398853, 0.007332933600991964, 0.032947976142168045, 0.005396110005676746, 0.04974843189120293, 0.021446319296956062, -0.012644288130104542, -0.013686468824744225, 0.01303353626281023, 0.024284064769744873, 0.014703536406159401, 0.017114363610744476, -0.018118875101208687, 0.0037637788336724043, 0.01751616969704628, 0.017352934926748276, -0.0031218333169817924, -0.011338423006236553, -0.01993955299258232, 0.009712370112538338, -0.007401993963867426, 0.017616620287299156, -0.004783985670655966, 0.017767297104001045, 0.03535880520939827, -0.043897151947021484, 0.015004890039563179, 0.023241885006427765, -0.018872259184718132, -0.008915039710700512, 0.010076506063342094, 0.009819099679589272, -0.02366880141198635, -0.03889970853924751, 0.012531280517578125, -0.016674891114234924, -0.03563504293560982, -0.00784146785736084, -0.027096696197986603, -0.007690791040658951, 0.012355491518974304, -0.021936019882559776, 0.01352323591709137, 0.03337489441037178, 0.00771590368822217, 0.023153988644480705, -0.03415339067578316, -0.03169233724474907, -0.033776696771383286, -0.003046494908630848, -0.0029397655744105577, -0.018596017733216286, -0.011269362643361092]\n"
     ]
    }
   ],
   "source": [
    "print(result)"
   ]
  },
  {
   "cell_type": "code",
   "execution_count": 67,
   "id": "k8uucErLTxbE",
   "metadata": {
    "colab": {
     "base_uri": "https://localhost:8080/",
     "height": 458
    },
    "id": "k8uucErLTxbE",
    "outputId": "4e229115-d286-45c0-91eb-2d3b29ea3616"
   },
   "outputs": [
    {
     "data": {
      "text/html": [
       "<div>\n",
       "<style scoped>\n",
       "    .dataframe tbody tr th:only-of-type {\n",
       "        vertical-align: middle;\n",
       "    }\n",
       "\n",
       "    .dataframe tbody tr th {\n",
       "        vertical-align: top;\n",
       "    }\n",
       "\n",
       "    .dataframe thead th {\n",
       "        text-align: right;\n",
       "    }\n",
       "</style>\n",
       "<table border=\"1\" class=\"dataframe\">\n",
       "  <thead>\n",
       "    <tr style=\"text-align: right;\">\n",
       "      <th></th>\n",
       "      <th>0</th>\n",
       "    </tr>\n",
       "  </thead>\n",
       "  <tbody>\n",
       "    <tr>\n",
       "      <th>0</th>\n",
       "      <td>-0.028528</td>\n",
       "    </tr>\n",
       "    <tr>\n",
       "      <th>1</th>\n",
       "      <td>0.007251</td>\n",
       "    </tr>\n",
       "    <tr>\n",
       "      <th>2</th>\n",
       "      <td>0.015645</td>\n",
       "    </tr>\n",
       "    <tr>\n",
       "      <th>3</th>\n",
       "      <td>-0.024736</td>\n",
       "    </tr>\n",
       "    <tr>\n",
       "      <th>4</th>\n",
       "      <td>0.011539</td>\n",
       "    </tr>\n",
       "    <tr>\n",
       "      <th>...</th>\n",
       "      <td>...</td>\n",
       "    </tr>\n",
       "    <tr>\n",
       "      <th>1531</th>\n",
       "      <td>-0.033777</td>\n",
       "    </tr>\n",
       "    <tr>\n",
       "      <th>1532</th>\n",
       "      <td>-0.003046</td>\n",
       "    </tr>\n",
       "    <tr>\n",
       "      <th>1533</th>\n",
       "      <td>-0.002940</td>\n",
       "    </tr>\n",
       "    <tr>\n",
       "      <th>1534</th>\n",
       "      <td>-0.018596</td>\n",
       "    </tr>\n",
       "    <tr>\n",
       "      <th>1535</th>\n",
       "      <td>-0.011269</td>\n",
       "    </tr>\n",
       "  </tbody>\n",
       "</table>\n",
       "<p>1536 rows × 1 columns</p>\n",
       "</div><br><label><b>dtype:</b> float64</label>"
      ],
      "text/plain": [
       "0      -0.028528\n",
       "1       0.007251\n",
       "2       0.015645\n",
       "3      -0.024736\n",
       "4       0.011539\n",
       "          ...   \n",
       "1531   -0.033777\n",
       "1532   -0.003046\n",
       "1533   -0.002940\n",
       "1534   -0.018596\n",
       "1535   -0.011269\n",
       "Length: 1536, dtype: float64"
      ]
     },
     "execution_count": 67,
     "metadata": {},
     "output_type": "execute_result"
    }
   ],
   "source": [
    "import pandas as pd\n",
    "pd.Series(result)"
   ]
  },
  {
   "cell_type": "markdown",
   "id": "ybNNtgaeU8a6",
   "metadata": {
    "id": "ybNNtgaeU8a6"
   },
   "source": [
    "# Query the vector store for HyDE\n",
    "\n",
    "Before delving into the HyDE technique, it’s essential to understand how to query the vector store to retrieve relevant information\n",
    "\n",
    "Define the search query as a string. This specifies the information we’re looking for in the vector store.\n",
    "\n",
    "Call the similarity_search method on the vectorstore object. This method performs the actual search within the vector store"
   ]
  },
  {
   "cell_type": "code",
   "execution_count": 72,
   "id": "0_tZ9iikUQZl",
   "metadata": {
    "colab": {
     "base_uri": "https://localhost:8080/"
    },
    "id": "0_tZ9iikUQZl",
    "outputId": "41eb446b-42ad-4e9c-e37c-4d142fcd61de"
   },
   "outputs": [
    {
     "data": {
      "text/plain": [
       "[Document(metadata={'page': 4, 'source': 'Improvingaccuracyofpretrainedwordembeddingsforsentimentanalysis.pdf'}, page_content='3. Proposed method \\nIn our proposed method, Improved Word Vector (IWV) we have increased the accuracy of word embedding \\nvectors based on the combination of natural language processing techniques, lexicon -based approaches \\nand Word2Vec/GloVe methods which have high accuracies. The main architecture of the proposed method \\nhas been shown in figure 1. \\n \\nFigure1: The main architecture of the proposed method (Improved word vector) \\n \\n3.1. Word2Vec and GloVe \\nWord2Vec and GloVe are two successful word embedding algorithms which have high accuracy. Word2Vec \\nis based on continuous Bag-of-Words (CBOW) and Skip-gram architectures which can provide high quality \\nword embedding vectors. CBOW predicts a word given its context and S kip-gram can predict the context \\ngiven a word. The generated vectors of words which appear in common contexts in the corpus are located \\nclose to each other  in the vector space. GloVe word embedding is a global log-bilinear regression model  \\nand is based on co- occurrence and factorization of matrix  in order to get vectors. In this study, we used \\n300-dimension word2vec embeddings trained on Google News and 300-dimension GloVe word \\nembeddings.'),\n",
       " Document(metadata={'page': 5, 'source': 'Improvingaccuracyofpretrainedwordembeddingsforsentimentanalysis.pdf'}, page_content='3.2. POS2Vec (P2V) \\nPart-of-speech (POS) tagging is an important and fundamental step in Natural Language Processing which \\nis the process of assigning to each word of a text the proper POS tag.  The Part-of-speech gives large \\namount of information about a word and its neighbors, syntactic categories of words ( nouns, verbs, \\nadjectives, adverbs, etc.) and similarities and dissimilarities between them. We converted each generated \\nPOS tag to a constant vector and concatenated with Word2Vec/GloVe vectors.  We assigned 50-\\ndimensional vectors to each word. As a result, Word2Vec/Glov e vectors will have syntactic information of \\nwords. \\n \\n3.3. Lexicon2Vec (L2V) \\nThe sentiment and emotion lexicons are lists of phrases and words which have polarity scores and can be \\nused to analyze texts. Each lexicon contains of words and their values which are the sentiment scores for \\nthat words. There are various sentiment and emotion lexicons that can be used, but choosing the proper \\nlexicon is very important. W e selected six lexicons as our resources and assigned 6-dimensional vectors \\nto each word. \\n \\n• National Research Council Canada (NRC) Emoticon Affirmative Context Lexicon and NRC \\nEmoticon Negated Context Lexicon [30,31,32]. \\n• NRC Hashtag Affirmative Context Sentiment Lex icon and NRC Hashtag Negated Context \\nSentiment Lexicon [30,31,32]. \\n• NRC Emoticon Lexicon [30,31,32]. \\n• NRC Hashtag Sentiment Lexicon [30,31,32]. \\n• SemEval-2015 English Twitter Sentiment Lexicon [33,31]. \\n• Amazon Laptop Sentiment Lexicon [34]. \\n \\nFinding the proper combination of lexicons is not easy and plays a vital role in sentiment analysis. We \\ntested various lexicons and selected six of them as one of the best combination.  \\nAlgorithm 1 shows the process of our proposed method. It gets a sentence and returns  improved word \\nvectors of the sentence.  In the first step, assign a constant vector to each POS tag. In the second step, \\neach word vector of the input sentence is extracted from Word2Vec or GloVe datasets and if a word doesn’t \\nexist in the datasets its vector will generate randomly. In the third step, POS tag of each word is determined \\nand assign a constant vector to each one.  In the next step, sentiment scores of each word are extracted \\nfrom all lexicons and will normalize them. If a word doesn’t exist in any lexicons, its score will be zero. The \\ngenerated vectors from each step will be concatenated with other vectors from previous steps.'),\n",
       " Document(metadata={'page': 1, 'source': 'Improvingaccuracyofpretrainedwordembeddingsforsentimentanalysis.pdf'}, page_content=\"sentiment analysis because of their abilities to capture the syntactic and semantic relations among words. \\nThe two successful deep learning methods of word embeddings are Word2Vec [1,2] and Global Vectors \\n(GloVe) [3]. Many researchers have used these two methods in their sentiment analysis research [4,5,6,7]. \\nAlthough very effective, these methods have s everal limits and need to be improved. The Word2Vec and \\nGloVe need very large corpuses for training and presenting an acceptable vector for each word [8,6]. For \\nexample, Google has used about 100 billion words for training Word2Vec algorithms  and has re-released \\npre-trained word vectors with 300 dimensions. Because of the smal l size of some datasets, investigators \\nhave to use pre-trained word vectors such as Word2Vec and GloVe, which may not be the best fit for their \\ndata [9,10,11,12,13,14,15]. Another problem is that the word vector calculations  of the two methods that \\nare used to represent a document do not consider the context of the document [16]. For example, the word \\nvector for “beetle” as a car is equal to its word vector as an animal.  In addition, both models ignore the \\nrelationships between terms that do not literally co-occur [16]. Also, Cerisara et al. [17] have found that the \\nstandard Word2Vec word embedding techniques don't bring valuable information for dialogue act \\nrecognition in three different languages . Another important problem of these word embedding techniques  \\nis ignoring the sentiment information of the given  text [6,7,8]. The side effect of this problem is that th ose \\nwords with opposite polarity are mapped into close vectors and it is a disaster for sentiment analysis [4]. \\nIn this research, we propose a novel method to improve the accuracy of pre- trained Word2Vec/Glove \\nvectors in sentiment analysis tasks. The proposed method was tested by different sentiment datasets and \\nvarious deep learning models from published papers.  The results show that the method increases the \\naccuracy of pre-trained word embeddings vectors for sentiment analysis. The organization of this paper is \\nas follows: Section 2 describes the related works and literature review for this research. Section 3 presents \\nour proposed method and algorithm, and additionally  describes the proposed deep learning model for \\ntesting the method. Section 4 reports our experiments , showing results along with evaluations  and \\ndiscussions. Section 5 is the conclusion and future works. \\n \\n \\n2. Related Works \\n2.1. Lexicon-based method \\nSentiment classification techniques are mainly divided into lexicon-based methods and machine learning \\nmethods such as Deep Learning [18,19]. The lexicon-based sentiment analysis approach is typically based \\non lists of words and phrases with positive and negative connotations [20,21,22]. This approach needs a \\ndictionary of negative and positive sentiment values  assigned to words . These methods are simple, \\nscalable, and computationally efficient. As a result, they are mostly used to solve general sentiment analysis \\nproblems [18]. However, lexicon-based methods depend on human effort in human-labeled documents [19]\"),\n",
       " Document(metadata={'page': 12, 'source': 'Improvingaccuracyofpretrainedwordembeddingsforsentimentanalysis.pdf'}, page_content='References \\n \\n[1] T. Mikolov, I. Sutskever, K. Chen, G. Corrado, J. Dean, Distributed representations of words and phrases \\nand their compositionality,  In: Proceedings of the 26th International Conference on Neural Information \\nProcessing Systems. 2 (2013) 3111-3119. \\n[2] T. Mikolov, K. Chen, G. Corrado, J. Dean, Efficient estimation of word representations in vector space, \\nICLR Workshop. (2013). \\n[3] J. Pennington, R. Socher, C. Manning, GloVe: Global Vectors for Word Representation, In: Proceedings \\nof the 2014 Conference on Empirical Methods in Natural Language Processing (EMNLP). (2014) 1532–\\n1543. \\n[4] D. Tang, F. Wei, N. Yang, M. Zhou, T.  Liu, b. Qin,  Learning Sentiment-Specific Word Embedding for \\nTwitter Sentiment Classification,  In: Proceedings of the 52nd Annual Meeting of the Association for \\nComputational Linguistics. 1 (2014) 1555–1565. \\n[5] X. Fu, W. Liu, Y. Xu, L. Cui, Combine HowNet lexicon to train phrase recursive autoencoder for \\nsentence-level sentiment analysis, Neurocomputing. 241 (2017) 18-27. \\n[6] O. Araque, I. Corcuera- Platas, J. Sánchez -Rada, A. Iglesias, Enhancing deep learning sentiment \\nanalysis with ensemble techniques in social applications, Expert Systems with Applications. 77 (2017) 236-\\n246. \\n[7] Y. Ren, R. Wang, D. Ji, A topic -enhanced word embedding for Twitter sentiment classification, \\nInformation Sciences. 369 (2016) 188-198. \\n[8] M. Giatsoglou, M. Vozalis, K. Diamantaras, A. Vakali, G. Sarigiannidis, K. Chatzisavvas, Sentiment \\nanalysis leveraging emotions and word embeddings, Expert Systems with Applications. 69 (2017) 214-224. \\n[9] Y. Kim, Convolutional Neural Networks for Sentence Classification, In:  Proceedings of the 2014 \\nConference on Empirical Methods in Natural Language Processing (EMNLP). (2014) 1746- 1751. \\n[10] Y. Zhang, B. Wallace, A Sensitivity Analysis of (and Practitioners’ Guide to) Convolutional Neural \\nNetworks for Sentence Classification, arXiv, 1510.03820v4. (2015) \\n[11] J. Camacho- Collados, M. Pilehvar, R. Navigli, Nasari: Integrating explicit knowle dge and corpus \\nstatistics for a multilingual representation of concepts and entities, Artificial Intelligence. 24 (2016) 36-64. \\n[12] A. Caliskan, J.J. Bryson, A. Narayanan, Semantics derived automatically from language corpora \\ncontain human-like biases, Science. 356 (2017) 183-186. \\n[13] Y. Wang, M. Huang, L. Zhao, X. Zhu, Attention-based LSTM for Aspect-level Sentiment Classification, \\nIn: Proceedings of the 2016 Conference on Empirical Methods in Natural Language Processing. (2106) \\n606-615. \\n[14] M. Iyyer, V . Manjunatha, J. Boyd- Graber, H. Daume, Deep Unordered Composition Rivals Syntactic \\nMethods for Text Classification, In: Proceedings of the 53rd Annual Meeting of the Association for \\nComputational Linguistics and the 7th International Joint Conference on Natural Language Processing. 1 \\n(2015) 1681-1691. \\n[15] Y. Liu, B. Liu, L. Shan, X. Wang, Modelling Context with Neural Networks for Recommending Idioms \\nin Essay Writing, Neurocomputing. (2017) doi:10.1016/j.neucom.2017.11.005  \\n[16] M. Kamkarhaghighi, M. Makrehchi, Content Tree Word Embedding for document representation, \\nExpert Systems with Applications. 90 (2017) 241-249. \\n[17] C. Cerisara, P. Kral, L. Lenc, On the effects of using word2vec representations in neural networks for \\ndialogue act recognition, Computer Speech & Language. 47 (2018) 175-193.')]"
      ]
     },
     "execution_count": 72,
     "metadata": {},
     "output_type": "execute_result"
    }
   ],
   "source": [
    "query = \"What is  Word2Vec, and why do we need it?\"\n",
    "vectorstore.similarity_search(query)"
   ]
  },
  {
   "cell_type": "code",
   "execution_count": 74,
   "id": "APU2EDd0Wk9l",
   "metadata": {
    "colab": {
     "base_uri": "https://localhost:8080/"
    },
    "id": "APU2EDd0Wk9l",
    "outputId": "39910f4b-af9c-49d4-951f-b0a53248c532"
   },
   "outputs": [
    {
     "data": {
      "text/plain": [
       "[Document(metadata={'page': 1, 'source': 'Attention_is_all_you_need.pdf'}, page_content='1 Introduction\\nRecurrent neural networks, long short-term memory [13] and gated recurrent [7] neural networks\\nin particular, have been firmly established as state of the art approaches in sequence modeling and\\ntransduction problems such as language modeling and machine translation [ 35, 2, 5]. Numerous\\nefforts have since continued to push the boundaries of recurrent language models and encoder-decoder\\narchitectures [38, 24, 15].\\nRecurrent models typically factor computation along the symbol positions of the input and output\\nsequences. Aligning the positions to steps in computation time, they generate a sequence of hidden\\nstates ht, as a function of the previous hidden state ht−1 and the input for position t. This inherently\\nsequential nature precludes parallelization within training examples, which becomes critical at longer\\nsequence lengths, as memory constraints limit batching across examples. Recent work has achieved\\nsignificant improvements in computational efficiency through factorization tricks [21] and conditional\\ncomputation [32], while also improving model performance in case of the latter. The fundamental\\nconstraint of sequential computation, however, remains.\\nAttention mechanisms have become an integral part of compelling sequence modeling and transduc-\\ntion models in various tasks, allowing modeling of dependencies without regard to their distance in\\nthe input or output sequences [2, 19]. In all but a few cases [27], however, such attention mechanisms\\nare used in conjunction with a recurrent network.\\nIn this work we propose the Transformer, a model architecture eschewing recurrence and instead\\nrelying entirely on an attention mechanism to draw global dependencies between input and output.\\nThe Transformer allows for significantly more parallelization and can reach a new state of the art in\\ntranslation quality after being trained for as little as twelve hours on eight P100 GPUs.\\n2 Background\\nThe goal of reducing sequential computation also forms the foundation of the Extended Neural GPU\\n[16], ByteNet [18] and ConvS2S [9], all of which use convolutional neural networks as basic building\\nblock, computing hidden representations in parallel for all input and output positions. In these models,\\nthe number of operations required to relate signals from two arbitrary input or output positions grows\\nin the distance between positions, linearly for ConvS2S and logarithmically for ByteNet. This makes\\nit more difficult to learn dependencies between distant positions [ 12]. In the Transformer this is\\nreduced to a constant number of operations, albeit at the cost of reduced effective resolution due\\nto averaging attention-weighted positions, an effect we counteract with Multi-Head Attention as\\ndescribed in section 3.2.\\nSelf-attention, sometimes called intra-attention is an attention mechanism relating different positions\\nof a single sequence in order to compute a representation of the sequence. Self-attention has been\\nused successfully in a variety of tasks including reading comprehension, abstractive summarization,\\ntextual entailment and learning task-independent sentence representations [4, 27, 28, 22].\\nEnd-to-end memory networks are based on a recurrent attention mechanism instead of sequence-\\naligned recurrence and have been shown to perform well on simple-language question answering and\\nlanguage modeling tasks [34].\\nTo the best of our knowledge, however, the Transformer is the first transduction model relying\\nentirely on self-attention to compute representations of its input and output without using sequence-\\naligned RNNs or convolution. In the following sections, we will describe the Transformer, motivate\\nself-attention and discuss its advantages over models such as [17, 18] and [9].\\n3 Model Architecture\\nMost competitive neural sequence transduction models have an encoder-decoder structure [5, 2, 35].\\nHere, the encoder maps an input sequence of symbol representations (x1, ..., xn) to a sequence\\nof continuous representations z = (z1, ..., zn). Given z, the decoder then generates an output\\nsequence (y1, ..., ym) of symbols one element at a time. At each step the model is auto-regressive\\n[10], consuming the previously generated symbols as additional input when generating the next.\\n2'),\n",
       " Document(metadata={'page': 12, 'source': 'Attention_is_all_you_need.pdf'}, page_content='Attention Visualizations\\nInput-Input Layer5\\nIt\\nis\\nin\\nthis\\nspirit\\nthat\\na\\nmajority\\nof\\nAmerican\\ngovernments\\nhave\\npassed\\nnew\\nlaws\\nsince\\n2009\\nmaking\\nthe\\nregistration\\nor\\nvoting\\nprocess\\nmore\\ndifficult\\n.\\n<EOS>\\n<pad>\\n<pad>\\n<pad>\\n<pad>\\n<pad>\\n<pad>\\nIt\\nis\\nin\\nthis\\nspirit\\nthat\\na\\nmajority\\nof\\nAmerican\\ngovernments\\nhave\\npassed\\nnew\\nlaws\\nsince\\n2009\\nmaking\\nthe\\nregistration\\nor\\nvoting\\nprocess\\nmore\\ndifficult\\n.\\n<EOS>\\n<pad>\\n<pad>\\n<pad>\\n<pad>\\n<pad>\\n<pad>\\nFigure 3: An example of the attention mechanism following long-distance dependencies in the\\nencoder self-attention in layer 5 of 6. Many of the attention heads attend to a distant dependency of\\nthe verb ‘making’, completing the phrase ‘making...more difficult’. Attentions here shown only for\\nthe word ‘making’. Different colors represent different heads. Best viewed in color.\\n13'),\n",
       " Document(metadata={'page': 2, 'source': 'Attention_is_all_you_need.pdf'}, page_content='Figure 1: The Transformer - model architecture.\\nThe Transformer follows this overall architecture using stacked self-attention and point-wise, fully\\nconnected layers for both the encoder and decoder, shown in the left and right halves of Figure 1,\\nrespectively.\\n3.1 Encoder and Decoder Stacks\\nEncoder: The encoder is composed of a stack of N = 6 identical layers. Each layer has two\\nsub-layers. The first is a multi-head self-attention mechanism, and the second is a simple, position-\\nwise fully connected feed-forward network. We employ a residual connection [11] around each of\\nthe two sub-layers, followed by layer normalization [ 1]. That is, the output of each sub-layer is\\nLayerNorm(x + Sublayer(x)), where Sublayer(x) is the function implemented by the sub-layer\\nitself. To facilitate these residual connections, all sub-layers in the model, as well as the embedding\\nlayers, produce outputs of dimension dmodel = 512.\\nDecoder: The decoder is also composed of a stack of N = 6identical layers. In addition to the two\\nsub-layers in each encoder layer, the decoder inserts a third sub-layer, which performs multi-head\\nattention over the output of the encoder stack. Similar to the encoder, we employ residual connections\\naround each of the sub-layers, followed by layer normalization. We also modify the self-attention\\nsub-layer in the decoder stack to prevent positions from attending to subsequent positions. This\\nmasking, combined with fact that the output embeddings are offset by one position, ensures that the\\npredictions for position i can depend only on the known outputs at positions less than i.\\n3.2 Attention\\nAn attention function can be described as mapping a query and a set of key-value pairs to an output,\\nwhere the query, keys, values, and output are all vectors. The output is computed as a weighted sum\\n3'),\n",
       " Document(metadata={'page': 14, 'source': 'Attention_is_all_you_need.pdf'}, page_content='Input-Input Layer5\\nThe\\nLaw\\nwill\\nnever\\nbe\\nperfect\\n,\\nbut\\nits\\napplication\\nshould\\nbe\\njust\\n-\\nthis\\nis\\nwhat\\nwe\\nare\\nmissing\\n,\\nin\\nmy\\nopinion\\n.\\n<EOS>\\n<pad>\\nThe\\nLaw\\nwill\\nnever\\nbe\\nperfect\\n,\\nbut\\nits\\napplication\\nshould\\nbe\\njust\\n-\\nthis\\nis\\nwhat\\nwe\\nare\\nmissing\\n,\\nin\\nmy\\nopinion\\n.\\n<EOS>\\n<pad>\\nInput-Input Layer5\\nThe\\nLaw\\nwill\\nnever\\nbe\\nperfect\\n,\\nbut\\nits\\napplication\\nshould\\nbe\\njust\\n-\\nthis\\nis\\nwhat\\nwe\\nare\\nmissing\\n,\\nin\\nmy\\nopinion\\n.\\n<EOS>\\n<pad>\\nThe\\nLaw\\nwill\\nnever\\nbe\\nperfect\\n,\\nbut\\nits\\napplication\\nshould\\nbe\\njust\\n-\\nthis\\nis\\nwhat\\nwe\\nare\\nmissing\\n,\\nin\\nmy\\nopinion\\n.\\n<EOS>\\n<pad>\\nFigure 5: Many of the attention heads exhibit behaviour that seems related to the structure of the\\nsentence. We give two such examples above, from two different heads from the encoder self-attention\\nat layer 5 of 6. The heads clearly learned to perform different tasks.\\n15')]"
      ]
     },
     "execution_count": 74,
     "metadata": {},
     "output_type": "execute_result"
    }
   ],
   "source": [
    "query = \"What is  encoder, and why do we need it?\"\n",
    "vectorstore.similarity_search(query)"
   ]
  },
  {
   "cell_type": "markdown",
   "id": "ViJY7uPrWjPX",
   "metadata": {
    "id": "ViJY7uPrWjPX"
   },
   "source": [
    "# Generate a hypothetical document\n",
    "\n",
    "In this step, a hypothetical document is generated using a defined prompt template\n",
    "\n",
    "A system message is defined as a prompt template to generate informative responses based on the context. It sets the tone for the AI language model to provide helpful and knowledgeable answers.\n",
    "\n",
    "A prompt template is created using ChatPromptTemplate.from_messages. It consists of two messages:\n",
    "\n",
    "System message: Defined above, it provides instructions and context to the AI language model.\n",
    "\n",
    "Human message: Placeholder for the user’s question.\n",
    "\n",
    "An AI language model (LLM) instance is initialized using ChatOpenAI. We specify the GPT-3.5 model and set the temperature to 0 for deterministic responses.\n",
    "\n",
    "The context for generating the answer is set up by chaining the prompt template, LLM, and string output parser (StrOutputParser).\n",
    "\n",
    "The context chain is invoked with the user’s question, \"What is LangSmith, and why do we need it?\" The response generated by the LLM is stored in the answer variable.\n",
    "\n",
    "The generated answer is printed."
   ]
  },
  {
   "cell_type": "code",
   "execution_count": 75,
   "id": "H0clmVUaVRUc",
   "metadata": {
    "id": "H0clmVUaVRUc"
   },
   "outputs": [],
   "source": [
    "system = \"\"\"\n",
    "As a knowledgeable and helpful research assistant, your task is to provide informative answers based on the given context.\n",
    "Use your extensive knowledge base to offer clear, concise, and accurate responses to the user's inquiries.\n",
    "Question: {question}\n",
    "Answer:\n",
    "\"\"\"\n",
    "\n",
    "prompt = ChatPromptTemplate.from_messages(\n",
    "    [\n",
    "        (\"system\", system),\n",
    "        (\"human\", \"{question}\"),\n",
    "    ]\n",
    ")\n",
    "\n",
    "llm = ChatOpenAI(model=\"gpt-4o-mini\", temperature=0)\n",
    "\n",
    "context = prompt | llm | StrOutputParser()\n"
   ]
  },
  {
   "cell_type": "code",
   "execution_count": 76,
   "id": "mFSnpeGCXakc",
   "metadata": {
    "colab": {
     "base_uri": "https://localhost:8080/"
    },
    "id": "mFSnpeGCXakc",
    "outputId": "201dd98d-3870-4fbb-d2a1-910b3df7b717"
   },
   "outputs": [
    {
     "name": "stdout",
     "output_type": "stream",
     "text": [
      "Topic segmentation is the process of dividing a text or discourse into segments that each focus on a specific topic or theme. This technique is commonly used in natural language processing, information retrieval, and text analysis to improve the organization and understanding of content.\n",
      "\n",
      "We need topic segmentation for several reasons:\n",
      "\n",
      "1. **Improved Comprehension**: By breaking down a text into manageable segments, readers can better understand and retain information, as each segment focuses on a single idea.\n",
      "\n",
      "2. **Enhanced Navigation**: In longer documents or conversations, topic segmentation allows users to quickly locate relevant sections, making it easier to navigate through the content.\n",
      "\n",
      "3. **Content Summarization**: Segmented topics can be summarized more effectively, allowing for the creation of concise overviews that capture the essence of each segment.\n",
      "\n",
      "4. **Information Retrieval**: In search engines and databases, topic segmentation helps improve the accuracy of search results by allowing algorithms to match queries with relevant segments of text.\n",
      "\n",
      "5. **Facilitating Analysis**: Researchers and analysts can more easily identify patterns, trends, and relationships within the text when it is organized by topic.\n",
      "\n",
      "Overall, topic segmentation is essential for enhancing the usability and accessibility of textual information.\n"
     ]
    }
   ],
   "source": [
    "answer = context.invoke(\n",
    "    {\n",
    "        \"What is topic segmentation, and why do we need it?\"\n",
    "    }\n",
    ")\n",
    "\n",
    "print(answer)"
   ]
  },
  {
   "cell_type": "code",
   "execution_count": 78,
   "id": "2xaYfnpeXq6z",
   "metadata": {
    "colab": {
     "base_uri": "https://localhost:8080/"
    },
    "id": "2xaYfnpeXq6z",
    "outputId": "7b67d1b1-e2f1-473b-b791-e576c7cb4c50"
   },
   "outputs": [
    {
     "name": "stdout",
     "output_type": "stream",
     "text": [
      "In the Transformer architecture, the Encoder is a crucial component designed to process input data, typically sequences such as sentences in natural language processing tasks. The Encoder consists of multiple layers, each containing two main sub-layers: a multi-head self-attention mechanism and a feed-forward neural network. \n",
      "\n",
      "### Functions of the Encoder:\n",
      "1. **Self-Attention Mechanism**: This allows the model to weigh the importance of different words in the input sequence relative to each other. It helps the model understand context and relationships between words, regardless of their position in the sequence.\n",
      "\n",
      "2. **Feed-Forward Neural Network**: After the self-attention step, the output is passed through a feed-forward neural network, which applies non-linear transformations to the data, enhancing its representational power.\n",
      "\n",
      "3. **Positional Encoding**: Since Transformers do not inherently understand the order of sequences, positional encodings are added to the input embeddings to provide information about the position of each word in the sequence.\n",
      "\n",
      "### Why We Need the Encoder:\n",
      "- **Contextual Representation**: The Encoder transforms the input sequence into a set of continuous representations that capture the contextual relationships between words, which is essential for understanding meaning in language.\n",
      "\n",
      "- **Parallelization**: Unlike RNNs, which process sequences sequentially, the Encoder processes all tokens in parallel, leading to faster training and inference times.\n",
      "\n",
      "- **Scalability**: The architecture can be scaled up by adding more layers or attention heads, allowing it to learn more complex patterns and relationships in the data.\n",
      "\n",
      "Overall, the Encoder is vital for converting raw input data into a structured format that can be effectively utilized by the subsequent components of the Transformer, such as the Decoder in tasks like machine translation or text generation.\n"
     ]
    }
   ],
   "source": [
    "answer = context.invoke(\n",
    "    {\n",
    "        \"What is Encoder in Transformer architecture, and why do we need it?\"\n",
    "    }\n",
    ")\n",
    "\n",
    "print(answer)"
   ]
  },
  {
   "cell_type": "code",
   "execution_count": 79,
   "id": "f9tqJNxgX0T2",
   "metadata": {
    "colab": {
     "base_uri": "https://localhost:8080/"
    },
    "id": "f9tqJNxgX0T2",
    "outputId": "7a074ec4-3457-4c0d-b140-243ab6b3580e"
   },
   "outputs": [
    {
     "name": "stdout",
     "output_type": "stream",
     "text": [
      "Word2Vec is a popular algorithm used in natural language processing (NLP) to create word embeddings, which are dense vector representations of words. Developed by a team led by Tomas Mikolov at Google in 2013, Word2Vec uses neural networks to learn the relationships between words based on their context in large text corpora.\n",
      "\n",
      "There are two main architectures for Word2Vec:\n",
      "\n",
      "1. **Continuous Bag of Words (CBOW)**: This model predicts a target word based on its surrounding context words.\n",
      "2. **Skip-Gram**: This model does the opposite; it predicts the surrounding context words given a target word.\n",
      "\n",
      "### Why do we need Word2Vec?\n",
      "\n",
      "1. **Semantic Understanding**: Word2Vec captures semantic relationships between words, allowing similar words to have similar vector representations. For example, the vectors for \"king\" and \"queen\" will be closer together than those for \"king\" and \"apple.\"\n",
      "\n",
      "2. **Dimensionality Reduction**: Traditional methods of representing words (like one-hot encoding) can lead to high-dimensional and sparse vectors. Word2Vec provides a way to represent words in a lower-dimensional space, making computations more efficient.\n",
      "\n",
      "3. **Improved Performance**: By using word embeddings, machine learning models can achieve better performance on various NLP tasks, such as sentiment analysis, translation, and information retrieval, because the embeddings capture more nuanced meanings of words.\n",
      "\n",
      "4. **Transfer Learning**: Word2Vec embeddings can be pre-trained on large datasets and then fine-tuned for specific tasks, allowing models to leverage knowledge from vast amounts of text data.\n",
      "\n",
      "Overall, Word2Vec is a foundational technique in NLP that enhances the ability of machines to understand and process human language.\n"
     ]
    }
   ],
   "source": [
    "answer = context.invoke(\n",
    "    {\n",
    "        \"What is  Word2Vec, and why do we need it?\"\n",
    "    }\n",
    ")\n",
    "\n",
    "print(answer)"
   ]
  },
  {
   "cell_type": "markdown",
   "id": "AH_KJA0wYm0X",
   "metadata": {
    "id": "AH_KJA0wYm0X"
   },
   "source": [
    "# Return the hypothetical document and original question\n",
    "\n",
    "Finally, the hypothetical document and the original question are returned using the HyDE chain.\n",
    "\n",
    "A chain is created using RunnablePassthrough to pass the hypothetical document and the original question through the HyDE system.\n",
    "\n",
    "The chain is invoked with a dictionary containing the user’s question, \"What is topic segmentation, and why do we need it?\". This triggers the execution of the chain, which processes the question along with the hypothetical document."
   ]
  },
  {
   "cell_type": "code",
   "execution_count": 80,
   "id": "6iURWDLnYNNe",
   "metadata": {
    "colab": {
     "base_uri": "https://localhost:8080/"
    },
    "id": "6iURWDLnYNNe",
    "outputId": "7c65fcd8-e758-49cb-f4c9-d3f546b1a391"
   },
   "outputs": [
    {
     "data": {
      "text/plain": [
       "{'question': 'What is topic segmentation, and why do we need it?',\n",
       " 'hypothetical_document': 'Topic segmentation is the process of dividing a text or discourse into segments that each focus on a specific topic or theme. This technique is commonly used in natural language processing (NLP) and information retrieval to enhance the understanding and organization of content.\\n\\nWe need topic segmentation for several reasons:\\n\\n1. **Improved Comprehension**: By breaking down a text into manageable segments, readers can better understand and retain information, as each segment addresses a distinct topic.\\n\\n2. **Efficient Information Retrieval**: In large documents or datasets, topic segmentation allows for quicker access to relevant information, making it easier to locate specific topics without having to read through the entire text.\\n\\n3. **Content Organization**: It helps in structuring content for better navigation, especially in long articles, reports, or books, allowing readers to jump to sections of interest.\\n\\n4. **Enhanced Summarization**: Topic segmentation aids in creating summaries by identifying key themes and topics, which can be useful for generating concise overviews of larger texts.\\n\\n5. **Facilitating Machine Learning**: In machine learning applications, topic segmentation can improve the performance of algorithms that rely on understanding the structure and context of text data.\\n\\nOverall, topic segmentation is essential for enhancing readability, facilitating information access, and improving the efficiency of text processing tasks.'}"
      ]
     },
     "execution_count": 80,
     "metadata": {},
     "output_type": "execute_result"
    }
   ],
   "source": [
    "chain = RunnablePassthrough.assign(hypothetical_document=context)\n",
    "\n",
    "chain.invoke(\n",
    "    {\n",
    "        \"question\": \"What is topic segmentation, and why do we need it?\"\n",
    "    }\n",
    ")"
   ]
  },
  {
   "cell_type": "code",
   "execution_count": 81,
   "id": "_SSSv3gbZGFa",
   "metadata": {
    "colab": {
     "base_uri": "https://localhost:8080/"
    },
    "id": "_SSSv3gbZGFa",
    "outputId": "b1caf372-eaed-4f29-c0ea-82a3f8dedded"
   },
   "outputs": [
    {
     "data": {
      "text/plain": [
       "{'question': 'What is Encoder in Transformer architecture, and why do we need it?',\n",
       " 'hypothetical_document': 'In the Transformer architecture, the Encoder is a crucial component designed to process input data, typically sequences such as sentences in natural language processing tasks. The Encoder consists of multiple layers, each containing two main sub-layers: a multi-head self-attention mechanism and a feed-forward neural network. \\n\\n### Functions of the Encoder:\\n1. **Self-Attention Mechanism**: This allows the model to weigh the importance of different words in the input sequence relative to each other. It helps the model understand context and relationships between words, regardless of their position in the sequence.\\n\\n2. **Feed-Forward Neural Network**: After the self-attention layer, the output is passed through a feed-forward neural network, which applies non-linear transformations to the data, enhancing its representational power.\\n\\n3. **Positional Encoding**: Since the Transformer does not inherently understand the order of sequences, positional encodings are added to the input embeddings to provide information about the position of each word in the sequence.\\n\\n### Why We Need the Encoder:\\n- **Contextual Representation**: The Encoder transforms the input sequence into a set of continuous representations that capture the contextual relationships between words, which is essential for understanding meaning in language.\\n\\n- **Parallelization**: Unlike recurrent neural networks (RNNs), which process sequences sequentially, the Encoder processes all words in the input simultaneously, allowing for faster training and inference.\\n\\n- **Scalability**: The architecture can be scaled up by adding more layers or attention heads, improving performance on complex tasks without a significant increase in computational cost.\\n\\nOverall, the Encoder is vital for converting raw input data into a structured format that can be effectively utilized by the subsequent components of the Transformer, such as the Decoder in tasks like machine translation or text generation.'}"
      ]
     },
     "execution_count": 81,
     "metadata": {},
     "output_type": "execute_result"
    }
   ],
   "source": [
    "chain.invoke(\n",
    "    {\n",
    "        \"question\": \"What is Encoder in Transformer architecture, and why do we need it?\"\n",
    "    }\n",
    ")"
   ]
  },
  {
   "cell_type": "code",
   "execution_count": 82,
   "id": "IkW85I2rZbm7",
   "metadata": {
    "colab": {
     "base_uri": "https://localhost:8080/"
    },
    "id": "IkW85I2rZbm7",
    "outputId": "0279d361-1a3d-4273-f8a0-3ae6bfaf3531"
   },
   "outputs": [
    {
     "data": {
      "text/plain": [
       "{'question': 'What is  Word2Vec, and why do we need it?',\n",
       " 'hypothetical_document': 'Word2Vec is a popular technique in natural language processing (NLP) that transforms words into numerical vectors in a continuous vector space. Developed by a team led by Tomas Mikolov at Google in 2013, Word2Vec uses neural networks to learn word associations from a large corpus of text. The key idea is that words that appear in similar contexts tend to have similar meanings, which is captured in the vector representations.\\n\\nThere are two main architectures used in Word2Vec:\\n\\n1. **Continuous Bag of Words (CBOW)**: This model predicts a target word based on its surrounding context words.\\n2. **Skip-Gram**: This model does the opposite; it predicts the surrounding context words given a target word.\\n\\n### Why do we need Word2Vec?\\n\\n1. **Semantic Understanding**: Word2Vec captures semantic relationships between words, allowing for better understanding of word meanings and relationships. For example, it can recognize that \"king\" is to \"queen\" as \"man\" is to \"woman.\"\\n\\n2. **Dimensionality Reduction**: It reduces the dimensionality of text data, transforming high-dimensional sparse representations (like one-hot encoding) into dense vectors, which are more efficient for computation.\\n\\n3. **Improved Performance**: By using vector representations, machine learning models can perform better on various NLP tasks, such as sentiment analysis, translation, and information retrieval.\\n\\n4. **Transfer Learning**: Word2Vec embeddings can be pre-trained on large datasets and then fine-tuned for specific tasks, saving time and resources in training models from scratch.\\n\\nOverall, Word2Vec is a foundational tool in NLP that enhances the ability of machines to understand and process human language.'}"
      ]
     },
     "execution_count": 82,
     "metadata": {},
     "output_type": "execute_result"
    }
   ],
   "source": [
    "chain.invoke(\n",
    "    {\n",
    "        \"question\": \"What is  Word2Vec, and why do we need it?\"\n",
    "    }\n",
    ")"
   ]
  },
  {
   "cell_type": "code",
   "execution_count": null,
   "id": "lpg_vYHVZlC3",
   "metadata": {
    "id": "lpg_vYHVZlC3"
   },
   "outputs": [],
   "source": []
  }
 ],
 "metadata": {
  "colab": {
   "provenance": []
  },
  "kernelspec": {
   "display_name": "Python 3 (ipykernel)",
   "language": "python",
   "name": "python3"
  },
  "language_info": {
   "codemirror_mode": {
    "name": "ipython",
    "version": 3
   },
   "file_extension": ".py",
   "mimetype": "text/x-python",
   "name": "python",
   "nbconvert_exporter": "python",
   "pygments_lexer": "ipython3",
   "version": "3.11.7"
  }
 },
 "nbformat": 4,
 "nbformat_minor": 5
}
